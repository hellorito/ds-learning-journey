{
 "cells": [
  {
   "cell_type": "markdown",
   "id": "285636c0",
   "metadata": {},
   "source": [
    "# Python for Data Science - Data Handling"
   ]
  },
  {
   "cell_type": "markdown",
   "id": "0d681604",
   "metadata": {},
   "source": [
    "<h2>Table of Contents</h2>\n",
    "<div class=\"alert alert-block alert-info\" style=\"margin-top: 20px\">\n",
    "    <ul>\n",
    "    <li>\n",
    "    <a href=\"#data\">Working with Data</a>\n",
    "        <ul>\n",
    "        <li>\n",
    "            <a href=\"#read\">Reading Files</a>\n",
    "                <ul>\n",
    "                <li><a href=\"#open\">Open</a></li>\n",
    "                </ul>\n",
    "        </li>\n",
    "        <li>\n",
    "            <a href=\"#write\">Writing Files</a>\n",
    "                <ul>\n",
    "                <li><a href=\"#append\">Appending Files</a></li>\n",
    "                </ul>\n",
    "        </li>\n",
    "        <li>\n",
    "            <a href=\"#pd\">Pandas</a>\n",
    "        </li>\n",
    "        <li>\n",
    "            <a href=\"#np\">Numpy</a>\n",
    "                <ul>\n",
    "                <li><a href=\"#ndarray\">NumPy Array</a></li>\n",
    "                <li><a href=\"#vec\">Vectorized Computation</a></li>\n",
    "                <li><a href=\"#dot\">Dot Product (Matrix Multiplication)</a></li>\n",
    "                </ul>\n",
    "        </li>\n",
    "        </ul>\n",
    "    <li>    \n",
    "    <a href=\"#collect\">Data Collection</a>\n",
    "        <ul>\n",
    "        <li><a href=\"#api\">API</a></li>\n",
    "        <li><a href=\"#rest\">REST API</a></li>\n",
    "        <li><a href=\"#requests\">Requests</a></li>\n",
    "        <li><a href=\"#web\">Web Scraping</a></li>\n",
    "        </ul>\n",
    "    </ul>\n",
    "    </li>\n",
    "</div>\n",
    "\n",
    "<hr>"
   ]
  },
  {
   "cell_type": "markdown",
   "id": "f26f464f",
   "metadata": {},
   "source": [
    "<a id=\"data\"></a>\n",
    "## **Working with data**"
   ]
  },
  {
   "cell_type": "markdown",
   "id": "0541056a",
   "metadata": {},
   "source": [
    "<a id=\"read\"></a>\n",
    "### Reading Files\n",
    "\n",
    "Reading files with Python is straightforward and can be done in several ways depending on the file type and your needs.\n"
   ]
  },
  {
   "cell_type": "markdown",
   "id": "a95be200",
   "metadata": {},
   "source": [
    "<a id=\"open\"></a>\n",
    "#### Open\n",
    "\n",
    "We can use built-in function <code>open('path/filename.txt', mode)</code>, the mode argument is optional.\n",
    "\n",
    "The following table provides examples of different file modes.\n",
    "\n",
    "|Mode|Meaning|Description|\n",
    "|----|----------|-------|\n",
    "|'r'|Read (text)|Default mode. Opens file for reading. File must exist|\n",
    "|'w'|Write (text)|Opens file for writing. Overwrites file if it exists, or creates a new one|\n",
    "|'a'|Append (text)|Opens file for writing. Appends to the end if the file exists|\n",
    "|'r+'|Read and write (text)|Opens file for both reading and writing. File must exist|\n",
    "|'rb'|Read (binary)|Opens file in binary read mode. Useful for images, videos, etc|\n",
    "|'wb'|Write (binary)|Opens file in binary write mode. Overwrites or creates new file|\n",
    "|'ab'|Append (binary)|Opens binary file for appending|\n",
    "|'rb+'|Read and write (binary)|Opens binary file for both reading and writing. File must exist.|\n",
    "\n",
    "\n",
    "\n",
    "Notes:\n",
    "\n",
    "- **Text mode** reads/writes strings\n",
    "- **Binary mode** reads/writes bytes (b'')\n",
    "- Use **newline=''** when reading/writing CSV files to avoid issues with line breaks (especially on Windows)."
   ]
  },
  {
   "cell_type": "code",
   "execution_count": 4,
   "id": "b348f43b",
   "metadata": {},
   "outputs": [
    {
     "name": "stdout",
     "output_type": "stream",
     "text": [
      "First 500 characters:\n",
      "*** START OF THE PROJECT GUTENBERG EBOOK 11 ***\n",
      "\n",
      "[Illustration]\n",
      "\n",
      "\n",
      "\n",
      "\n",
      "Alice’s Adventures in Wonderland\n",
      "\n",
      "by Lewis Carroll\n",
      "\n",
      "THE MILLENNIUM FULCRUM EDITION 3.0\n",
      "\n",
      "Contents\n",
      "\n",
      " CHAPTER I.     Down the Rabbit-Hole\n",
      " CHAPTER II.    The Pool of Tears\n",
      " CHAPTER III.   A Caucus-Race and a Long Tale\n",
      " CHAPTER IV.    The Rabbit Sends in a Little Bill\n",
      " CHAPTER V.     Advice from a Caterpillar\n",
      " CHAPTER VI.    Pig and Pepper\n",
      " CHAPTER VII.   A Mad Tea-Party\n",
      " CHAPTER VIII.  The Queen’s Croquet-Ground\n",
      " CHAPTER IX.    The\n"
     ]
    }
   ],
   "source": [
    "import requests\n",
    "\n",
    "# Read from remote file\n",
    "url = \"https://www.gutenberg.org/files/11/11-0.txt\"\n",
    "response = requests.get(url)\n",
    "\n",
    "if response.status_code == 200: # Check if the request was successful\n",
    "    text = response.text # text content of the file\n",
    "    print(\"First 500 characters:\")\n",
    "    print(text[:500])  # Print first 500 characters\n",
    "else:\n",
    "    print(\"Failed to retrieve file.\")"
   ]
  },
  {
   "cell_type": "code",
   "execution_count": 5,
   "id": "a2a9f761",
   "metadata": {},
   "outputs": [
    {
     "name": "stdout",
     "output_type": "stream",
     "text": [
      "Content saved to alice.txt\n"
     ]
    }
   ],
   "source": [
    "# Write to a local file alice.txt\n",
    "with open(\"data/alice.txt\", \"w\", encoding=\"utf-8\") as file:\n",
    "    file.write(text) # write the content to the file\n",
    "\n",
    "print(\"Content saved to alice.txt\")"
   ]
  },
  {
   "cell_type": "code",
   "execution_count": 6,
   "id": "9409679a",
   "metadata": {},
   "outputs": [
    {
     "name": "stdout",
     "output_type": "stream",
     "text": [
      "First 100 characters from local file:\n",
      "*** START OF THE PROJECT GUTENBERG EBOOK 11 ***\n",
      "\n",
      "[Illustration]\n",
      "\n",
      "\n",
      "\n",
      "\n",
      "Alice’s Adventures in Wonderland\n",
      "Last line from local file:\n",
      "*** END OF THE PROJECT GUTENBERG EBOOK 11 ***\n",
      "Total number of lines in alice.txt: 3384\n",
      "Lines 500 to 505 from local file:\n",
      "\n",
      "“I know what ‘it’ means well enough, when _I_ find a thing,” said the\n",
      "Duck: “it’s generally a frog or a worm. The question is, what did the\n",
      "archbishop find?”\n",
      "\n",
      "The Mouse did not notice this question, but hurriedly went on, “‘—found\n",
      "Total number of characters in alice.txt: 144796\n"
     ]
    }
   ],
   "source": [
    "# Read from local file\n",
    "with open(\"data/alice.txt\", \"r\", encoding=\"utf-8\") as file:\n",
    "    content = file.read(100)\n",
    "    print(\"First 100 characters from local file:\")\n",
    "    print(content)\n",
    "\n",
    "    # read last line from the file\n",
    "    print(\"Last line from local file:\")\n",
    "    for line in file:\n",
    "        pass\n",
    "    print(line.strip())  # Read and print the last line\n",
    "\n",
    "    # Read all lines and save them in a list\n",
    "    file.seek(0)  # Reset file pointer to the beginning\n",
    "    lines = file.readlines()\n",
    "    print(\"Total number of lines in alice.txt:\", len(lines))\n",
    "    # Print 500 to 505 lines from the file\n",
    "    print(\"Lines 500 to 505 from local file:\")\n",
    "    for i in range(500, 506):\n",
    "        print(lines[i].strip())\n",
    "\n",
    "    # Print total number of characters in the file\n",
    "    file.seek(0)\n",
    "    print(\"Total number of characters in alice.txt:\", len(content) + len(file.read()))\n"
   ]
  },
  {
   "cell_type": "code",
   "execution_count": 7,
   "id": "152f2edb",
   "metadata": {},
   "outputs": [
    {
     "name": "stdout",
     "output_type": "stream",
     "text": [
      "data/alice.txt\n",
      "r\n",
      "True\n"
     ]
    }
   ],
   "source": [
    "print(file.name)\n",
    "print(file.mode)\n",
    "print(file.closed) # Check if the file is closed  "
   ]
  },
  {
   "cell_type": "markdown",
   "id": "e68f8e15",
   "metadata": {},
   "source": [
    "##### 🔍 `with open(...)` vs `file = open(...)` in Python\n",
    "\n",
    "| Feature            | `with open(...) as file:`                      | `file = open(...)`                      |\n",
    "|--------------------|------------------------------------------------|-----------------------------------------|\n",
    "| File closing       | Automatically closed after the block        | Must call `file.close()` manually     |\n",
    "| Error handling     | Safer: handles exceptions automatically     | Risk of file staying open on error    |\n",
    "| Recommended        | Yes – Pythonic and clean                    | Not recommended for general use       |\n",
    "| Syntax             | Concise and structured                      | More verbose and error-prone          |\n",
    "| Best for           | Reading/writing safely                      | Quick one-time scripts or tests       |\n",
    "\n",
    "##### Example \n",
    "```python\n",
    "with open(\"example.txt\", \"r\") as file:\n",
    "    content = file.read()\n",
    "# file is automatically closed here\n",
    "\n",
    "file = open(\"example.txt\", \"r\")\n",
    "content = file.read()\n",
    "file.close()  # You must remember to close it!\n",
    " ```"
   ]
  },
  {
   "cell_type": "markdown",
   "id": "2fd1281f",
   "metadata": {},
   "source": [
    "<a id=\"write\"></a>\n",
    "### Writing Files\n",
    "\n",
    "In Python, you can write files using the built-in <code>open()</code> function in combination with the <code>write()</code> or <code>writelines()</code> methods."
   ]
  },
  {
   "cell_type": "markdown",
   "id": "e6345284",
   "metadata": {},
   "source": [
    "- <code>'w'</code> mode creates the file if it doesn’t exist, and overwrites the exsiting content if it does."
   ]
  },
  {
   "cell_type": "code",
   "execution_count": 8,
   "id": "a371079c",
   "metadata": {},
   "outputs": [
    {
     "name": "stdout",
     "output_type": "stream",
     "text": [
      "Content written to example.txt\n",
      "Content of example.txt:\n",
      "Hello, world!\n",
      "This is a second line.\n",
      "This is a third line.\n"
     ]
    }
   ],
   "source": [
    "with open(\"data/example.txt\", \"w\") as filewrite:\n",
    "    filewrite.write(\"Hello, world!\\n\")\n",
    "    filewrite.write(\"This is a second line.\\n\")\n",
    "    filewrite.write(\"This is a third line.\\n\")\n",
    "    print(\"Content written to example.txt\")\n",
    "# Read from example.txt\n",
    "with open(\"data/example.txt\", \"r\") as filewrite:\n",
    "    print(\"Content of example.txt:\")\n",
    "    for line in filewrite:\n",
    "        print(line.strip())  # Print each line without extra newlines"
   ]
  },
  {
   "cell_type": "markdown",
   "id": "e469688f",
   "metadata": {},
   "source": [
    "It's fairly ineffecient to open the file in a **w** mode and then reopening it in **r** to read any lines.\n",
    "\n",
    "- <code>'w+'</code> mode allows you to write and read in the same block. Truncates the file. You must seek(0) to read from the beginning."
   ]
  },
  {
   "cell_type": "code",
   "execution_count": 9,
   "id": "be968e23",
   "metadata": {},
   "outputs": [
    {
     "name": "stdout",
     "output_type": "stream",
     "text": [
      "Content of example.txt:\n",
      "Hello, world!\n",
      "This is a second line.\n",
      "This is a third line.\n"
     ]
    }
   ],
   "source": [
    "with open(\"data/example.txt\", \"w+\") as filewrite:\n",
    "    filewrite.write(\"Hello, world!\\n\")\n",
    "    filewrite.write(\"This is a second line.\\n\")\n",
    "    filewrite.write(\"This is a third line.\\n\")\n",
    "    filewrite.seek(0)  # Reset file pointer to the beginning\n",
    "    print(\"Content of example.txt:\")\n",
    "    for line in filewrite:\n",
    "        print(line.strip())  # Print each line without extra newlines\n"
   ]
  },
  {
   "cell_type": "markdown",
   "id": "cd8e872e",
   "metadata": {},
   "source": [
    "- <code>'r+'</code> mode: read and write from begining, file must exists, no truncation."
   ]
  },
  {
   "cell_type": "code",
   "execution_count": 10,
   "id": "ca997258",
   "metadata": {},
   "outputs": [
    {
     "name": "stdout",
     "output_type": "stream",
     "text": [
      "Content of example.txt in read mode:\n",
      "Hello, world!\n",
      "This is a second line.\n",
      "This is a third line.\n",
      "Content of example.txt after writing in read+ mode:\n",
      "Hello, world!\n",
      "This is a second line.\n",
      "This is a third line.\n",
      "\n",
      "This is a new line added in read+ mode.\n"
     ]
    }
   ],
   "source": [
    "# Read and write in 'r+' mode\n",
    "with open(\"data/example.txt\", \"r+\") as filewrite:\n",
    "    content = filewrite.read()\n",
    "    print(\"Content of example.txt in read mode:\")\n",
    "    print(content.strip())  # Print the entire content without extra newlines\n",
    "    filewrite.write(\"\\nThis is a new line added in read+ mode.\\n\")  # Write at the end\n",
    "    filewrite.seek(0)  # Reset file pointer to the beginning\n",
    "    print(\"Content of example.txt after writing in read+ mode:\")\n",
    "    for line in filewrite:\n",
    "        print(line.strip())  # Print each line without extra newlines"
   ]
  },
  {
   "cell_type": "markdown",
   "id": "7b79019c",
   "metadata": {},
   "source": [
    "<a id=\"append\"></a>\n",
    "#### Appending Files\n",
    "\n",
    "- <code>'a'</code> mode adds content to the end of the file without losing any of the exsiting data.\n",
    "- <code>'a+'</code> mode allows you to append and read, keeps file intact. But you must seek(0) to read from the beginning."
   ]
  },
  {
   "cell_type": "code",
   "execution_count": 11,
   "id": "dcefbc94",
   "metadata": {},
   "outputs": [
    {
     "name": "stdout",
     "output_type": "stream",
     "text": [
      "Content appended to example.txt\n",
      "Content of example.txt after appending:\n",
      "Hello, world!\n",
      "This is a second line.\n",
      "This is a third line.\n",
      "\n",
      "This is a new line added in read+ mode.\n",
      "This is an appended line.\n"
     ]
    }
   ],
   "source": [
    "with open(\"data/example.txt\", \"a\") as filewrite:\n",
    "    filewrite.write(\"This is an appended line.\\n\")\n",
    "    print(\"Content appended to example.txt\")\n",
    "# Read from example.txt after appending\n",
    "with open(\"data/example.txt\", \"r\") as filewrite:\n",
    "    print(\"Content of example.txt after appending:\")\n",
    "    for line in filewrite:\n",
    "        print(line.strip())  # Print each line without extra newlines"
   ]
  },
  {
   "cell_type": "code",
   "execution_count": 12,
   "id": "9454fb11",
   "metadata": {},
   "outputs": [
    {
     "name": "stdout",
     "output_type": "stream",
     "text": [
      "Content of example.txt after another append:\n",
      "Hello, world!\n",
      "This is a second line.\n",
      "This is a third line.\n",
      "\n",
      "This is a new line added in read+ mode.\n",
      "This is an appended line.\n",
      "This is another appended line.\n"
     ]
    }
   ],
   "source": [
    "with open(\"data/example.txt\", \"a+\") as filewrite:\n",
    "    filewrite.write(\"This is another appended line.\\n\")\n",
    "    filewrite.seek(0)  # Reset file pointer to the beginning\n",
    "    print(\"Content of example.txt after another append:\")\n",
    "    for line in filewrite:\n",
    "        print(line.strip())  # Print each line without extra newlines"
   ]
  },
  {
   "cell_type": "markdown",
   "id": "6ed8d596",
   "metadata": {},
   "source": [
    "The following table shows the difference among **r+**, **w+**, and **a+**.\n",
    "\n",
    "\n",
    "| Mode | Read | Write | File Must Exist | Truncates File | Write Starts At | Can Overwrite | Can Append |\n",
    "|------|------|-------|------------------|----------------|------------------|----------------|-------------|\n",
    "| `r+` | ✅    | ✅     | ✅ Yes           | ❌ No           | 🔼 Beginning (seekable) | ✅ Yes         | ✅ Yes (with `seek(0,2)`) |\n",
    "| `w+` | ✅    | ✅     | ❌ No            | ✅ Yes          | 🔼 Beginning         | ✅ Yes         | ❌ No, truncate to zero length once open files |\n",
    "| `a+` | ✅    | ✅     | ❌ No            | ❌ No           | 🔽 End only          | ❌ No          | ✅ Yes       |\n",
    "\n",
    "---\n",
    "\n",
    "##### 🧪 Behavior Examples\n",
    "\n",
    "##### File content before:\n",
    "\n",
    "```\n",
    "1234567890\n",
    "```\n",
    "\n",
    "##### `r+` – Read & Write from beginning (no truncation)\n",
    "\n",
    "```python\n",
    "with open(\"example.txt\", \"r+\") as f:\n",
    "    f.write(\"abc\")\n",
    "```\n",
    "\n",
    "**Result:**\n",
    "\n",
    "```\n",
    "abc4567890\n",
    "```\n",
    "\n",
    "---\n",
    "\n",
    "##### `w+` – Truncate & Write from scratch\n",
    "\n",
    "```python\n",
    "with open(\"example.txt\", \"w+\") as f:\n",
    "    f.write(\"xyz\")\n",
    "```\n",
    "\n",
    "**Result:**\n",
    "\n",
    "```\n",
    "xyz\n",
    "```\n",
    "\n",
    "---\n",
    "\n",
    "##### `a+` – Always Append\n",
    "\n",
    "```python\n",
    "with open(\"example.txt\", \"a+\") as f:\n",
    "    f.write(\"+++\")\n",
    "```\n",
    "\n",
    "**Result:**\n",
    "\n",
    "```\n",
    "1234567890+++\n",
    "```\n",
    "\n",
    "Even if you use `f.seek(0)`, writing still goes to the end.\n",
    "\n",
    "---\n"
   ]
  },
  {
   "cell_type": "markdown",
   "id": "1492bcb2",
   "metadata": {},
   "source": [
    "\n",
    "\n",
    "Every time you open a file in Python, there’s an internal file pointer that marks where the next read or write will occur.\n",
    "\n",
    "You can move this pointer using <code>seek(offset, whence)</code>. It changes the position by 'offset' bytes with respect to 'whence'. \n",
    "\n",
    "'whence' can take the value of 0 / 1 / 2 corresponding to begining / current position / end.\n",
    "\n",
    "##### Appending examples using r+:\n",
    "\n",
    "\n"
   ]
  },
  {
   "cell_type": "code",
   "execution_count": 13,
   "id": "fc1c470b",
   "metadata": {},
   "outputs": [
    {
     "name": "stdout",
     "output_type": "stream",
     "text": [
      "Content written to append_example.txt\n"
     ]
    }
   ],
   "source": [
    "with open(\"data/append_example.txt\", \"w\") as fileappend:\n",
    "    fileappend.write(\"This is a new file for appending.\\n\")\n",
    "    print(\"Content written to append_example.txt\")"
   ]
  },
  {
   "cell_type": "code",
   "execution_count": 14,
   "id": "b4e2ebd6",
   "metadata": {},
   "outputs": [
    {
     "name": "stdout",
     "output_type": "stream",
     "text": [
      "Content of append_example.txt after appending:\n",
      "This is a new file for appending.\n",
      "This is an appended line in r+ mode.\n"
     ]
    }
   ],
   "source": [
    "# Append to append_example.txt using 'r+' mode\n",
    "with open(\"data/append_example.txt\", \"r+\") as fileappend:\n",
    "    fileappend.seek(0, 2)  # Move to the end of the file\n",
    "    fileappend.write(\"This is an appended line in r+ mode.\\n\")\n",
    "    fileappend.seek(0)  # Reset file pointer to the beginning\n",
    "    print(\"Content of append_example.txt after appending:\")\n",
    "    for line in fileappend:\n",
    "        print(line.strip())  # Print each line without extra newlines"
   ]
  },
  {
   "cell_type": "code",
   "execution_count": 15,
   "id": "5e19caec",
   "metadata": {},
   "outputs": [
    {
     "name": "stdout",
     "output_type": "stream",
     "text": [
      "Content of append_example.txt after writing in w+ mode:\n",
      "This is a new line in w+ mode.\n"
     ]
    }
   ],
   "source": [
    "# 'w+' mode truncates the file to zero length before writing\n",
    "with open(\"data/append_example.txt\", \"w+\") as fileappend:\n",
    "    fileappend.seek(0, 2)\n",
    "    fileappend.write(\"This is a new line in w+ mode.\\n\") # Only this line will be written\n",
    "    # The previous content is lost due to w+ mode\n",
    "    fileappend.seek(0)  # Reset file pointer to the beginning\n",
    "    print(\"Content of append_example.txt after writing in w+ mode:\")\n",
    "    for line in fileappend:\n",
    "        print(line.strip())  "
   ]
  },
  {
   "cell_type": "markdown",
   "id": "5bbc847b",
   "metadata": {},
   "source": [
    "<a id=\"pd\"></a>\n",
    "### Pandas\n"
   ]
  },
  {
   "cell_type": "markdown",
   "id": "f4677b0b",
   "metadata": {},
   "source": [
    "Pandas generally provide two data structures for manipulating data, They are:\n",
    "\n",
    "- DataFrame: two-dimentional data structure, rows and columns\n",
    "- Series: one-dimentional array of indexed data, such as every column in a dataframe\n",
    "\n"
   ]
  },
  {
   "cell_type": "code",
   "execution_count": 18,
   "id": "c629acbf",
   "metadata": {},
   "outputs": [],
   "source": [
    "import pandas as pd"
   ]
  },
  {
   "cell_type": "code",
   "execution_count": 78,
   "id": "527f33d8",
   "metadata": {},
   "outputs": [
    {
     "name": "stdout",
     "output_type": "stream",
     "text": [
      "DataFrame read from CSV:\n"
     ]
    },
    {
     "data": {
      "text/html": [
       "<div>\n",
       "<style scoped>\n",
       "    .dataframe tbody tr th:only-of-type {\n",
       "        vertical-align: middle;\n",
       "    }\n",
       "\n",
       "    .dataframe tbody tr th {\n",
       "        vertical-align: top;\n",
       "    }\n",
       "\n",
       "    .dataframe thead th {\n",
       "        text-align: right;\n",
       "    }\n",
       "</style>\n",
       "<table border=\"1\" class=\"dataframe\">\n",
       "  <thead>\n",
       "    <tr style=\"text-align: right;\">\n",
       "      <th></th>\n",
       "      <th>Name</th>\n",
       "      <th>Age</th>\n",
       "      <th>City</th>\n",
       "      <th>Salary</th>\n",
       "      <th>Is_Employed</th>\n",
       "      <th>Join_Date</th>\n",
       "    </tr>\n",
       "  </thead>\n",
       "  <tbody>\n",
       "    <tr>\n",
       "      <th>0</th>\n",
       "      <td>Alice</td>\n",
       "      <td>25.0</td>\n",
       "      <td>NY</td>\n",
       "      <td>70000.0</td>\n",
       "      <td>True</td>\n",
       "      <td>2020-01-01</td>\n",
       "    </tr>\n",
       "    <tr>\n",
       "      <th>1</th>\n",
       "      <td>Bob</td>\n",
       "      <td>30.0</td>\n",
       "      <td>LA</td>\n",
       "      <td>80000.0</td>\n",
       "      <td>False</td>\n",
       "      <td>2019-05-15</td>\n",
       "    </tr>\n",
       "    <tr>\n",
       "      <th>2</th>\n",
       "      <td>Charlie</td>\n",
       "      <td>35.0</td>\n",
       "      <td>NY</td>\n",
       "      <td>NaN</td>\n",
       "      <td>True</td>\n",
       "      <td>2021-07-20</td>\n",
       "    </tr>\n",
       "    <tr>\n",
       "      <th>3</th>\n",
       "      <td>David</td>\n",
       "      <td>40.0</td>\n",
       "      <td>Chicago</td>\n",
       "      <td>90000.0</td>\n",
       "      <td>True</td>\n",
       "      <td>2018-03-30</td>\n",
       "    </tr>\n",
       "    <tr>\n",
       "      <th>4</th>\n",
       "      <td>Eva</td>\n",
       "      <td>NaN</td>\n",
       "      <td>LA</td>\n",
       "      <td>75000.0</td>\n",
       "      <td>False</td>\n",
       "      <td>2022-11-01</td>\n",
       "    </tr>\n",
       "    <tr>\n",
       "      <th>5</th>\n",
       "      <td>Frank</td>\n",
       "      <td>45.0</td>\n",
       "      <td>NaN</td>\n",
       "      <td>60000.0</td>\n",
       "      <td>True</td>\n",
       "      <td>2017-12-25</td>\n",
       "    </tr>\n",
       "    <tr>\n",
       "      <th>6</th>\n",
       "      <td>Grace</td>\n",
       "      <td>50.0</td>\n",
       "      <td>Chicago</td>\n",
       "      <td>50000.0</td>\n",
       "      <td>True</td>\n",
       "      <td>2023-01-01</td>\n",
       "    </tr>\n",
       "  </tbody>\n",
       "</table>\n",
       "</div>"
      ],
      "text/plain": [
       "      Name   Age     City   Salary  Is_Employed   Join_Date\n",
       "0    Alice  25.0       NY  70000.0         True  2020-01-01\n",
       "1      Bob  30.0       LA  80000.0        False  2019-05-15\n",
       "2  Charlie  35.0       NY      NaN         True  2021-07-20\n",
       "3    David  40.0  Chicago  90000.0         True  2018-03-30\n",
       "4      Eva   NaN       LA  75000.0        False  2022-11-01\n",
       "5    Frank  45.0      NaN  60000.0         True  2017-12-25\n",
       "6    Grace  50.0  Chicago  50000.0         True  2023-01-01"
      ]
     },
     "execution_count": 78,
     "metadata": {},
     "output_type": "execute_result"
    }
   ],
   "source": [
    "# create a DataFrame\n",
    "data = {\n",
    "    'Name': ['Alice', 'Bob', 'Charlie', 'David', 'Eva', 'Frank', 'Grace'],\n",
    "    'Age': [25, 30, 35, 40, None, 45, 50],\n",
    "    'City': ['NY', 'LA', 'NY', 'Chicago', 'LA', None, 'Chicago'],\n",
    "    'Salary': [70000, 80000, None, 90000, 75000, 60000, 50000],\n",
    "    'Is_Employed': [True, False, True, True, False, True, True],\n",
    "    'Join_Date': pd.to_datetime(['2020-01-01', '2019-05-15', '2021-07-20', '2018-03-30', '2022-11-01', '2017-12-25', '2023-01-01'])\n",
    "}\n",
    "df = pd.DataFrame(data)\n",
    "\n",
    "# Save DataFrame to a CSV file\n",
    "df.to_csv('data/example_dataframe.csv', index=False)\n",
    "# Read the CSV file into a DataFrame\n",
    "df_read = pd.read_csv('data/example_dataframe.csv')\n",
    "print(\"DataFrame read from CSV:\")\n",
    "df_read"
   ]
  },
  {
   "cell_type": "markdown",
   "id": "2f7de490",
   "metadata": {},
   "source": [
    "##### Exploring data\n",
    "\n",
    "```python\n",
    "df.head()         # First 5 rows\n",
    "df.tail()         # Last 5 rows\n",
    "df.shape          # (rows, columns)\n",
    "df.info()         # Summary info\n",
    "df.describe()     # Statistics summary\n",
    "df.columns        # Column names\n",
    "df.dtypes         # Data types\n",
    "df.isnull().sum() # Count missing values per column\n",
    "```"
   ]
  },
  {
   "cell_type": "code",
   "execution_count": null,
   "id": "d5b39088",
   "metadata": {},
   "outputs": [
    {
     "data": {
      "text/plain": [
       "Name           0\n",
       "Age            1\n",
       "City           1\n",
       "Salary         1\n",
       "Is_Employed    0\n",
       "Join_Date      0\n",
       "dtype: int64"
      ]
     },
     "execution_count": 35,
     "metadata": {},
     "output_type": "execute_result"
    }
   ],
   "source": [
    "# Example\n",
    "df_read.isnull().sum()  # Check for missing values"
   ]
  },
  {
   "cell_type": "markdown",
   "id": "100aa911",
   "metadata": {},
   "source": [
    "##### Data Selection\n",
    "\n",
    "```python\n",
    "df['Age']                # Select column (as series)\n",
    "df[['Name', 'Age']]      # Select multiple columns (as dataframe)\n",
    "df.loc[0]                # Row by label\n",
    "df.iloc[0]               # Row by index\n",
    "df.loc[0, 'Age']         # Specific cell\n",
    "```"
   ]
  },
  {
   "cell_type": "markdown",
   "id": "d01001ad",
   "metadata": {},
   "source": [
    "##### Filtering\n",
    "\n",
    "```python\n",
    "df[df['Age'] > 25]                  # Filter rows\n",
    "df[(df['Age'] > 25) & (df['Is_Employed'] == True)]  # Multiple conditions\n",
    "```"
   ]
  },
  {
   "cell_type": "markdown",
   "id": "68c3fd4d",
   "metadata": {},
   "source": [
    "##### Modifying data\n",
    "\n",
    "```python\n",
    "df['Gender'] = ['F', 'M']      # Add new column\n",
    "df['Age'] = df['Age'] + 1      # Modify column\n",
    "df.drop('Gender', axis=1, inplace=True)  # Drop column\n",
    "```\n",
    "\n",
    "- axis=0: delete rows (default)\n",
    "- axis=1: delete columns\n",
    "- inplace=True: modify the original dataframe\n",
    "- inplace=False: return a new dataframe (default)\n",
    "\n"
   ]
  },
  {
   "cell_type": "code",
   "execution_count": 80,
   "id": "5c10081b",
   "metadata": {},
   "outputs": [
    {
     "data": {
      "text/html": [
       "<div>\n",
       "<style scoped>\n",
       "    .dataframe tbody tr th:only-of-type {\n",
       "        vertical-align: middle;\n",
       "    }\n",
       "\n",
       "    .dataframe tbody tr th {\n",
       "        vertical-align: top;\n",
       "    }\n",
       "\n",
       "    .dataframe thead th {\n",
       "        text-align: right;\n",
       "    }\n",
       "</style>\n",
       "<table border=\"1\" class=\"dataframe\">\n",
       "  <thead>\n",
       "    <tr style=\"text-align: right;\">\n",
       "      <th></th>\n",
       "      <th>Name</th>\n",
       "      <th>Age</th>\n",
       "      <th>City</th>\n",
       "      <th>Salary</th>\n",
       "      <th>Join_Date</th>\n",
       "      <th>Experience</th>\n",
       "    </tr>\n",
       "  </thead>\n",
       "  <tbody>\n",
       "    <tr>\n",
       "      <th>0</th>\n",
       "      <td>Alice</td>\n",
       "      <td>25.0</td>\n",
       "      <td>NY</td>\n",
       "      <td>70000.0</td>\n",
       "      <td>2020-01-01</td>\n",
       "      <td>2</td>\n",
       "    </tr>\n",
       "    <tr>\n",
       "      <th>1</th>\n",
       "      <td>Bob</td>\n",
       "      <td>30.0</td>\n",
       "      <td>LA</td>\n",
       "      <td>80000.0</td>\n",
       "      <td>2019-05-15</td>\n",
       "      <td>5</td>\n",
       "    </tr>\n",
       "    <tr>\n",
       "      <th>2</th>\n",
       "      <td>Charlie</td>\n",
       "      <td>35.0</td>\n",
       "      <td>NY</td>\n",
       "      <td>0.0</td>\n",
       "      <td>2021-07-20</td>\n",
       "      <td>3</td>\n",
       "    </tr>\n",
       "    <tr>\n",
       "      <th>3</th>\n",
       "      <td>David</td>\n",
       "      <td>40.0</td>\n",
       "      <td>Chicago</td>\n",
       "      <td>90000.0</td>\n",
       "      <td>2018-03-30</td>\n",
       "      <td>10</td>\n",
       "    </tr>\n",
       "    <tr>\n",
       "      <th>4</th>\n",
       "      <td>Eva</td>\n",
       "      <td>NaN</td>\n",
       "      <td>LA</td>\n",
       "      <td>75000.0</td>\n",
       "      <td>2022-11-01</td>\n",
       "      <td>1</td>\n",
       "    </tr>\n",
       "    <tr>\n",
       "      <th>5</th>\n",
       "      <td>Frank</td>\n",
       "      <td>45.0</td>\n",
       "      <td>NaN</td>\n",
       "      <td>60000.0</td>\n",
       "      <td>2017-12-25</td>\n",
       "      <td>8</td>\n",
       "    </tr>\n",
       "    <tr>\n",
       "      <th>6</th>\n",
       "      <td>Grace</td>\n",
       "      <td>50.0</td>\n",
       "      <td>Chicago</td>\n",
       "      <td>50000.0</td>\n",
       "      <td>2023-01-01</td>\n",
       "      <td>4</td>\n",
       "    </tr>\n",
       "  </tbody>\n",
       "</table>\n",
       "</div>"
      ],
      "text/plain": [
       "      Name   Age     City   Salary   Join_Date  Experience\n",
       "0    Alice  25.0       NY  70000.0  2020-01-01           2\n",
       "1      Bob  30.0       LA  80000.0  2019-05-15           5\n",
       "2  Charlie  35.0       NY      0.0  2021-07-20           3\n",
       "3    David  40.0  Chicago  90000.0  2018-03-30          10\n",
       "4      Eva   NaN       LA  75000.0  2022-11-01           1\n",
       "5    Frank  45.0      NaN  60000.0  2017-12-25           8\n",
       "6    Grace  50.0  Chicago  50000.0  2023-01-01           4"
      ]
     },
     "execution_count": 80,
     "metadata": {},
     "output_type": "execute_result"
    }
   ],
   "source": [
    "# modify the DataFrame\n",
    "# add a new column\n",
    "df_read['Experience'] = [2, 5, 3, 10, 1, 8, 4]  # Adding years of experience\n",
    "# modify an existing column\n",
    "df_read['Salary'] = df_read['Salary'].fillna(0)  # Fill missing salaries with 0\n",
    "# drop a column\n",
    "df_read.drop(columns=['Is_Employed'], axis=1)  # Drop the 'Is_Employed' column"
   ]
  },
  {
   "cell_type": "code",
   "execution_count": 56,
   "id": "21f5e51c",
   "metadata": {},
   "outputs": [
    {
     "data": {
      "text/html": [
       "<div>\n",
       "<style scoped>\n",
       "    .dataframe tbody tr th:only-of-type {\n",
       "        vertical-align: middle;\n",
       "    }\n",
       "\n",
       "    .dataframe tbody tr th {\n",
       "        vertical-align: top;\n",
       "    }\n",
       "\n",
       "    .dataframe thead th {\n",
       "        text-align: right;\n",
       "    }\n",
       "</style>\n",
       "<table border=\"1\" class=\"dataframe\">\n",
       "  <thead>\n",
       "    <tr style=\"text-align: right;\">\n",
       "      <th></th>\n",
       "      <th>Name</th>\n",
       "      <th>Age</th>\n",
       "      <th>City</th>\n",
       "      <th>Salary</th>\n",
       "      <th>Is_Employed</th>\n",
       "      <th>Join_Date</th>\n",
       "      <th>Experience</th>\n",
       "    </tr>\n",
       "  </thead>\n",
       "  <tbody>\n",
       "    <tr>\n",
       "      <th>0</th>\n",
       "      <td>Alice</td>\n",
       "      <td>25.0</td>\n",
       "      <td>NY</td>\n",
       "      <td>70000.0</td>\n",
       "      <td>True</td>\n",
       "      <td>2020-01-01</td>\n",
       "      <td>2</td>\n",
       "    </tr>\n",
       "    <tr>\n",
       "      <th>1</th>\n",
       "      <td>Bob</td>\n",
       "      <td>30.0</td>\n",
       "      <td>LA</td>\n",
       "      <td>80000.0</td>\n",
       "      <td>False</td>\n",
       "      <td>2019-05-15</td>\n",
       "      <td>5</td>\n",
       "    </tr>\n",
       "    <tr>\n",
       "      <th>2</th>\n",
       "      <td>Charlie</td>\n",
       "      <td>35.0</td>\n",
       "      <td>NY</td>\n",
       "      <td>0.0</td>\n",
       "      <td>True</td>\n",
       "      <td>2021-07-20</td>\n",
       "      <td>3</td>\n",
       "    </tr>\n",
       "    <tr>\n",
       "      <th>3</th>\n",
       "      <td>David</td>\n",
       "      <td>40.0</td>\n",
       "      <td>Chicago</td>\n",
       "      <td>90000.0</td>\n",
       "      <td>True</td>\n",
       "      <td>2018-03-30</td>\n",
       "      <td>10</td>\n",
       "    </tr>\n",
       "    <tr>\n",
       "      <th>4</th>\n",
       "      <td>Eva</td>\n",
       "      <td>NaN</td>\n",
       "      <td>LA</td>\n",
       "      <td>75000.0</td>\n",
       "      <td>False</td>\n",
       "      <td>2022-11-01</td>\n",
       "      <td>1</td>\n",
       "    </tr>\n",
       "    <tr>\n",
       "      <th>5</th>\n",
       "      <td>Frank</td>\n",
       "      <td>45.0</td>\n",
       "      <td>NaN</td>\n",
       "      <td>60000.0</td>\n",
       "      <td>True</td>\n",
       "      <td>2017-12-25</td>\n",
       "      <td>8</td>\n",
       "    </tr>\n",
       "    <tr>\n",
       "      <th>6</th>\n",
       "      <td>Grace</td>\n",
       "      <td>50.0</td>\n",
       "      <td>Chicago</td>\n",
       "      <td>50000.0</td>\n",
       "      <td>True</td>\n",
       "      <td>2023-01-01</td>\n",
       "      <td>4</td>\n",
       "    </tr>\n",
       "  </tbody>\n",
       "</table>\n",
       "</div>"
      ],
      "text/plain": [
       "      Name   Age     City   Salary  Is_Employed   Join_Date  Experience\n",
       "0    Alice  25.0       NY  70000.0         True  2020-01-01           2\n",
       "1      Bob  30.0       LA  80000.0        False  2019-05-15           5\n",
       "2  Charlie  35.0       NY      0.0         True  2021-07-20           3\n",
       "3    David  40.0  Chicago  90000.0         True  2018-03-30          10\n",
       "4      Eva   NaN       LA  75000.0        False  2022-11-01           1\n",
       "5    Frank  45.0      NaN  60000.0         True  2017-12-25           8\n",
       "6    Grace  50.0  Chicago  50000.0         True  2023-01-01           4"
      ]
     },
     "execution_count": 56,
     "metadata": {},
     "output_type": "execute_result"
    }
   ],
   "source": [
    "df_read"
   ]
  },
  {
   "cell_type": "markdown",
   "id": "5d64c20b",
   "metadata": {},
   "source": [
    "##### Handling Missing Data\n",
    "\n",
    "```python\n",
    "df.dropna()              # Drop rows with missing values\n",
    "df.fillna(0)             # Fill missing with 0\n",
    "df['Age'].fillna(df['Age'].mean())  # Fill with mean\n",
    "```"
   ]
  },
  {
   "cell_type": "markdown",
   "id": "4db8929d",
   "metadata": {},
   "source": [
    "##### Sorting Data\n",
    "\n",
    "<code>sort_values()</code>"
   ]
  },
  {
   "cell_type": "code",
   "execution_count": 57,
   "id": "305c4d0f",
   "metadata": {},
   "outputs": [
    {
     "data": {
      "text/html": [
       "<div>\n",
       "<style scoped>\n",
       "    .dataframe tbody tr th:only-of-type {\n",
       "        vertical-align: middle;\n",
       "    }\n",
       "\n",
       "    .dataframe tbody tr th {\n",
       "        vertical-align: top;\n",
       "    }\n",
       "\n",
       "    .dataframe thead th {\n",
       "        text-align: right;\n",
       "    }\n",
       "</style>\n",
       "<table border=\"1\" class=\"dataframe\">\n",
       "  <thead>\n",
       "    <tr style=\"text-align: right;\">\n",
       "      <th></th>\n",
       "      <th>Name</th>\n",
       "      <th>Age</th>\n",
       "      <th>City</th>\n",
       "      <th>Salary</th>\n",
       "      <th>Is_Employed</th>\n",
       "      <th>Join_Date</th>\n",
       "      <th>Experience</th>\n",
       "    </tr>\n",
       "  </thead>\n",
       "  <tbody>\n",
       "    <tr>\n",
       "      <th>0</th>\n",
       "      <td>Alice</td>\n",
       "      <td>25.0</td>\n",
       "      <td>NY</td>\n",
       "      <td>70000.0</td>\n",
       "      <td>True</td>\n",
       "      <td>2020-01-01</td>\n",
       "      <td>2</td>\n",
       "    </tr>\n",
       "    <tr>\n",
       "      <th>1</th>\n",
       "      <td>Bob</td>\n",
       "      <td>30.0</td>\n",
       "      <td>LA</td>\n",
       "      <td>80000.0</td>\n",
       "      <td>False</td>\n",
       "      <td>2019-05-15</td>\n",
       "      <td>5</td>\n",
       "    </tr>\n",
       "    <tr>\n",
       "      <th>2</th>\n",
       "      <td>Charlie</td>\n",
       "      <td>35.0</td>\n",
       "      <td>NY</td>\n",
       "      <td>0.0</td>\n",
       "      <td>True</td>\n",
       "      <td>2021-07-20</td>\n",
       "      <td>3</td>\n",
       "    </tr>\n",
       "    <tr>\n",
       "      <th>3</th>\n",
       "      <td>David</td>\n",
       "      <td>40.0</td>\n",
       "      <td>Chicago</td>\n",
       "      <td>90000.0</td>\n",
       "      <td>True</td>\n",
       "      <td>2018-03-30</td>\n",
       "      <td>10</td>\n",
       "    </tr>\n",
       "    <tr>\n",
       "      <th>5</th>\n",
       "      <td>Frank</td>\n",
       "      <td>45.0</td>\n",
       "      <td>NaN</td>\n",
       "      <td>60000.0</td>\n",
       "      <td>True</td>\n",
       "      <td>2017-12-25</td>\n",
       "      <td>8</td>\n",
       "    </tr>\n",
       "    <tr>\n",
       "      <th>6</th>\n",
       "      <td>Grace</td>\n",
       "      <td>50.0</td>\n",
       "      <td>Chicago</td>\n",
       "      <td>50000.0</td>\n",
       "      <td>True</td>\n",
       "      <td>2023-01-01</td>\n",
       "      <td>4</td>\n",
       "    </tr>\n",
       "    <tr>\n",
       "      <th>4</th>\n",
       "      <td>Eva</td>\n",
       "      <td>NaN</td>\n",
       "      <td>LA</td>\n",
       "      <td>75000.0</td>\n",
       "      <td>False</td>\n",
       "      <td>2022-11-01</td>\n",
       "      <td>1</td>\n",
       "    </tr>\n",
       "  </tbody>\n",
       "</table>\n",
       "</div>"
      ],
      "text/plain": [
       "      Name   Age     City   Salary  Is_Employed   Join_Date  Experience\n",
       "0    Alice  25.0       NY  70000.0         True  2020-01-01           2\n",
       "1      Bob  30.0       LA  80000.0        False  2019-05-15           5\n",
       "2  Charlie  35.0       NY      0.0         True  2021-07-20           3\n",
       "3    David  40.0  Chicago  90000.0         True  2018-03-30          10\n",
       "5    Frank  45.0      NaN  60000.0         True  2017-12-25           8\n",
       "6    Grace  50.0  Chicago  50000.0         True  2023-01-01           4\n",
       "4      Eva   NaN       LA  75000.0        False  2022-11-01           1"
      ]
     },
     "execution_count": 57,
     "metadata": {},
     "output_type": "execute_result"
    }
   ],
   "source": [
    "# sort the DataFrame by 'Age'\n",
    "df_sorted = df_read.sort_values(by='Age', ascending=True)\n",
    "df_sorted"
   ]
  },
  {
   "cell_type": "markdown",
   "id": "e0ecaaf5",
   "metadata": {},
   "source": [
    "##### Grouping and Aggregating\n",
    "\n",
    "<code>groupby(column)[]</code>\n",
    "\n",
    "<code>groupby(column).agg({})</code>: multiple aggregations for one column"
   ]
  },
  {
   "cell_type": "code",
   "execution_count": 62,
   "id": "2a5deba1",
   "metadata": {},
   "outputs": [
    {
     "data": {
      "text/html": [
       "<div>\n",
       "<style scoped>\n",
       "    .dataframe tbody tr th:only-of-type {\n",
       "        vertical-align: middle;\n",
       "    }\n",
       "\n",
       "    .dataframe tbody tr th {\n",
       "        vertical-align: top;\n",
       "    }\n",
       "\n",
       "    .dataframe thead th {\n",
       "        text-align: right;\n",
       "    }\n",
       "</style>\n",
       "<table border=\"1\" class=\"dataframe\">\n",
       "  <thead>\n",
       "    <tr style=\"text-align: right;\">\n",
       "      <th></th>\n",
       "      <th>City</th>\n",
       "      <th>Salary</th>\n",
       "      <th>Age</th>\n",
       "    </tr>\n",
       "  </thead>\n",
       "  <tbody>\n",
       "    <tr>\n",
       "      <th>0</th>\n",
       "      <td>Chicago</td>\n",
       "      <td>70000.0</td>\n",
       "      <td>45.0</td>\n",
       "    </tr>\n",
       "    <tr>\n",
       "      <th>1</th>\n",
       "      <td>LA</td>\n",
       "      <td>77500.0</td>\n",
       "      <td>30.0</td>\n",
       "    </tr>\n",
       "    <tr>\n",
       "      <th>2</th>\n",
       "      <td>NY</td>\n",
       "      <td>35000.0</td>\n",
       "      <td>30.0</td>\n",
       "    </tr>\n",
       "  </tbody>\n",
       "</table>\n",
       "</div>"
      ],
      "text/plain": [
       "      City   Salary   Age\n",
       "0  Chicago  70000.0  45.0\n",
       "1       LA  77500.0  30.0\n",
       "2       NY  35000.0  30.0"
      ]
     },
     "execution_count": 62,
     "metadata": {},
     "output_type": "execute_result"
    }
   ],
   "source": [
    "# group by 'City' and calculate the average salary\n",
    "df_grouped = df_read.groupby('City')[['Salary','Age']].mean().reset_index()\n",
    "df_grouped"
   ]
  },
  {
   "cell_type": "code",
   "execution_count": 61,
   "id": "5fb799cb",
   "metadata": {},
   "outputs": [
    {
     "data": {
      "text/html": [
       "<div>\n",
       "<style scoped>\n",
       "    .dataframe tbody tr th:only-of-type {\n",
       "        vertical-align: middle;\n",
       "    }\n",
       "\n",
       "    .dataframe tbody tr th {\n",
       "        vertical-align: top;\n",
       "    }\n",
       "\n",
       "    .dataframe thead tr th {\n",
       "        text-align: left;\n",
       "    }\n",
       "</style>\n",
       "<table border=\"1\" class=\"dataframe\">\n",
       "  <thead>\n",
       "    <tr>\n",
       "      <th></th>\n",
       "      <th>City</th>\n",
       "      <th colspan=\"2\" halign=\"left\">Salary</th>\n",
       "      <th colspan=\"2\" halign=\"left\">Age</th>\n",
       "    </tr>\n",
       "    <tr>\n",
       "      <th></th>\n",
       "      <th></th>\n",
       "      <th>median</th>\n",
       "      <th>sum</th>\n",
       "      <th>min</th>\n",
       "      <th>max</th>\n",
       "    </tr>\n",
       "  </thead>\n",
       "  <tbody>\n",
       "    <tr>\n",
       "      <th>0</th>\n",
       "      <td>Chicago</td>\n",
       "      <td>70000.0</td>\n",
       "      <td>140000.0</td>\n",
       "      <td>40.0</td>\n",
       "      <td>50.0</td>\n",
       "    </tr>\n",
       "    <tr>\n",
       "      <th>1</th>\n",
       "      <td>LA</td>\n",
       "      <td>77500.0</td>\n",
       "      <td>155000.0</td>\n",
       "      <td>30.0</td>\n",
       "      <td>30.0</td>\n",
       "    </tr>\n",
       "    <tr>\n",
       "      <th>2</th>\n",
       "      <td>NY</td>\n",
       "      <td>35000.0</td>\n",
       "      <td>70000.0</td>\n",
       "      <td>25.0</td>\n",
       "      <td>35.0</td>\n",
       "    </tr>\n",
       "  </tbody>\n",
       "</table>\n",
       "</div>"
      ],
      "text/plain": [
       "      City   Salary             Age      \n",
       "             median       sum   min   max\n",
       "0  Chicago  70000.0  140000.0  40.0  50.0\n",
       "1       LA  77500.0  155000.0  30.0  30.0\n",
       "2       NY  35000.0   70000.0  25.0  35.0"
      ]
     },
     "execution_count": 61,
     "metadata": {},
     "output_type": "execute_result"
    }
   ],
   "source": [
    "# multiple aggregations\n",
    "df_agg = df_read.groupby('City').agg({\n",
    "    'Salary': ['median', 'sum'],\n",
    "    'Age': ['min', 'max']\n",
    "}).reset_index()\n",
    "df_agg"
   ]
  },
  {
   "cell_type": "markdown",
   "id": "985a81a3",
   "metadata": {},
   "source": [
    "##### Merging / Concatenation\n",
    "\n",
    "- Merging(similar to SQL join): <code>pd.merge(left, right, how='', on='', left_on='', right_on='')</code>\n",
    "  \n",
    "|Parameter|Description|\n",
    "|---------|-----------|\n",
    "|left|The first DataFrame (on the left side of the merge)|\n",
    "|right|The second DataFrame (on the right side of the merge)|\n",
    "|on|Column name(s) present in both DataFrames to merge on (same column name in both)|\n",
    "|left_on|Column name(s) in the left DataFrame to use as merge key|\n",
    "|right_on|Column name(s) in the right DataFrame to use as merge key|\n",
    "|how|Type of merge: 'inner', 'left', 'right', 'outer' (explained below)|\n",
    "\n",
    "- Same column name in both tables → use on\n",
    "- Different column names → use left_on and right_on\n",
    "\n",
    "|how|Description|\n",
    "|---|---|\n",
    "|'inner'|Only matching rows in both DataFrames|\n",
    "|'left'|All rows from left DataFrame + matches from right|\n",
    "|'right'|All rows from right DataFrame + matches from left|\n",
    "|'outer'|All rows from both DataFrames|\n",
    "\n",
    "---\n",
    "\n",
    "- Concatenation: <code>pd.concat(objs, axis=0, ignore_index=False, ...)</code>\n",
    "\n",
    "|Parameter|Description|\n",
    "|---------|-----------|\n",
    "|objs|A list or tuple of DataFrames to concatenate (e.g., [df1, df2])|\n",
    "|axis|0 (default) for vertical (row-wise) concat, 1 for horizontal (column-wise) concat|\n",
    "|ignore_index|If True, reset the index in the result (default is False)|\n"
   ]
  },
  {
   "cell_type": "code",
   "execution_count": 63,
   "id": "b4c61030",
   "metadata": {},
   "outputs": [
    {
     "data": {
      "text/html": [
       "<div>\n",
       "<style scoped>\n",
       "    .dataframe tbody tr th:only-of-type {\n",
       "        vertical-align: middle;\n",
       "    }\n",
       "\n",
       "    .dataframe tbody tr th {\n",
       "        vertical-align: top;\n",
       "    }\n",
       "\n",
       "    .dataframe thead th {\n",
       "        text-align: right;\n",
       "    }\n",
       "</style>\n",
       "<table border=\"1\" class=\"dataframe\">\n",
       "  <thead>\n",
       "    <tr style=\"text-align: right;\">\n",
       "      <th></th>\n",
       "      <th>Name</th>\n",
       "      <th>Age</th>\n",
       "      <th>City</th>\n",
       "    </tr>\n",
       "  </thead>\n",
       "  <tbody>\n",
       "    <tr>\n",
       "      <th>0</th>\n",
       "      <td>Alice</td>\n",
       "      <td>25.0</td>\n",
       "      <td>NY</td>\n",
       "    </tr>\n",
       "    <tr>\n",
       "      <th>1</th>\n",
       "      <td>Bob</td>\n",
       "      <td>30.0</td>\n",
       "      <td>LA</td>\n",
       "    </tr>\n",
       "    <tr>\n",
       "      <th>2</th>\n",
       "      <td>Charlie</td>\n",
       "      <td>35.0</td>\n",
       "      <td>NaN</td>\n",
       "    </tr>\n",
       "    <tr>\n",
       "      <th>3</th>\n",
       "      <td>David</td>\n",
       "      <td>NaN</td>\n",
       "      <td>Chicago</td>\n",
       "    </tr>\n",
       "  </tbody>\n",
       "</table>\n",
       "</div>"
      ],
      "text/plain": [
       "      Name   Age     City\n",
       "0    Alice  25.0       NY\n",
       "1      Bob  30.0       LA\n",
       "2  Charlie  35.0      NaN\n",
       "3    David   NaN  Chicago"
      ]
     },
     "execution_count": 63,
     "metadata": {},
     "output_type": "execute_result"
    }
   ],
   "source": [
    "# merge two DataFrames\n",
    "df1 = pd.DataFrame({\n",
    "    'Name': ['Alice', 'Bob', 'Charlie'],\n",
    "    'Age': [25, 30, 35]\n",
    "})\n",
    "df2 = pd.DataFrame({\n",
    "    'Name': ['Alice', 'Bob', 'David'],\n",
    "    'City': ['NY', 'LA', 'Chicago']\n",
    "})\n",
    "df_merged = pd.merge(df1, df2, on='Name', how='outer')\n",
    "df_merged\n"
   ]
  },
  {
   "cell_type": "code",
   "execution_count": null,
   "id": "f6795058",
   "metadata": {},
   "outputs": [
    {
     "data": {
      "text/html": [
       "<div>\n",
       "<style scoped>\n",
       "    .dataframe tbody tr th:only-of-type {\n",
       "        vertical-align: middle;\n",
       "    }\n",
       "\n",
       "    .dataframe tbody tr th {\n",
       "        vertical-align: top;\n",
       "    }\n",
       "\n",
       "    .dataframe thead th {\n",
       "        text-align: right;\n",
       "    }\n",
       "</style>\n",
       "<table border=\"1\" class=\"dataframe\">\n",
       "  <thead>\n",
       "    <tr style=\"text-align: right;\">\n",
       "      <th></th>\n",
       "      <th>Name</th>\n",
       "      <th>Age</th>\n",
       "      <th>City</th>\n",
       "    </tr>\n",
       "  </thead>\n",
       "  <tbody>\n",
       "    <tr>\n",
       "      <th>0</th>\n",
       "      <td>Alice</td>\n",
       "      <td>25.0</td>\n",
       "      <td>NaN</td>\n",
       "    </tr>\n",
       "    <tr>\n",
       "      <th>1</th>\n",
       "      <td>Bob</td>\n",
       "      <td>30.0</td>\n",
       "      <td>NaN</td>\n",
       "    </tr>\n",
       "    <tr>\n",
       "      <th>2</th>\n",
       "      <td>Charlie</td>\n",
       "      <td>35.0</td>\n",
       "      <td>NaN</td>\n",
       "    </tr>\n",
       "    <tr>\n",
       "      <th>0</th>\n",
       "      <td>Alice</td>\n",
       "      <td>NaN</td>\n",
       "      <td>NY</td>\n",
       "    </tr>\n",
       "    <tr>\n",
       "      <th>1</th>\n",
       "      <td>Bob</td>\n",
       "      <td>NaN</td>\n",
       "      <td>LA</td>\n",
       "    </tr>\n",
       "    <tr>\n",
       "      <th>2</th>\n",
       "      <td>David</td>\n",
       "      <td>NaN</td>\n",
       "      <td>Chicago</td>\n",
       "    </tr>\n",
       "  </tbody>\n",
       "</table>\n",
       "</div>"
      ],
      "text/plain": [
       "      Name   Age     City\n",
       "0    Alice  25.0      NaN\n",
       "1      Bob  30.0      NaN\n",
       "2  Charlie  35.0      NaN\n",
       "0    Alice   NaN       NY\n",
       "1      Bob   NaN       LA\n",
       "2    David   NaN  Chicago"
      ]
     },
     "execution_count": 69,
     "metadata": {},
     "output_type": "execute_result"
    }
   ],
   "source": [
    "# concatenate two DataFrames without resetting the index\n",
    "df_concat = pd.concat([df1, df2], ignore_index=False)\n",
    "df_concat"
   ]
  },
  {
   "cell_type": "code",
   "execution_count": 72,
   "id": "380fd3f7",
   "metadata": {},
   "outputs": [
    {
     "data": {
      "text/html": [
       "<div>\n",
       "<style scoped>\n",
       "    .dataframe tbody tr th:only-of-type {\n",
       "        vertical-align: middle;\n",
       "    }\n",
       "\n",
       "    .dataframe tbody tr th {\n",
       "        vertical-align: top;\n",
       "    }\n",
       "\n",
       "    .dataframe thead th {\n",
       "        text-align: right;\n",
       "    }\n",
       "</style>\n",
       "<table border=\"1\" class=\"dataframe\">\n",
       "  <thead>\n",
       "    <tr style=\"text-align: right;\">\n",
       "      <th></th>\n",
       "      <th>Name</th>\n",
       "      <th>Age</th>\n",
       "      <th>City</th>\n",
       "    </tr>\n",
       "  </thead>\n",
       "  <tbody>\n",
       "    <tr>\n",
       "      <th>0</th>\n",
       "      <td>Alice</td>\n",
       "      <td>25.0</td>\n",
       "      <td>NaN</td>\n",
       "    </tr>\n",
       "    <tr>\n",
       "      <th>1</th>\n",
       "      <td>Bob</td>\n",
       "      <td>30.0</td>\n",
       "      <td>NaN</td>\n",
       "    </tr>\n",
       "    <tr>\n",
       "      <th>2</th>\n",
       "      <td>Charlie</td>\n",
       "      <td>35.0</td>\n",
       "      <td>NaN</td>\n",
       "    </tr>\n",
       "    <tr>\n",
       "      <th>3</th>\n",
       "      <td>Alice</td>\n",
       "      <td>NaN</td>\n",
       "      <td>NY</td>\n",
       "    </tr>\n",
       "    <tr>\n",
       "      <th>4</th>\n",
       "      <td>Bob</td>\n",
       "      <td>NaN</td>\n",
       "      <td>LA</td>\n",
       "    </tr>\n",
       "    <tr>\n",
       "      <th>5</th>\n",
       "      <td>David</td>\n",
       "      <td>NaN</td>\n",
       "      <td>Chicago</td>\n",
       "    </tr>\n",
       "  </tbody>\n",
       "</table>\n",
       "</div>"
      ],
      "text/plain": [
       "      Name   Age     City\n",
       "0    Alice  25.0      NaN\n",
       "1      Bob  30.0      NaN\n",
       "2  Charlie  35.0      NaN\n",
       "3    Alice   NaN       NY\n",
       "4      Bob   NaN       LA\n",
       "5    David   NaN  Chicago"
      ]
     },
     "execution_count": 72,
     "metadata": {},
     "output_type": "execute_result"
    }
   ],
   "source": [
    "# concatenate two DataFrames with resetting the index\n",
    "df_concat_reset = pd.concat([df1, df2], ignore_index=True)\n",
    "df_concat_reset"
   ]
  },
  {
   "cell_type": "code",
   "execution_count": 73,
   "id": "97969d38",
   "metadata": {},
   "outputs": [
    {
     "data": {
      "text/html": [
       "<div>\n",
       "<style scoped>\n",
       "    .dataframe tbody tr th:only-of-type {\n",
       "        vertical-align: middle;\n",
       "    }\n",
       "\n",
       "    .dataframe tbody tr th {\n",
       "        vertical-align: top;\n",
       "    }\n",
       "\n",
       "    .dataframe thead th {\n",
       "        text-align: right;\n",
       "    }\n",
       "</style>\n",
       "<table border=\"1\" class=\"dataframe\">\n",
       "  <thead>\n",
       "    <tr style=\"text-align: right;\">\n",
       "      <th></th>\n",
       "      <th>Name</th>\n",
       "      <th>Age</th>\n",
       "      <th>Name</th>\n",
       "      <th>City</th>\n",
       "    </tr>\n",
       "  </thead>\n",
       "  <tbody>\n",
       "    <tr>\n",
       "      <th>0</th>\n",
       "      <td>Alice</td>\n",
       "      <td>25</td>\n",
       "      <td>Alice</td>\n",
       "      <td>NY</td>\n",
       "    </tr>\n",
       "    <tr>\n",
       "      <th>1</th>\n",
       "      <td>Bob</td>\n",
       "      <td>30</td>\n",
       "      <td>Bob</td>\n",
       "      <td>LA</td>\n",
       "    </tr>\n",
       "    <tr>\n",
       "      <th>2</th>\n",
       "      <td>Charlie</td>\n",
       "      <td>35</td>\n",
       "      <td>David</td>\n",
       "      <td>Chicago</td>\n",
       "    </tr>\n",
       "  </tbody>\n",
       "</table>\n",
       "</div>"
      ],
      "text/plain": [
       "      Name  Age   Name     City\n",
       "0    Alice   25  Alice       NY\n",
       "1      Bob   30    Bob       LA\n",
       "2  Charlie   35  David  Chicago"
      ]
     },
     "execution_count": 73,
     "metadata": {},
     "output_type": "execute_result"
    }
   ],
   "source": [
    "# concatenate two dataframes column-wise\n",
    "df_concat_col = pd.concat([df1, df2], axis=1)\n",
    "df_concat_col"
   ]
  },
  {
   "cell_type": "markdown",
   "id": "d7cab749",
   "metadata": {},
   "source": [
    "##### Apply & Lambda (one-time function)\n",
    "\n",
    "<code>apply()</code> is a Pandas method that applies a function to:\n",
    "- A Series (```df['col'].apply()```) → element-wise\n",
    "- A DataFrame (```df.apply()```) → row-wise or column-wise\n",
    "\n",
    "<code>lambda</code> is a small anonymous function defined using:\n",
    "\n",
    "- ```lambda args: expression```"
   ]
  },
  {
   "cell_type": "code",
   "execution_count": null,
   "id": "f7d52be5",
   "metadata": {},
   "outputs": [
    {
     "name": "stdout",
     "output_type": "stream",
     "text": [
      "DataFrame after applying lambda function:\n",
      "      Name  Experience   Group\n",
      "0    Alice           2  Junior\n",
      "1      Bob           5  Senior\n",
      "2  Charlie           3  Senior\n",
      "3    David          10  Senior\n",
      "4      Eva           1  Junior\n",
      "5    Frank           8  Senior\n",
      "6    Grace           4  Senior\n"
     ]
    }
   ],
   "source": [
    "# apply conditional lambda function to a column\n",
    "df_read[\"Group\"] = df_read[\"Experience\"].apply(lambda x: 'Junior' if x < 3 else 'Senior')\n",
    "print(\"DataFrame after applying conditional lambda function:\")\n",
    "print(df_read[['Name','Experience','Group']])"
   ]
  },
  {
   "cell_type": "code",
   "execution_count": 88,
   "id": "89cd8faf",
   "metadata": {},
   "outputs": [
    {
     "name": "stdout",
     "output_type": "stream",
     "text": [
      "DataFrame after applying to multiple columns:\n",
      "      Name   Salary  Experience Category\n",
      "0    Alice  70000.0           2   Normal\n",
      "1      Bob  80000.0           5   Normal\n",
      "2  Charlie      0.0           3   Normal\n",
      "3    David  90000.0          10   Normal\n",
      "4      Eva  75000.0           1   Normal\n",
      "5    Frank  60000.0           8      Low\n",
      "6    Grace  50000.0           4      Low\n"
     ]
    }
   ],
   "source": [
    "# apply to multiple columns\n",
    "df_read['Category'] = df_read.apply(lambda x: 'Low' if x['Salary'] < 70000 and x['Experience'] > 3 else 'Normal', axis=1)\n",
    "print(\"DataFrame after applying to multiple columns:\")\n",
    "print(df_read[['Name', 'Salary', 'Experience', 'Category']])"
   ]
  },
  {
   "cell_type": "markdown",
   "id": "dabf8cf2",
   "metadata": {},
   "source": [
    "<a id=\"np\"></a>\n",
    "### Numpy"
   ]
  },
  {
   "cell_type": "markdown",
   "id": "979ac962",
   "metadata": {},
   "source": [
    "**NumPy** (Numerical Python) is the **foundation of numerical and scientific computing in Python**. It offers:\n",
    "- A powerful object called ```ndarray``` — a multi-dimensional array\n",
    "- Mathematical functions for operations on arrays\n",
    "- Tools for linear algebra, statistics, random number generation, and more"
   ]
  },
  {
   "cell_type": "code",
   "execution_count": 90,
   "id": "47e85319",
   "metadata": {},
   "outputs": [],
   "source": [
    "import numpy as np"
   ]
  },
  {
   "cell_type": "markdown",
   "id": "5a3e0d16",
   "metadata": {},
   "source": [
    "<a id=\"ndarray\"></a>\n",
    "#### NumPy Array (ndarray)"
   ]
  },
  {
   "cell_type": "code",
   "execution_count": 102,
   "id": "f2910acd",
   "metadata": {},
   "outputs": [
    {
     "name": "stdout",
     "output_type": "stream",
     "text": [
      "Original 1D ndarray:\n",
      "[1 2 3 4 5]\n",
      "Original 2D ndarray:\n",
      "[[1 2]\n",
      " [4 5]\n",
      " [7 8]]\n",
      "Original 3D ndarray:\n",
      "[[[ 1  2  3]\n",
      "  [ 4  5  6]]\n",
      "\n",
      " [[ 7  8  9]\n",
      "  [10 11 12]]]\n"
     ]
    }
   ],
   "source": [
    "# Create ndarray\n",
    "# 1-dimensional array\n",
    "arr_1d = np.array([1, 2, 3, 4, 5])\n",
    "print(\"Original 1D ndarray:\")\n",
    "print(arr_1d)\n",
    "\n",
    "# 2-dimensional array\n",
    "arr_2d = np.array([[1, 2], [4, 5], [7, 8]])\n",
    "print(\"Original 2D ndarray:\")\n",
    "print(arr_2d)\n",
    "\n",
    "# 3-dimensional array\n",
    "arr_3d = np.array([[[1, 2, 3], [4, 5, 6]], [[7, 8, 9], [10, 11, 12]]])\n",
    "print(\"Original 3D ndarray:\")\n",
    "print(arr_3d)\n",
    "\n"
   ]
  },
  {
   "cell_type": "code",
   "execution_count": null,
   "id": "7ab0366e",
   "metadata": {},
   "outputs": [
    {
     "name": "stdout",
     "output_type": "stream",
     "text": [
      "Size of 1D array: 5\n",
      "Size of 2D array: 6\n",
      "Size of 3D array: 12\n"
     ]
    }
   ],
   "source": [
    "# size of the array \n",
    "# The number of elements in the array\n",
    "print(\"Size of 1D array:\", arr_1d.size)\n",
    "print(\"Size of 2D array:\", arr_2d.size)\n",
    "print(\"Size of 3D array:\", arr_3d.size)"
   ]
  },
  {
   "cell_type": "markdown",
   "id": "29bad658",
   "metadata": {},
   "source": [
    "##### Indexing Guide\n",
    "\n",
    "```python\n",
    "X = np.array([\n",
    "    [1, 2, 3],\n",
    "    [4, 5, 6],\n",
    "    [7, 8, 9]\n",
    "])  # shape = (3, 3) -> (row, column)\n",
    "```\n",
    "\n",
    "X[1, 2]  → 6\n",
    "\n",
    "X[0:2, :] → [[1, 2, 3],\n",
    "              [4, 5, 6]]\n",
    "\n",
    "X[1, :] → [4, 5, 6]   # 1st row\n",
    "\n",
    "X[:, 2] → [3, 6, 9]   # 2nd column"
   ]
  },
  {
   "cell_type": "code",
   "execution_count": 123,
   "id": "c23b618c",
   "metadata": {},
   "outputs": [
    {
     "name": "stdout",
     "output_type": "stream",
     "text": [
      "Output of slicing the array X:\n",
      "[1 2]\n"
     ]
    }
   ],
   "source": [
    "X=np.array([[1,0,1],[2,2,2]]) \n",
    "\n",
    "out=X[0:2,2]\n",
    "print(\"Output of slicing the array X:\")\n",
    "print(out)"
   ]
  },
  {
   "cell_type": "markdown",
   "id": "4d9a94cd",
   "metadata": {},
   "source": [
    "##### Shape and Reshape Array\n",
    "\n",
    "- .shape tells you the dimensions of the array.\n",
    "- Reshape allows you to change the shape without changing the data."
   ]
  },
  {
   "cell_type": "code",
   "execution_count": 103,
   "id": "26443c24",
   "metadata": {},
   "outputs": [
    {
     "name": "stdout",
     "output_type": "stream",
     "text": [
      "Shape of 1D array: (5,)\n",
      "Shape of 2D array: (3, 2)\n",
      "Shape of 3D array: (2, 2, 3)\n"
     ]
    }
   ],
   "source": [
    "# shape of the array\n",
    "print(\"Shape of 1D array:\", arr_1d.shape)\n",
    "print(\"Shape of 2D array:\", arr_2d.shape)\n",
    "print(\"Shape of 3D array:\", arr_3d.shape)"
   ]
  },
  {
   "cell_type": "code",
   "execution_count": 107,
   "id": "f1b57f9d",
   "metadata": {},
   "outputs": [
    {
     "name": "stdout",
     "output_type": "stream",
     "text": [
      "Reshaped 1D array to 2D:\n",
      "[[1]\n",
      " [2]\n",
      " [3]\n",
      " [4]\n",
      " [5]]\n",
      "Reshaped 2D array to 3D:\n",
      "[[[1 2]]\n",
      "\n",
      " [[4 5]]\n",
      "\n",
      " [[7 8]]]\n"
     ]
    }
   ],
   "source": [
    "# Reshape ndarray\n",
    "arr_reshaped = arr_1d.reshape((5, 1))  # Reshape 1D to 2D\n",
    "print(\"Reshaped 1D array to 2D:\")\n",
    "print(arr_reshaped)\n",
    "# Reshape 2D to 3D\n",
    "arr_reshaped_3d = arr_2d.reshape((3, 1, 2))  # Reshape 2D to 3D\n",
    "print(\"Reshaped 2D array to 3D:\")\n",
    "print(arr_reshaped_3d)\n"
   ]
  },
  {
   "cell_type": "markdown",
   "id": "62b8eccd",
   "metadata": {},
   "source": [
    "<a id=\"vec\"></a>\n",
    "#### Vectorized Computation\n",
    "\n",
    "This is a core power of NumPy.\n",
    "\n",
    "Definition: Perform operations on entire arrays without writing loops. The operations are applied element-by-element at lightning speed.\n",
    "\n",
    "Let's say you have weight of 3 people in kg, you can convert them to lb with vectorized computation.\n",
    "```python\n",
    "kg = np.array([48, 65, 54])\n",
    "lb = kg * 2.2\n",
    "```"
   ]
  },
  {
   "cell_type": "code",
   "execution_count": null,
   "id": "edc63fcc",
   "metadata": {},
   "outputs": [
    {
     "name": "stdout",
     "output_type": "stream",
     "text": [
      "Array after adding 10 to each element:\n",
      "[11 12 13 14 15]\n",
      "Array after element-wise multiplication:\n",
      "[ 1  4  9 16 25]\n"
     ]
    }
   ],
   "source": [
    "# Vectorized addition\n",
    "arr_add = arr_1d + 10  # Add 10 to each element\n",
    "print(\"Array after adding 10 to each element:\")\n",
    "print(arr_add)\n",
    "\n",
    "# Vectorized multiplication\n",
    "arr_mul = arr_1d * arr_1d  # Element-wise multiplication\n",
    "print(\"Array after element-wise multiplication:\")\n",
    "print(arr_mul)"
   ]
  },
  {
   "cell_type": "markdown",
   "id": "32cf6422",
   "metadata": {},
   "source": [
    "<a id=\"dot\"></a>\n",
    "#### Dot Product (Matrix Multiplication)\n",
    "\n",
    "np.dot() is a NumPy function used to compute the dot product (or inner product) of two arrays."
   ]
  },
  {
   "cell_type": "markdown",
   "id": "ad580b4e",
   "metadata": {},
   "source": [
    "##### Two Vectors (1D × 1D)\n",
    "\n",
    "\n",
    "```python\n",
    "a = [a1, a2, a3]\n",
    "b = [b1, b2, b3]\n",
    "dot(a, b) = a1*b1 + a2*b2 + a3*b3\n",
    "```\n"
   ]
  },
  {
   "cell_type": "code",
   "execution_count": 111,
   "id": "ac81da32",
   "metadata": {},
   "outputs": [
    {
     "name": "stdout",
     "output_type": "stream",
     "text": [
      "[1 2 3 4 5]\n",
      "Dot product of 1D array with itself:\n",
      "55\n"
     ]
    }
   ],
   "source": [
    "# dot product - for 1D arrays\n",
    "print(arr_1d)\n",
    "arr_dot = np.dot(arr_1d, arr_1d)  # Dot product of 1D array with itself\n",
    "print(\"Dot product of 1D array with itself:\")\n",
    "print(arr_dot)"
   ]
  },
  {
   "cell_type": "markdown",
   "id": "914237e3",
   "metadata": {},
   "source": [
    "##### Matrix × Vector (e.g. 2D × 1D)\n",
    "\n",
    "Matrix (m×n) × Vector (n,) → Vector (m,)\n",
    "\n",
    "*Apply vector to every row in the matrix"
   ]
  },
  {
   "cell_type": "code",
   "execution_count": null,
   "id": "0378fd19",
   "metadata": {},
   "outputs": [
    {
     "name": "stdout",
     "output_type": "stream",
     "text": [
      "Matrix-vector multiplication result:\n",
      "[ 5 11 17]\n"
     ]
    }
   ],
   "source": [
    "# Matrix and vector multiplication\n",
    "arr_matrix = np.array([[1, 2], [3, 4], [5, 6]])\n",
    "arr_vector = np.array([1, 2])\n",
    "arr_matrix_vector_mul = np.dot(arr_matrix, arr_vector)  # Matrix-vector multiplication\n",
    "print(\"Matrix-vector multiplication result:\")\n",
    "# 1*1 + 2*2\n",
    "# 3*1 + 4*2\n",
    "# 5*1 + 6*2\n",
    "print(arr_matrix_vector_mul)"
   ]
  },
  {
   "cell_type": "markdown",
   "id": "9b3616f6",
   "metadata": {},
   "source": [
    "##### Matrix × Matrix\n",
    "\n",
    "Matrix A shape: (m × n)\n",
    "\n",
    "Matrix B shape: (n × p)\n",
    "\n",
    "→ Result: shape (m × p)\n",
    "\n",
    "You are multiplying each row of a matrix on each column of another matrix to generate a new set of values."
   ]
  },
  {
   "cell_type": "code",
   "execution_count": 119,
   "id": "c92196de",
   "metadata": {},
   "outputs": [
    {
     "name": "stdout",
     "output_type": "stream",
     "text": [
      "2D array:\n",
      " [[1 2]\n",
      " [4 5]\n",
      " [7 8]]\n",
      "Transpose of 2D array:\n",
      " [[1 4 7]\n",
      " [2 5 8]]\n",
      "Matrix multiplication of 2D array with its transpose:\n",
      "[[  5  14  23]\n",
      " [ 14  41  68]\n",
      " [ 23  68 113]]\n"
     ]
    }
   ],
   "source": [
    "# Matrix multiplication - for 2D arrays\n",
    "print(\"2D array:\\n\", arr_2d) # 3 x 2 array\n",
    "print(\"Transpose of 2D array:\\n\", arr_2d.T)  # 2 x 3 array (Transpose of the 2D array)\n",
    "\n",
    "# Matrix multiplication of 2D array with its transpose\n",
    "arr_matmul = np.dot(arr_2d, arr_2d.T) # 3 x 3 array \n",
    "print(\"Matrix multiplication of 2D array with its transpose:\")\n",
    "# [[1*1 + 2*2, 1*4 + 2*5, 1*7 + 2*8],\n",
    "#  [4*1 + 5*2, 4*4 + 5*5, 4*7 + 5*8],\n",
    "#  [7*1 + 8*2, 7*4 + 8*5, 7*7 + 8*8]]\n",
    "print(arr_matmul)"
   ]
  },
  {
   "cell_type": "markdown",
   "id": "c536910e",
   "metadata": {},
   "source": [
    "<a id=\"collect\"></a>\n",
    "## **Data Collection**"
   ]
  },
  {
   "cell_type": "markdown",
   "id": "8c3ba003",
   "metadata": {},
   "source": [
    "<a id=\"api\"></a>\n",
    "### API\n",
    "\n",
    "API (Application Programming Interface) is a set of rules that allows software applications to communicate with each other. It enables access to data or services from another application.\n",
    "\n",
    "Pandas/NumPy are both APIs, each of them is set of software components."
   ]
  },
  {
   "cell_type": "markdown",
   "id": "26117e69",
   "metadata": {},
   "source": [
    "<a id=\"rest\"></a>\n",
    "### REST APIs\n",
    "\n",
    "Rest APIs function by sending a request to internet, the request is communicated via HTTP message. The HTTP message usually contains a JSON file."
   ]
  },
  {
   "cell_type": "code",
   "execution_count": 2,
   "id": "edbe5902",
   "metadata": {},
   "outputs": [
    {
     "name": "stdout",
     "output_type": "stream",
     "text": [
      "First 2 posts from the API:\n",
      "Title: sunt aut facere repellat provident occaecati excepturi optio reprehenderit\n",
      "Body: quia et suscipit\n",
      "suscipit recusandae consequuntur expedita et cum\n",
      "reprehenderit molestiae ut ut quas totam\n",
      "nostrum rerum est autem sunt rem eveniet architecto\n",
      "\n",
      "Title: qui est esse\n",
      "Body: est rerum tempore vitae\n",
      "sequi sint nihil reprehenderit dolor beatae ea dolores neque\n",
      "fugiat blanditiis voluptate porro vel nihil molestiae ut reiciendis\n",
      "qui aperiam non debitis possimus qui neque nisi nulla\n",
      "\n"
     ]
    }
   ],
   "source": [
    "# REST API example\n",
    "import requests\n",
    "# Define the API endpoint\n",
    "api_url = \"https://jsonplaceholder.typicode.com/posts\"\n",
    "# Make a GET request to the API\n",
    "response = requests.get(api_url)\n",
    "# Check if the request was successful\n",
    "if response.status_code == 200:\n",
    "    # Parse the JSON response\n",
    "    data = response.json()\n",
    "    print(\"First 2 posts from the API:\")\n",
    "    for post in data[:2]:  # Print first 2 posts\n",
    "        print(f\"Title: {post['title']}\\nBody: {post['body']}\\n\")"
   ]
  },
  {
   "cell_type": "markdown",
   "id": "50c53a20",
   "metadata": {},
   "source": [
    "<a id=\"requests\"></a>\n",
    "### Requests\n",
    "\n",
    "Requests is a Python library for making HTTP requests. It simplifies sending HTTP requests and handling responses in Python.\n",
    "\n",
    "Common HTTP methods:\n",
    "- **GET**: Retrieve data from a server.\n",
    "- **POST**: Send data to the server, usually to create or update resources.\n",
    "- **PUT**: Update or replace a resource on the server.\n",
    "- **DELETE**: Delete a resource on the server."
   ]
  },
  {
   "cell_type": "code",
   "execution_count": 13,
   "id": "9c60e1ff",
   "metadata": {},
   "outputs": [
    {
     "name": "stdout",
     "output_type": "stream",
     "text": [
      "Created Post:\n",
      "ID: 101\n",
      "Title: foo\n",
      "Body: bar\n",
      "{'title': 'foo', 'body': 'bar', 'userId': 1, 'id': 101}\n"
     ]
    }
   ],
   "source": [
    "# Request to create a new post\n",
    "new_post = {\n",
    "    \"title\": \"foo\",\n",
    "    \"body\": \"bar\",\n",
    "    \"userId\": 1\n",
    "}\n",
    "# Make a POST request to create a new post\n",
    "response_post = requests.post(api_url, json=new_post)\n",
    "# Check if the POST request was successful\n",
    "if response_post.status_code == 201:  # 201 Created\n",
    "    created_post = response_post.json()\n",
    "    print(\"Created Post:\")\n",
    "    print(f\"ID: {created_post['id']}\\nTitle: {created_post['title']}\\nBody: {created_post['body']}\")\n",
    "else:\n",
    "    print(\"Failed to create post. Status code:\", response_post.status_code)\n",
    "\n",
    "print(response_post.json()) \n"
   ]
  },
  {
   "cell_type": "code",
   "execution_count": 8,
   "id": "e63deee5",
   "metadata": {},
   "outputs": [
    {
     "name": "stdout",
     "output_type": "stream",
     "text": [
      "Updated Post:\n",
      "ID: 1\n",
      "Title: updated title\n",
      "Body: updated body\n"
     ]
    }
   ],
   "source": [
    "# Make a PUT request to update an existing post\n",
    "post_id = 1  # ID of the post to update\n",
    "update_post = {\n",
    "    \"id\": post_id,\n",
    "    \"title\": \"updated title\",\n",
    "    \"body\": \"updated body\",\n",
    "    \"userId\": 1\n",
    "}\n",
    "response_put = requests.put(f\"{api_url}/{post_id}\", json=update_post)\n",
    "# Check if the PUT request was successful\n",
    "if response_put.status_code == 200:  # 200 OK\n",
    "    updated_post = response_put.json()\n",
    "    print(\"Updated Post:\")\n",
    "    print(f\"ID: {updated_post['id']}\\nTitle: {updated_post['title']}\\nBody: {updated_post['body']}\")\n",
    "else:\n",
    "    print(\"Failed to update post. Status code:\", response_put.status_code)\n"
   ]
  },
  {
   "cell_type": "code",
   "execution_count": 9,
   "id": "c2a1d76e",
   "metadata": {},
   "outputs": [
    {
     "name": "stdout",
     "output_type": "stream",
     "text": [
      "Post with ID 1 deleted successfully.\n"
     ]
    }
   ],
   "source": [
    "# Make a DELETE request to delete a post\n",
    "response_delete = requests.delete(f\"{api_url}/{post_id}\")\n",
    "# Check if the DELETE request was successful\n",
    "if response_delete.status_code == 200:  # 200 OK\n",
    "    print(f\"Post with ID {post_id} deleted successfully.\")\n",
    "else:\n",
    "    print(f\"Failed to delete post with ID {post_id}. Status code:\", response_delete.status_code)\n"
   ]
  },
  {
   "cell_type": "markdown",
   "id": "9fdc9066",
   "metadata": {},
   "source": [
    "<a id=\"web\"></a>\n",
    "### Web Scraping"
   ]
  },
  {
   "cell_type": "code",
   "execution_count": null,
   "id": "1dcb0051",
   "metadata": {},
   "outputs": [
    {
     "name": "stdout",
     "output_type": "stream",
     "text": [
      "find a remote job\n",
      "work from anywhere\n",
      "Senior Fullstack Software Engineer\n",
      "Blotato\n",
      "Salary and compensation\n",
      "Benefits\n",
      "How do you apply?\n"
     ]
    }
   ],
   "source": [
    "\n",
    "url = \"https://remoteok.com/\"\n",
    "response = requests.get(url, headers={\"User-Agent\": \"Mozilla/5.0\"})\n",
    "\n",
    "soup = BeautifulSoup(response.text, \"html.parser\")\n",
    "for job in soup.find_all(\"h2\"):  # 找所有职位标题\n",
    "    print(job.text.strip())      "
   ]
  },
  {
   "cell_type": "code",
   "execution_count": 22,
   "id": "75d5875a",
   "metadata": {},
   "outputs": [
    {
     "name": "stdout",
     "output_type": "stream",
     "text": [
      "                Title          Company          Location  \\\n",
      "0  Lead Data Engineer  Open Architects  🇺🇸 United States   \n",
      "\n",
      "                                                Link  \n",
      "0  https://remoteok.com/remote-jobs/remote-lead-d...  \n"
     ]
    }
   ],
   "source": [
    "import requests\n",
    "from bs4 import BeautifulSoup\n",
    "import pandas as pd\n",
    "\n",
    "keyword = [\"SAS\", \"Statistical\", \"Programmer\", \"Analyst\", \"Data\", \"Scientist\", \"Programming\"]\n",
    "\n",
    "url = \"https://remoteok.com/remote-dev-jobs\"\n",
    "headers = {\"User-Agent\": \"Mozilla/5.0\"}\n",
    "\n",
    "response = requests.get(url, headers=headers)\n",
    "soup = BeautifulSoup(response.text, \"html.parser\")\n",
    "\n",
    "jobs = []\n",
    "for row in soup.find_all(\"tr\", class_=\"job\"):\n",
    "    title = row.find(\"h2\").text.strip() if row.find(\"h2\") else None\n",
    "    company = row.find(\"h3\").text.strip() if row.find(\"h3\") else None\n",
    "    location = row.find(\"div\", class_=\"location\").text.strip() if row.find(\"div\", class_=\"location\") else \"Remote\"\n",
    "    link = \"https://remoteok.com\" + row.get(\"data-href\") if row.get(\"data-href\") else None\n",
    "\n",
    "    if any(kw.lower() in title.lower() for kw in keyword):\n",
    "        jobs.append({\n",
    "            \"Title\": title,\n",
    "            \"Company\": company,\n",
    "            \"Location\": location,\n",
    "            \"Link\": link\n",
    "        })\n",
    "\n",
    "df = pd.DataFrame(jobs)\n",
    "print(df.head())"
   ]
  },
  {
   "cell_type": "code",
   "execution_count": 30,
   "id": "3353f13f",
   "metadata": {},
   "outputs": [
    {
     "name": "stdout",
     "output_type": "stream",
     "text": [
      "                                   Title    Price Availability Rating\n",
      "0                   A Light in the Attic  Â£51.77     In stock  Three\n",
      "1                     Tipping the Velvet  Â£53.74     In stock    One\n",
      "2                             Soumission  Â£50.10     In stock    One\n",
      "3                          Sharp Objects  Â£47.82     In stock   Four\n",
      "4  Sapiens: A Brief History of Humankind  Â£54.23     In stock   Five\n"
     ]
    }
   ],
   "source": [
    "url = \"https://books.toscrape.com/catalogue/page-1.html\"\n",
    "response = requests.get(url)\n",
    "soup = BeautifulSoup(response.text, \"html.parser\")\n",
    "\n",
    "books = []\n",
    "\n",
    "for item in soup.find_all(\"article\", class_=\"product_pod\"):\n",
    "    title = item.h3.a[\"title\"]\n",
    "    price = item.find(\"p\", class_=\"price_color\").text\n",
    "    availability = item.find(\"p\", class_=\"instock availability\").text.strip()\n",
    "    rating = item.p[\"class\"][1]  # e.g. \"Three\"\n",
    "\n",
    "    books.append({\n",
    "        \"Title\": title,\n",
    "        \"Price\": price,\n",
    "        \"Availability\": availability,\n",
    "        \"Rating\": rating\n",
    "    })\n",
    "\n",
    "df = pd.DataFrame(books)\n",
    "print(df.head())"
   ]
  },
  {
   "cell_type": "code",
   "execution_count": null,
   "id": "ee1656bb",
   "metadata": {},
   "outputs": [],
   "source": []
  }
 ],
 "metadata": {
  "kernelspec": {
   "display_name": "myenv311",
   "language": "python",
   "name": "python3"
  },
  "language_info": {
   "codemirror_mode": {
    "name": "ipython",
    "version": 3
   },
   "file_extension": ".py",
   "mimetype": "text/x-python",
   "name": "python",
   "nbconvert_exporter": "python",
   "pygments_lexer": "ipython3",
   "version": "3.11.13"
  }
 },
 "nbformat": 4,
 "nbformat_minor": 5
}
