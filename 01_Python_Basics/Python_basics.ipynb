{
 "cells": [
  {
   "cell_type": "markdown",
   "id": "03102d41",
   "metadata": {},
   "source": [
    "# Python for Data Science - Basics\n",
    "\n",
    "Python is an interpreted, high-level, general-purpose programming language. It is widely used for data analysis, machine learning, and web development.\n"
   ]
  },
  {
   "cell_type": "markdown",
   "id": "fddde62d",
   "metadata": {},
   "source": [
    "<h2>Table of Contents</h2>\n",
    "<div class=\"alert alert-block alert-info\" style=\"margin-top: 20px\">\n",
    "    <ul>\n",
    "    <li>\n",
    "    <a href=\"#basics\">Python Basics</a>\n",
    "        <ul>\n",
    "        <li>\n",
    "            <a href=\"#Types\">Types</a>\n",
    "            <ul>\n",
    "                <li><a href=\"#Converting\">Converting from one object type to a different object type</a></li>\n",
    "            </ul>\n",
    "        <li>\n",
    "            <a href=\"#exp-and-var\">Expressions and Variables</a>\n",
    "            <ul>\n",
    "                <li><a href=\"#Expressions\">Expressions</a></li>\n",
    "                <li><a href=\"#Variables\">Variables</a></li>\n",
    "            </ul>\n",
    "        <li>\n",
    "            <a href=\"#Strings\">Strings</a>\n",
    "                <ul>\n",
    "                <li>\n",
    "                <a href=\"#Indexing\">Indexing</a>\n",
    "                </li>\n",
    "                <ul>\n",
    "                    <li><a href=\"#Negative-Indexing\">Negative Indexing</a></li>\n",
    "                    <li><a href=\"#Slicing\">Slicing</a></li>\n",
    "                    <li><a href=\"#Stride\">Stride</a></li>\n",
    "                    <li><a href=\"#Concatenate-Strings\">Concatenate Strings</a></li>\n",
    "                </ul>\n",
    "                <li>\n",
    "                    <a href=\"#Escape-Sequences\">Escape Sequences</a>\n",
    "                </li>\n",
    "                <li>\n",
    "                    <a href=\"#String-Manipulation\">String Manipulation Operations</a>\n",
    "                </li>\n",
    "                </ul>\n",
    "        </ul>\n",
    "        <li>\n",
    "        <a href=\"#structure\">Python Data Structures</a>\n",
    "        <ul>\n",
    "            <li>\n",
    "            <a href=\"#Lists-and-Tuples\">Lists and Tuples</a>\n",
    "                <ul>\n",
    "                    <li>\n",
    "                    <a href=\"#list\">Lists</a>\n",
    "                    <ul>\n",
    "                        <li><a href=\"#index\">Indexing</a></li>\n",
    "                        <li><a href=\"#content\">List Content</a></li>\n",
    "                        <li><a href=\"#op\">List Operations</a></li>\n",
    "                        <li><a href=\"#co\">Copy and Clone List</a></li>\n",
    "                    </ul>\n",
    "                    <li>\n",
    "                    <a href=\"#Tuples\">Tuples</a>\n",
    "                    <ul>\n",
    "                        <li><a href=\"#tindex\">Indexing</a></li>\n",
    "                        <li><a href=\"#tslic\">Slicing</a></li>\n",
    "                        <li><a href=\"#tsort\">Sorting</a></li>\n",
    "                    </ul>\n",
    "                </ul>\n",
    "            <li>\n",
    "            <a href=\"#dict\">Dictionaries</a>\n",
    "                <ul>\n",
    "                    <li><a href=\"#create-dict\">Create a Dictionary and access the elements</a></li>\n",
    "                    <li><a href=\"#keys\">Keys</a></li>\n",
    "                </ul>\n",
    "            <li>\n",
    "            <a href=\"#set\">Sets</a>\n",
    "                <ul>\n",
    "                    <li><a href=\"#set-op\">Set Operations</a></li>\n",
    "                    <li><a href=\"#set-logic\">Sets Logic Operations</a></li>\n",
    "                </ul>\n",
    "            </li>\n",
    "        </ul>\n",
    "        </li>\n",
    "    <li>\n",
    "    <a href=\"#fund\">Programming Fundamentals</a>\n",
    "        <ul>\n",
    "            <li><a href=\"#con-bran\">Conditions and Branching</a></li>\n",
    "                <ul>\n",
    "                    <li><a href=\"#comp\">Comparison Operators</a></li>\n",
    "                    <li><a href=\"#branc\">Branching</a></li>\n",
    "                    <li><a href=\"#logiO\">Logical Operators</a></li>\n",
    "                </ul>\n",
    "            <li><a href=\"#loops\">Loops</a></li>\n",
    "                <ul>\n",
    "                    <li><a href=\"#range\">Range</a></li>\n",
    "                    <li><a href=\"#for\">for loop</a></li>\n",
    "                    <li><a href=\"#while\">while loop</a></li>\n",
    "                    <li><a href=\"#lctrl\">Loop Control Statements</a></li>\n",
    "                </ul>\n",
    "            <li><a href=\"#func\">Functions</a></li>\n",
    "            <li><a href=\"#except\">Exception Handling</a></li>\n",
    "            <li><a href=\"#obj-cla\">Objects and Classes</a></li>\n",
    "        </ul>\n",
    "    </ul>\n",
    "    </li>\n",
    "</div>\n",
    "\n",
    "<hr>"
   ]
  },
  {
   "cell_type": "markdown",
   "id": "5592aebd",
   "metadata": {},
   "source": [
    "<a id=\"basics\"></a>\n",
    "## **Python Basics:**\n"
   ]
  },
  {
   "cell_type": "markdown",
   "id": "b2da839d",
   "metadata": {},
   "source": [
    "<a id=\"Types\"></a>\n",
    "## 🎈Types\n"
   ]
  },
  {
   "cell_type": "markdown",
   "id": "e4242af1",
   "metadata": {},
   "source": [
    "Basic data types include:\n",
    "\n",
    "- int: x = 5\n",
    "- float: pi = 3.14\n",
    "- str: name = \"Alice\"\n",
    "- bool: is_valid = True\n",
    "\n",
    "<p>You can get Python to tell you the type of an expression by using the built-in <code>type()</code> function. You'll notice that Python refers to integers as <code>int</code>, floats as <code>float</code>, and character strings as <code>str</code>.</p>"
   ]
  },
  {
   "cell_type": "code",
   "execution_count": 175,
   "id": "0cc77b14",
   "metadata": {},
   "outputs": [
    {
     "data": {
      "text/plain": [
       "int"
      ]
     },
     "execution_count": 175,
     "metadata": {},
     "output_type": "execute_result"
    }
   ],
   "source": [
    "type(5)"
   ]
  },
  {
   "cell_type": "code",
   "execution_count": 176,
   "id": "95b9cf3e",
   "metadata": {},
   "outputs": [
    {
     "data": {
      "text/plain": [
       "float"
      ]
     },
     "execution_count": 176,
     "metadata": {},
     "output_type": "execute_result"
    }
   ],
   "source": [
    "type(3.14)"
   ]
  },
  {
   "cell_type": "code",
   "execution_count": 177,
   "id": "c519aee0",
   "metadata": {},
   "outputs": [
    {
     "data": {
      "text/plain": [
       "str"
      ]
     },
     "execution_count": 177,
     "metadata": {},
     "output_type": "execute_result"
    }
   ],
   "source": [
    "type(\"Hello, World!\")"
   ]
  },
  {
   "cell_type": "code",
   "execution_count": 178,
   "id": "739192a6",
   "metadata": {},
   "outputs": [
    {
     "data": {
      "text/plain": [
       "bool"
      ]
     },
     "execution_count": 178,
     "metadata": {},
     "output_type": "execute_result"
    }
   ],
   "source": [
    "type(True)"
   ]
  },
  {
   "cell_type": "markdown",
   "id": "3c518031",
   "metadata": {},
   "source": [
    "<a id=\"Converting\"></a>\n",
    "### Converting from one object type to a different object type\n",
    "You can change the type of the object in Python (**typecasting**)\n",
    "\n",
    "For example:"
   ]
  },
  {
   "cell_type": "code",
   "execution_count": 179,
   "id": "6a675886",
   "metadata": {},
   "outputs": [
    {
     "data": {
      "text/plain": [
       "5.0"
      ]
     },
     "execution_count": 179,
     "metadata": {},
     "output_type": "execute_result"
    }
   ],
   "source": [
    "# convert integer to a float\n",
    "float(5)"
   ]
  },
  {
   "cell_type": "markdown",
   "id": "a6205633",
   "metadata": {},
   "source": [
    "If we cast a float into an integer, we could potentially lose some information:"
   ]
  },
  {
   "cell_type": "code",
   "execution_count": 180,
   "id": "3e419365",
   "metadata": {},
   "outputs": [
    {
     "data": {
      "text/plain": [
       "3"
      ]
     },
     "execution_count": 180,
     "metadata": {},
     "output_type": "execute_result"
    }
   ],
   "source": [
    "# Convert float to integer\n",
    "int(3.14)"
   ]
  },
  {
   "cell_type": "code",
   "execution_count": 181,
   "id": "ceed7c6f",
   "metadata": {},
   "outputs": [
    {
     "name": "stdout",
     "output_type": "stream",
     "text": [
      "10 3.14\n"
     ]
    },
    {
     "data": {
      "text/plain": [
       "'3.14'"
      ]
     },
     "execution_count": 181,
     "metadata": {},
     "output_type": "execute_result"
    }
   ],
   "source": [
    "# Convert string to int and float\n",
    "x=int('10')\n",
    "y=float('3.14')\n",
    "print(x, y)\n",
    "\n",
    "# Convert number to string\n",
    "str(3.14)"
   ]
  },
  {
   "cell_type": "markdown",
   "id": "7287115c",
   "metadata": {},
   "source": [
    "<p>We can cast boolean objects to other data types. \n",
    "\n",
    "If we cast a boolean with a value of <code>True</code> to an integer or float we will get a one. If we cast a boolean with a value of <code>False</code> to an integer or float we will get a zero. Similarly, if we cast a 1 to a Boolean, you get a <code>True</code>. And if we cast a 0 to a Boolean we will get a <code>False</code>. Let's give it a try:</p> "
   ]
  },
  {
   "cell_type": "code",
   "execution_count": 182,
   "id": "819ce265",
   "metadata": {},
   "outputs": [
    {
     "name": "stdout",
     "output_type": "stream",
     "text": [
      "1\n",
      "False\n"
     ]
    }
   ],
   "source": [
    "# Convert boolean to integer and vice versa\n",
    "print(int(True))  # True\n",
    "print(bool(0))  # False\n"
   ]
  },
  {
   "cell_type": "markdown",
   "id": "cc042517",
   "metadata": {},
   "source": [
    "<a id=\"exp-and-var\"></a>\n",
    "## 🎈Expressions and Variables"
   ]
  },
  {
   "cell_type": "markdown",
   "id": "7c540980",
   "metadata": {},
   "source": [
    "<a id=\"Expressions\"></a>\n",
    "### Expressions\n",
    "\n",
    "Expressions in Python can include operations among compatible types (e.g., integers and floats). For example, basic arithmetic operations like adding multiple numbers:"
   ]
  },
  {
   "cell_type": "code",
   "execution_count": 183,
   "id": "d34ee1ce",
   "metadata": {},
   "outputs": [
    {
     "name": "stdout",
     "output_type": "stream",
     "text": [
      "-10\n",
      "30\n",
      "3.3333333333333335\n",
      "3\n"
     ]
    }
   ],
   "source": [
    "# Arithmetic operations (addition, subtraction, multiplication, division, integer division)\n",
    "print(50 - 60)  # -10\n",
    "print(5 * 6)  # 30\n",
    "print(10 / 3)  # 3.3333333333333335\n",
    "print(10 // 3)  # 3"
   ]
  },
  {
   "cell_type": "code",
   "execution_count": 184,
   "id": "4d55327b",
   "metadata": {},
   "outputs": [
    {
     "name": "stdout",
     "output_type": "stream",
     "text": [
      "14\n",
      "20\n",
      "8\n",
      "1\n"
     ]
    }
   ],
   "source": [
    "# Mathematical operations\n",
    "\n",
    "# Order of operations\n",
    "print(2 + 3 * 4)  # 14\n",
    "# Using parentheses to change order of operations\n",
    "print((2 + 3) * 4)  # 20\n",
    "\n",
    "# Exponentiation\n",
    "print(2 ** 3)  # 8\n",
    "\n",
    "# Modulus operation\n",
    "print(10 % 3)  # 1"
   ]
  },
  {
   "cell_type": "markdown",
   "id": "c78c7541",
   "metadata": {},
   "source": [
    "<a id=\"Variables\"></a>\n",
    "### Variables\n",
    "\n",
    "We can store values in variables, so we can use them later on. For example:"
   ]
  },
  {
   "cell_type": "code",
   "execution_count": 185,
   "id": "815aeeef",
   "metadata": {},
   "outputs": [
    {
     "name": "stdout",
     "output_type": "stream",
     "text": [
      "x is: 9\n",
      "y is: 4.5\n"
     ]
    }
   ],
   "source": [
    "x = 4 + 5\n",
    "print(\"x is:\", x)  # 9\n",
    "\n",
    "y = x / 2\n",
    "print(\"y is:\", y)  # 4.5"
   ]
  },
  {
   "cell_type": "markdown",
   "id": "85d77676",
   "metadata": {},
   "source": [
    "<a id=\"Strings\"></a>\n",
    "## 🎈Strings"
   ]
  },
  {
   "cell_type": "markdown",
   "id": "9c756e1a",
   "metadata": {},
   "source": [
    "<a id=\"Indexing\"></a>\n",
    "### Indexing \n",
    "\n",
    "<a id=\"Negative-Indexing\"></a>\n",
    "#### Negative Indexing\n",
    "\n",
    "It is helpful to think of a string as an ordered sequence. Each element in the sequence can be accessed using an index represented by the array of numbers, for example:\n",
    "|H|e|l|l|o|\n",
    "|-|-|-|-|-|\n",
    "|0|1|2|3|4|\n",
    "\n",
    "or \n",
    "\n",
    "|H|e|l|l|o|\n",
    "|-|-|-|-|-|\n",
    "|-5|-4|-3|-2|-1|"
   ]
  },
  {
   "cell_type": "code",
   "execution_count": 186,
   "id": "0b19a6d2",
   "metadata": {},
   "outputs": [
    {
     "name": "stdout",
     "output_type": "stream",
     "text": [
      "e\n",
      "o\n",
      "5\n"
     ]
    }
   ],
   "source": [
    "name = \"Hello\"\n",
    "# Print elements of the string\n",
    "print(name[1])  # 'e'\n",
    "\n",
    "# Print elements of the string in reverse\n",
    "print(name[-1])  # 'o'\n",
    "\n",
    "# Print the length of the string\n",
    "print(len(name))  # 5"
   ]
  },
  {
   "cell_type": "markdown",
   "id": "ef967af3",
   "metadata": {},
   "source": [
    "<a id=\"Slicing\"></a>\n",
    "#### Slicing\n",
    "\n",
    "We can obtain multiple characters from a string using slicing\n",
    "\n",
    "[Tip]: When taking the slice, the first number means the index (start at 0), and the second number means the length from the index to the last element you want (start at 1)"
   ]
  },
  {
   "cell_type": "code",
   "execution_count": 187,
   "id": "d40662dc",
   "metadata": {},
   "outputs": [
    {
     "name": "stdout",
     "output_type": "stream",
     "text": [
      "el\n",
      "ello\n",
      "lo\n",
      "ll\n"
     ]
    }
   ],
   "source": [
    "# Take the slice of the string\n",
    "print(name[1:3])  # with only index 1 to index 2 'el'\n",
    "print(name[1:])  # with only index 1 to the last element 'ello'\n",
    "\n",
    "print(name[-2:])  # 'lo'\n",
    "print(name[-3:-1])  # 'll'"
   ]
  },
  {
   "cell_type": "markdown",
   "id": "19114aee",
   "metadata": {},
   "source": [
    "<a id=\"Stride\"></a>\n",
    "#### Stride\n",
    "\n"
   ]
  },
  {
   "cell_type": "code",
   "execution_count": 188,
   "id": "532b0df5",
   "metadata": {},
   "outputs": [
    {
     "name": "stdout",
     "output_type": "stream",
     "text": [
      "Hlo\n",
      "olleH\n",
      "el\n"
     ]
    }
   ],
   "source": [
    "print(name[::2])  # 'Hlo' (every second character: 1, 3, 5)\n",
    "\n",
    "print(name[::-1])  # 'olleH' (reversed string, every character in reverse order)\n",
    "\n",
    "print(name[1:4:2])  # 'el' (from index 1 to 3, every second character)"
   ]
  },
  {
   "cell_type": "markdown",
   "id": "c40cf77b",
   "metadata": {},
   "source": [
    "<a id=\"Concatenate-Strings\"></a>\n",
    "#### Concatenate Strings\n",
    "\n",
    "We can concatenate or combine strings by using the addition symbols, and the result is a new string that is a combination of both"
   ]
  },
  {
   "cell_type": "code",
   "execution_count": 189,
   "id": "fd73cb59",
   "metadata": {},
   "outputs": [
    {
     "name": "stdout",
     "output_type": "stream",
     "text": [
      "Hello World\n",
      "HelloHelloHello\n"
     ]
    }
   ],
   "source": [
    "statement = name + \" World\"\n",
    "print(statement)  # 'Hello World'\n",
    "\n",
    "# Print the string multiple times\n",
    "print(name * 3)  # 'HelloHelloHello'"
   ]
  },
  {
   "cell_type": "markdown",
   "id": "3c9d767a",
   "metadata": {},
   "source": [
    "<a id=\"Escape-Sequences\"></a>\n",
    "### Escape Sequences\n",
    "\n",
    "Back slashes represent the beginning of escape sequences. Escape sequences represent strings that may be difficult to input. For example, back slash \"n\" represents a new line."
   ]
  },
  {
   "cell_type": "code",
   "execution_count": 190,
   "id": "412aaa67",
   "metadata": {},
   "outputs": [
    {
     "name": "stdout",
     "output_type": "stream",
     "text": [
      "Hello\n",
      "World\n",
      "Hello\tWorld\n",
      "Hello\\nWorld\n"
     ]
    }
   ],
   "source": [
    "# New line escape character\n",
    "print(\"Hello\\nWorld\")  # 'Hello' and 'World' on separate lines\n",
    "# Tab escape character\n",
    "print(\"Hello\\tWorld\")  # 'Hello' and 'World' separated by a tab space\n",
    "# r prefix for raw string\n",
    "print(r\"Hello\\nWorld\")  # 'Hello\\nWorld' as a raw string, no escape characters processed"
   ]
  },
  {
   "cell_type": "markdown",
   "id": "223548b9",
   "metadata": {},
   "source": [
    "<a id=\"String-Manipulation\"></a>\n",
    "### String Manipulation Operations"
   ]
  },
  {
   "cell_type": "code",
   "execution_count": 191,
   "id": "605928a5",
   "metadata": {},
   "outputs": [],
   "source": [
    "name = name + \" World\"\n"
   ]
  },
  {
   "cell_type": "code",
   "execution_count": 192,
   "id": "dba826ef",
   "metadata": {},
   "outputs": [
    {
     "name": "stdout",
     "output_type": "stream",
     "text": [
      "HELLO WORLD\n",
      "hello world\n",
      "Hello world\n",
      "Hello World\n"
     ]
    }
   ],
   "source": [
    "# Upper and lower case conversions\n",
    "print(name.upper())  # 'HELLO WORLD'\n",
    "print(name.lower())  # 'hello world'\n",
    "\n",
    "# Capitalize the first letter\n",
    "print(name.capitalize())  # 'Hello world'\n",
    "\n",
    "# Title case (capitalize first letter of each word)\n",
    "print(name.title())  # 'Hello World'\n"
   ]
  },
  {
   "cell_type": "code",
   "execution_count": 193,
   "id": "f388cb9d",
   "metadata": {},
   "outputs": [
    {
     "name": "stdout",
     "output_type": "stream",
     "text": [
      "Hello World is 30 years old\n",
      "True\n"
     ]
    }
   ],
   "source": [
    "# String formatting\n",
    "age = 30\n",
    "print(f\"{name} is {age} years old\")  # 'Hello is 30 years old'\n",
    "# String methods\n",
    "print(name.startswith(\"He\"))  # True"
   ]
  },
  {
   "cell_type": "code",
   "execution_count": 194,
   "id": "0c5ce84b",
   "metadata": {},
   "outputs": [
    {
     "name": "stdout",
     "output_type": "stream",
     "text": [
      "Hello Python\n",
      "6\n",
      "-1\n",
      "['Hello', 'World']\n",
      "Hello World\n",
      "True\n"
     ]
    }
   ],
   "source": [
    "# Replace a substring\n",
    "print(name.replace(\"World\", \"Python\"))  # 'Hello Python'\n",
    "\n",
    "# Find the index of a substring\n",
    "print(name.find(\"World\"))  # 6 (index of the substring)\n",
    "print(name.find(\"dkdslfsjdkjf\")) # -1 (not found)\n",
    "\n",
    "# Split the string into a list\n",
    "print(name.split())  # ['Hello', 'World']\n",
    "# Join a list of strings into a single string\n",
    "print(\" \".join([\"Hello\", \"World\"]))  # 'Hello World'\n",
    "\n",
    "# Check if a substring is in the string\n",
    "print(\"Hello\" in name)  # True"
   ]
  },
  {
   "cell_type": "markdown",
   "id": "853ad911",
   "metadata": {},
   "source": [
    "<a id=\"structure\"></a>\n",
    "## **Python data structures:**\n",
    "\n",
    "- List: fruits = ['apple', 'banana', 'orange']\n",
    "- Tuple: coordinates = (4, 5)\n",
    "- Dictionary: student = {'name': 'John', 'age': 22}\n",
    "- Set: unique_values = set([1, 2, 2, 3])\n"
   ]
  },
  {
   "cell_type": "markdown",
   "id": "baf0fd57",
   "metadata": {},
   "source": [
    "<a id=\"Lists-and-Tuples\"></a>\n",
    "## 🎈Lists and Tuples"
   ]
  },
  {
   "cell_type": "markdown",
   "id": "7efd1429",
   "metadata": {},
   "source": [
    "<a id=\"list\"></a>\n",
    "### Lists"
   ]
  },
  {
   "cell_type": "markdown",
   "id": "94677a56",
   "metadata": {},
   "source": [
    "<a id=\"index\"></a>\n",
    "#### Indexing\n",
    "\n",
    "A list is a sequenced collection of different objects such as integers, strings, and even other lists as well. The address of each element within a list is called an index. An index is used to access and refer to items within a list."
   ]
  },
  {
   "cell_type": "code",
   "execution_count": 195,
   "id": "56ca8380",
   "metadata": {},
   "outputs": [
    {
     "data": {
      "text/plain": [
       "['apple', 2, 3.14, True, 'banana']"
      ]
     },
     "execution_count": 195,
     "metadata": {},
     "output_type": "execute_result"
    }
   ],
   "source": [
    "# Create a list\n",
    "L = [\"apple\", 2, 3.14, True, \"banana\"]\n",
    "L "
   ]
  },
  {
   "cell_type": "markdown",
   "id": "9898346d",
   "metadata": {},
   "source": [
    "We can use **regular and negative** indexing within a list:"
   ]
  },
  {
   "cell_type": "code",
   "execution_count": 196,
   "id": "ed1db4cd",
   "metadata": {},
   "outputs": [
    {
     "name": "stdout",
     "output_type": "stream",
     "text": [
      "the first element using negative and positive indexing: \n",
      " Positive: apple \n",
      " Negative: apple\n"
     ]
    }
   ],
   "source": [
    "# Access elements in the list\n",
    "print('the first element using negative and positive indexing:',\n",
    "      '\\n Positive:', L[0],\n",
    "      '\\n Negative:', L[-5])  # 'apple'"
   ]
  },
  {
   "cell_type": "markdown",
   "id": "ce387d3e",
   "metadata": {},
   "source": [
    "<a id=\"content\"></a>\n",
    "#### List Content\n",
    "\n",
    "Lists can contain **strings**, **floats**, and **integers**. We can **nest other lists**, and we can also **nest tuples** and other data structures. The same indexing conventions apply for nesting:"
   ]
  },
  {
   "cell_type": "code",
   "execution_count": 197,
   "id": "65d10979",
   "metadata": {},
   "outputs": [
    {
     "name": "stdout",
     "output_type": "stream",
     "text": [
      "[1, 2, [3, 4], 'apple', ('banana', 10)]\n",
      "4\n",
      "[2, [3, 4], 'apple']\n"
     ]
    }
   ],
   "source": [
    "nested_list = [1, 2, [3, 4], \"apple\", (\"banana\", 10)]\n",
    "print(nested_list)\n",
    "\n",
    "# Access elements in the nested list\n",
    "print(nested_list[2][1])  # 4 (accessing the second element of the nested list)\n",
    "\n",
    "# Slicing the list\n",
    "print(nested_list[1:4])  # [2, [3, 4], 'apple'] (slicing from index 1 to 3)\n"
   ]
  },
  {
   "cell_type": "markdown",
   "id": "13175bd4",
   "metadata": {},
   "source": [
    "<a id=\"op\"></a>\n",
    "#### List Operations"
   ]
  },
  {
   "cell_type": "markdown",
   "id": "6f1567c2",
   "metadata": {},
   "source": [
    "\n",
    "We can use the method <code>extend</code> to add new elements to the list:\n"
   ]
  },
  {
   "cell_type": "code",
   "execution_count": 198,
   "id": "11cf3789",
   "metadata": {},
   "outputs": [
    {
     "name": "stdout",
     "output_type": "stream",
     "text": [
      "['apple', 2, 3.14, True, 'banana', 'orange', 5.5]\n"
     ]
    }
   ],
   "source": [
    "L.extend([\"orange\", 5.5])  # Adding elements to the list\n",
    "print(L)  # ['apple', 2, 3.14, True, 'banana', 'orange', 5.5]"
   ]
  },
  {
   "cell_type": "markdown",
   "id": "7ef141c4",
   "metadata": {},
   "source": [
    "Another similar method is <code>append</code>. If we apply <code>append</code> instead of <code>extend</code>, we add one element to the list:"
   ]
  },
  {
   "cell_type": "code",
   "execution_count": 199,
   "id": "cf0376e4",
   "metadata": {},
   "outputs": [
    {
     "name": "stdout",
     "output_type": "stream",
     "text": [
      "['apple', 2, 3.14, True, 'banana', 'orange', 5.5, ['grape', 6]]\n"
     ]
    }
   ],
   "source": [
    "L.append([\"grape\", 6])  # Appending a new list to the end\n",
    "print(L)  # ['apple', 2, 3.14, True, 'banana', 'orange', 5.5, ['grape', 6]]"
   ]
  },
  {
   "cell_type": "markdown",
   "id": "96f092b7",
   "metadata": {},
   "source": [
    "We can change elements in lists:"
   ]
  },
  {
   "cell_type": "code",
   "execution_count": 200,
   "id": "92edf9de",
   "metadata": {},
   "outputs": [
    {
     "name": "stdout",
     "output_type": "stream",
     "text": [
      "Before: ['apple', 2, 3.14, True, 'banana', 'orange', 5.5, ['grape', 6]]\n",
      "After: ['apple', 2, 3.14, True, 'banana', 'kiwi', 5.5, ['grape', 6]]\n"
     ]
    }
   ],
   "source": [
    "print(\"Before:\", L)\n",
    "L[5] = \"kiwi\"  # Replacing 'orange' with 'kiwi'\n",
    "print(\"After:\", L)  # ['apple', 2, 3.14, True, 'banana', 'kiwi', 5.5, ['grape', 6]]"
   ]
  },
  {
   "cell_type": "markdown",
   "id": "f1ae8edc",
   "metadata": {},
   "source": [
    "We can delete elements of lists using <code>del</code>, <code>remove</code>:"
   ]
  },
  {
   "cell_type": "code",
   "execution_count": 201,
   "id": "2e31df2a",
   "metadata": {},
   "outputs": [
    {
     "name": "stdout",
     "output_type": "stream",
     "text": [
      "Before removing: ['apple', 2, 3.14, True, 'banana', 'kiwi', 5.5, ['grape', 6]]\n",
      "After removing: ['apple', 2, 3.14, True, 'kiwi', 5.5]\n",
      "\n",
      "Before deleting: ['apple', 2, 3.14, True, 'kiwi', ['grape', 6]]\n",
      "After deleting: ['apple', 2, 3.14, True, 'kiwi']\n"
     ]
    }
   ],
   "source": [
    "L = ['apple', 2, 3.14, True, 'banana', 'kiwi', 5.5, ['grape', 6]]\n",
    "print(\"Before removing:\", L)\n",
    "L.remove('banana')  # Removing an element by value\n",
    "L.remove(L[-1])  # Removing an element by indexing\n",
    "print(\"After removing:\", L)  # removed 'banana' and ['grape', 6]\n",
    "\n",
    "# Deleting elements from the list\n",
    "L = ['apple', 2, 3.14, True, 'kiwi', ['grape', 6]]\n",
    "print(\"\\nBefore deleting:\", L)\n",
    "del(L[5])  # Deleting the last element\n",
    "print(\"After deleting:\", L)  # ['2', 3.14, True, 'kiwi', ['grape', 6]]"
   ]
  },
  {
   "cell_type": "markdown",
   "id": "94d24b39",
   "metadata": {},
   "source": [
    "We can split string using <code>split</code>. The default delimiter is space, we can separate strings by defining the delimiter:"
   ]
  },
  {
   "cell_type": "code",
   "execution_count": 202,
   "id": "90d4ee0a",
   "metadata": {},
   "outputs": [
    {
     "name": "stdout",
     "output_type": "stream",
     "text": [
      "'hello world' split by default: ['hello', 'world'] \n",
      "'hello, world' split by comma and space: ['hello', 'world']\n"
     ]
    }
   ],
   "source": [
    "a = 'hello world'.split()  # ['hello', 'world']\n",
    "b = 'hello, world'.split(', ')  # ['hello', 'world']\n",
    "print(\"'hello world' split by default:\", a, \"\\n'hello, world' split by comma and space:\", b)  "
   ]
  },
  {
   "cell_type": "markdown",
   "id": "2ba8359e",
   "metadata": {},
   "source": [
    "<a id=\"co\"></a>\n",
    "#### Copy and Clone List\n",
    "\n",
    "1. **Copy:** When we set one variable <b>B</b> equal to <b>A</b>, both <b>A</b> and <b>B</b> are referencing the same list in memory:\n"
   ]
  },
  {
   "cell_type": "code",
   "execution_count": 203,
   "id": "8ec6c156",
   "metadata": {},
   "outputs": [
    {
     "name": "stdout",
     "output_type": "stream",
     "text": [
      "A: ['cat', ['dog', 'fish']]\n",
      "B: ['cat', ['dog', 'fish']]\n"
     ]
    }
   ],
   "source": [
    "A = [\"cat\", [\"dog\", \"fish\"]]\n",
    "B = A  # Copying the list A to B\n",
    "print(\"A:\", A)  # ['cat', ['dog', 'fish']]\n",
    "print(\"B:\", B)  # ['cat', ['dog', 'fish']]"
   ]
  },
  {
   "cell_type": "markdown",
   "id": "65b473db",
   "metadata": {},
   "source": [
    "As they are referencing the same list, if we change elements in **A**, then list **B** also changes:"
   ]
  },
  {
   "cell_type": "code",
   "execution_count": 204,
   "id": "7f7e982a",
   "metadata": {},
   "outputs": [
    {
     "name": "stdout",
     "output_type": "stream",
     "text": [
      "B[0]: cat\n",
      "After changing A[0] to 'bird', B[0]: bird\n"
     ]
    }
   ],
   "source": [
    "print(\"B[0]:\", B[0])  # 'cat'\n",
    "A[0] = \"bird\"  # Changing the first element of A\n",
    "print(\"After changing A[0] to 'bird', B[0]:\", B[0])  # 'bird' (B is affected because it references A)"
   ]
  },
  {
   "cell_type": "markdown",
   "id": "dbb7e72e",
   "metadata": {},
   "source": [
    "We can clone list **A** to avoid the issue:"
   ]
  },
  {
   "cell_type": "code",
   "execution_count": 205,
   "id": "35071158",
   "metadata": {},
   "outputs": [
    {
     "name": "stdout",
     "output_type": "stream",
     "text": [
      "After shallow copy, B: ['cat', ['dog', 'fish']]\n",
      "After shallow copy, A: ['cat', ['dog', 'fish']]\n",
      "B[0]: cat\n",
      "B[1]: ['dog', 'fish']\n",
      "A[1][0]: dog\n",
      "B[1][0]: dog\n",
      "After changing A[1][0] and A[0], A: ['bird', ['hamster', 'fish']]\n",
      "After changing A[1][0] and A[0], B: ['cat', ['hamster', 'fish']]\n",
      "\n",
      "After deep copy, B: ['bird', ['hamster', 'fish']]\n",
      "After deep copy, A: ['bird', ['hamster', 'fish']]\n",
      "B[0]: bird\n",
      "B[1]: ['hamster', 'fish']\n",
      "A[1][0]: hamster\n",
      "B[1][0]: hamster\n",
      "After changing A[1][0] and A[0], A: ['fox', ['parrot', 'fish']]\n",
      "After changing A[1][0] and A[0], B: ['bird', ['hamster', 'fish']]\n"
     ]
    }
   ],
   "source": [
    "A = [\"cat\", [\"dog\", \"fish\"]]\n",
    "\n",
    "# Cloning the list A to B\n",
    "B = A[:]    # Creating a shallow copy of A, copying the top-level elements\n",
    "            # Similar to B = A.copy()\n",
    "print(\"After shallow copy, B:\", B)  # ['bird', ['dog', 'fish']]\n",
    "print(\"After shallow copy, A:\", A)  # ['bird', ['dog', 'fish']]\n",
    "print(\"B[0]:\", B[0])  # 'bird'\n",
    "print(\"B[1]:\", B[1])  # ['dog', 'fish']\n",
    "print(\"A[1][0]:\", A[1][0])  # 'dog' (accessing the first element of the nested list in A)\n",
    "print(\"B[1][0]:\", B[1][0])  # 'dog' (B references the same nested list as A)\n",
    "# Modifying the nested list in A\n",
    "A[1][0] = \"hamster\"  # Changing the first element of the nested list in A\n",
    "A[0] = \"bird\"  # Changing the first element of A\n",
    "print(\"After changing A[1][0] and A[0], A:\", A)  # ['bird', ['hamster', 'fish']]\n",
    "print(\"After changing A[1][0] and A[0], B:\", B)  # ['bird', ['hamster', 'fish']] (B is affected because it is a shallow copy)\n",
    "\n",
    "# Creating a deep copy of A\n",
    "import copy\n",
    "B = copy.deepcopy(A)  # Creating a deep copy of A\n",
    "print(\"\\nAfter deep copy, B:\", B)  # ['bird', ['hamster', 'fish']]\n",
    "print(\"After deep copy, A:\", A)  # ['bird', ['hamster', 'fish']]\n",
    "print(\"B[0]:\", B[0])  # 'bird'\n",
    "print(\"B[1]:\", B[1])  # ['hamster', 'fish']\n",
    "print(\"A[1][0]:\", A[1][0])  # 'hamster' (accessing the first element of the nested list in A)\n",
    "print(\"B[1][0]:\", B[1][0])  # 'hamster' (B references the same nested list as A)\n",
    "# Modifying the nested list in A\n",
    "A[1][0] = \"parrot\"  # Changing the first element of the nested list in A\n",
    "A[0] = \"fox\"  # Changing the first element of A\n",
    "print(\"After changing A[1][0] and A[0], A:\", A)  # ['fox', ['parrot', 'fish']]\n",
    "print(\"After changing A[1][0] and A[0], B:\", B)  # ['bird', ['hamster', 'fish']] (B is not affected because it is a deep copy)"
   ]
  },
  {
   "cell_type": "markdown",
   "id": "66fc3efb",
   "metadata": {},
   "source": [
    "<a id=\"Tuples\"></a>\n",
    "### Tuples\n",
    "\n",
    "In Python, there are different data types (such as String, integer, float). These data types can all be contained in a tuple:"
   ]
  },
  {
   "cell_type": "code",
   "execution_count": 206,
   "id": "9639dcf3",
   "metadata": {},
   "outputs": [
    {
     "name": "stdout",
     "output_type": "stream",
     "text": [
      "My first tuple: (1, 2.2, 'Hello', True, [1, 2, 3])\n"
     ]
    },
    {
     "data": {
      "text/plain": [
       "tuple"
      ]
     },
     "execution_count": 206,
     "metadata": {},
     "output_type": "execute_result"
    }
   ],
   "source": [
    "tuple1 = (1, 2.2, \"Hello\", True, [1, 2, 3])\n",
    "print(\"My first tuple:\",tuple1)\n",
    "\n",
    "type(tuple1)  # <class 'tuple'>"
   ]
  },
  {
   "cell_type": "markdown",
   "id": "18765bf1",
   "metadata": {},
   "source": [
    "<a id=\"tindex\"></a>\n",
    "#### Indexing\n",
    "\n",
    "Same as above, each element of a tuple can be accessed via an regular or negative index. Each element can be obtained by the name of the tuple followed by a [square bracket] with the index number:"
   ]
  },
  {
   "cell_type": "code",
   "execution_count": 207,
   "id": "cafb89ed",
   "metadata": {},
   "outputs": [
    {
     "name": "stdout",
     "output_type": "stream",
     "text": [
      "1\n",
      "[1, 2, 3]\n",
      "(2.2, 'Hello')\n"
     ]
    }
   ],
   "source": [
    "print(tuple1[0])  # 1 (accessing the first element of the tuple)\n",
    "print(tuple1[-1])  # [1, 2, 3] (accessing the last element of the tuple)\n",
    "print(tuple1[1:3])  # (2.2, 'Hello') (slicing the tuple from index 1 to 2)"
   ]
  },
  {
   "cell_type": "code",
   "execution_count": 208,
   "id": "739e8864",
   "metadata": {},
   "outputs": [
    {
     "name": "stdout",
     "output_type": "stream",
     "text": [
      "<class 'int'>\n",
      "<class 'float'>\n",
      "<class 'str'>\n",
      "<class 'bool'>\n",
      "<class 'list'>\n"
     ]
    }
   ],
   "source": [
    "# Print the type of value in the tuple\n",
    "print(type(tuple1[0]))  # <class 'int'>\n",
    "print(type(tuple1[1]))  # <class 'float'>\n",
    "print(type(tuple1[2]))  # <class 'str'>\n",
    "print(type(tuple1[3]))  # <class 'bool'>\n",
    "print(type(tuple1[4]))  # <class 'list'> (the last element is a list)\n"
   ]
  },
  {
   "cell_type": "markdown",
   "id": "e123de94",
   "metadata": {},
   "source": [
    "##### Concatenate Tuples\n",
    "\n",
    "We can concatenate tuples by using **+**:"
   ]
  },
  {
   "cell_type": "code",
   "execution_count": 209,
   "id": "45854d4e",
   "metadata": {},
   "outputs": [
    {
     "name": "stdout",
     "output_type": "stream",
     "text": [
      "Concatenated tuple: (1, 2.2, 'Hello', True, [1, 2, 3], 4, 5)\n"
     ]
    }
   ],
   "source": [
    "tuple2 = tuple1 + (4, 5)  # Concatenating tuples\n",
    "print(\"Concatenated tuple:\", tuple2)  # (1, 2.2, 'Hello', True, [1, 2, 3], 4, 5)"
   ]
  },
  {
   "cell_type": "markdown",
   "id": "5bc4bfeb",
   "metadata": {},
   "source": [
    "<a id=\"tslic\"></a>\n",
    "#### Slicing"
   ]
  },
  {
   "cell_type": "code",
   "execution_count": 210,
   "id": "21535dcb",
   "metadata": {},
   "outputs": [
    {
     "name": "stdout",
     "output_type": "stream",
     "text": [
      "(2.2, 'Hello', True)\n",
      "7\n",
      "True\n"
     ]
    }
   ],
   "source": [
    "# Slicing the tuple\n",
    "print(tuple2[1:4])  # (2.2, 'Hello', True) (slicing the tuple from index 1 to 3)\n",
    "\n",
    "# Get the length of the tuple\n",
    "print(len(tuple2))  # 7 (length of the tuple)\n",
    "\n",
    "# Check if an element is in the tuple\n",
    "print(2.2 in tuple2)  # True (checking if 2.2 is in the tuple)"
   ]
  },
  {
   "cell_type": "markdown",
   "id": "fabeb9c3",
   "metadata": {},
   "source": [
    "<a id=\"tsort\"></a>\n",
    "#### Sorting"
   ]
  },
  {
   "cell_type": "code",
   "execution_count": 211,
   "id": "3376b7c7",
   "metadata": {},
   "outputs": [
    {
     "name": "stdout",
     "output_type": "stream",
     "text": [
      "Sorted score: [20, 40, 60, 70, 100]\n"
     ]
    }
   ],
   "source": [
    "score = (100, 20, 60, 40, 70)\n",
    "\n",
    "# Sorting the tuple (tuples are immutable, so we convert it to a list first)\n",
    "sorted_score = sorted(score)  # Returns a new sorted list\n",
    "print(\"Sorted score:\", sorted_score)  # [20, 40, 60, 70, 100]"
   ]
  },
  {
   "cell_type": "markdown",
   "id": "43736a91",
   "metadata": {},
   "source": [
    "#### Nested Tuple\n",
    "\n",
    "A tuple can contain another tuple as well as other more complex data types."
   ]
  },
  {
   "cell_type": "code",
   "execution_count": 212,
   "id": "be173c96",
   "metadata": {},
   "outputs": [
    {
     "name": "stdout",
     "output_type": "stream",
     "text": [
      "Nested tuple: (1, 2.2, ('Hello', 'World'), True, [1, 2, 3], (4, 5))\n",
      "The 3rd element: ('Hello', 'World')\n",
      "The 1st element of the 3rd nested tuple: Hello\n",
      "The 1st element of the 5th list: 1\n",
      "The 2nd char in the 1st str in the nested tuple: e\n",
      "Converted nested tuple to list: [1, 2.2, ('Hello', 'World'), True, [1, 2, 3], (4, 5)]\n",
      "Converted list back to tuple: (1, 2.2, ('Hello', 'World'), True, [1, 2, 3], (4, 5))\n"
     ]
    }
   ],
   "source": [
    "NestedT = (1, 2.2, (\"Hello\", \"World\"), True, [1, 2, 3], (4, 5))\n",
    "\n",
    "# Accessing elements in the nested tuple\n",
    "print(\"Nested tuple:\", NestedT)  # (1, 2.2, ('Hello', 'World'), True, [1, 2, 3], (4, 5))\n",
    "print(\"The 3rd element:\", NestedT[2])  # ('Hello', 'World') (accessing the third element, which is a nested tuple)\n",
    "# Accessing the tuple inside the tuple\n",
    "print(\"The 1st element of the 3rd nested tuple:\", NestedT[2][0])  # 'Hello' (accessing the first element of the nested tuple)\n",
    "# Accessing the list inside the tuple\n",
    "print(\"The 1st element of the 5th list:\", NestedT[4][0])  # 1 (accessing the first element of the list inside the tuple)\n",
    "# Accessing the element inside the nested tuple\n",
    "print(\"The 2nd char in the 1st str in the nested tuple:\", NestedT[2][0][1])  # 'e' (accessing the second character of the first string in the nested tuple)\n",
    "\n",
    "# Converting the tuple to a list\n",
    "nested_list = list(NestedT)  # Converting the tuple to a list\n",
    "print(\"Converted nested tuple to list:\", nested_list)  # [1, 2.2, ('Hello', 'World'), True, [1, 2, 3], (4, 5)]\n",
    "# Converting the list back to a tuple\n",
    "nested_tuple = tuple(nested_list)  # Converting the list back to a tuple\n",
    "print(\"Converted list back to tuple:\", nested_tuple)  # (1, 2.2, ('Hello', 'World'), True, [1, 2, 3], (4, 5))"
   ]
  },
  {
   "cell_type": "markdown",
   "id": "297c88ac",
   "metadata": {},
   "source": [
    "<a id=\"dict\"></a>\n",
    "## 🎈Dictionaries"
   ]
  },
  {
   "cell_type": "markdown",
   "id": "492bf513",
   "metadata": {},
   "source": [
    "A dictionary consists of **keys** and **values**. It is helpful to compare a dictionary to a list. Instead of being indexed numerically like a list, dictionaries have keys. These keys are the keys that are used to access values within a dictionary.  \n",
    "<img src=\"https://cf-courses-data.s3.us.cloud-object-storage.appdomain.cloud/54cVKVMZaWEw7wSCDL8NjQ/DictList1.png\" width=\"650\">\n"
   ]
  },
  {
   "cell_type": "markdown",
   "id": "f01d603f",
   "metadata": {},
   "source": [
    "<a id=\"create-dict\"></a>\n",
    "### Create a Dictionary and access the elements\n",
    "\n",
    "Each key is separated from its value by a colon \"**:**\". \n",
    "\n",
    "Commas separate the items, and the whole dictionary is enclosed in curly braces \"**{}**\"."
   ]
  },
  {
   "cell_type": "code",
   "execution_count": 213,
   "id": "a1eaac36",
   "metadata": {},
   "outputs": [
    {
     "name": "stdout",
     "output_type": "stream",
     "text": [
      "My first dictionary: {'name': 'Alice', 'age': 30, 'city': ['New York', 'Los Angeles', 'Chicago'], 'is_student': False, 'grades': {'math': 90, 'science': 85, 'english': 88}, 'hobbies': ('reading', 'traveling', 'cooking'), 'nested_dict': {'key1': 'value1', 'key2': [1, 2, 3], 'key3': {'subkey1': 'subvalue1', 'subkey2': 'subvalue2'}}}\n"
     ]
    }
   ],
   "source": [
    "dict1 = {\n",
    "    \"name\": \"Alice\",\n",
    "    \"age\": 30,\n",
    "    \"city\": [\"New York\", \"Los Angeles\", \"Chicago\"],\n",
    "    \"is_student\": False,\n",
    "    \"grades\": {\"math\": 90, \"science\": 85, \"english\": 88},\n",
    "    \"hobbies\": (\"reading\", \"traveling\", \"cooking\"),\n",
    "    \"nested_dict\": {\n",
    "        \"key1\": \"value1\",\n",
    "        \"key2\": [1, 2, 3],\n",
    "        \"key3\": {\"subkey1\": \"subvalue1\", \"subkey2\": \"subvalue2\"}\n",
    "    }\n",
    "}\n",
    "print(\"My first dictionary:\", dict1)"
   ]
  },
  {
   "cell_type": "code",
   "execution_count": 214,
   "id": "33a61ac6",
   "metadata": {},
   "outputs": [
    {
     "name": "stdout",
     "output_type": "stream",
     "text": [
      "Length of dictionary: 7\n",
      "Is 'age' a key in the dictionary? True\n",
      "Name: Alice\n",
      "City: ['New York', 'Los Angeles', 'Chicago']\n",
      "First city: New York\n",
      "Is student: False\n",
      "Math grade: 90\n",
      "Hobbies: ('reading', 'traveling', 'cooking')\n",
      "First hobby: reading\n",
      "Nested dictionary: {'key1': 'value1', 'key2': [1, 2, 3], 'key3': {'subkey1': 'subvalue1', 'subkey2': 'subvalue2'}}\n",
      "Nested dictionary key1: value1\n"
     ]
    }
   ],
   "source": [
    "# Accessing elements in the dictionary\n",
    "print(\"Length of dictionary:\", len(dict1))  # 7 (number of key-value pairs in the dictionary)\n",
    "print(\"Is 'age' a key in the dictionary?\", \"age\" in dict1)  # True (checking if 'age' is a key in the dictionary)\n",
    "\n",
    "\n",
    "print(\"Name:\", dict1[\"name\"])  # 'Alice' (accessing the value associated with the key 'name')\n",
    "print(\"City:\", dict1[\"city\"])  # ['New York', 'Los Angeles', 'Chicago'] (accessing the value associated with the key 'city')\n",
    "print(\"First city:\", dict1[\"city\"][0])  # 'New York' (accessing the first element of the list associated with the key 'city')\n",
    "print(\"Is student:\", dict1[\"is_student\"])  # False (accessing the value associated with the key 'is_student')\n",
    "print(\"Math grade:\", dict1[\"grades\"][\"math\"])  # 90 (accessing the value associated with the key 'math' in the nested dictionary 'grades')\n",
    "print(\"Hobbies:\", dict1[\"hobbies\"])  # ('reading', 'traveling', 'cooking') (accessing the value associated with the key 'hobbies')\n",
    "print(\"First hobby:\", dict1[\"hobbies\"][0])  # 'reading' (accessing the first element of the tuple associated with the key 'hobbies')\n",
    "print(\"Nested dictionary:\", dict1[\"nested_dict\"])  # {'key1': 'value1', 'key2': [1, 2, 3], 'key3': {'subkey1': 'subvalue1', 'subkey2': 'subvalue2'}}\n",
    "print(\"Nested dictionary key1:\", dict1[\"nested_dict\"][\"key1\"])  # 'value1' (accessing the value associated with the key 'key1' in the nested dictionary)"
   ]
  },
  {
   "cell_type": "markdown",
   "id": "600f331d",
   "metadata": {},
   "source": [
    "<a id=\"keys\"></a>\n",
    "### Keys\n",
    "\n",
    "We can retrieve the values based on the keys, for example: \n",
    "\n",
    "<code>dict[\"key1\"]</code> returns <code>value1</code>\n",
    "\n",
    "We can retrieve all keys / values using the method <code>keys()</code> / <code>values()</code>"
   ]
  },
  {
   "cell_type": "code",
   "execution_count": 215,
   "id": "d209ff45",
   "metadata": {},
   "outputs": [
    {
     "name": "stdout",
     "output_type": "stream",
     "text": [
      "Keys: dict_keys(['name', 'age', 'city', 'is_student', 'grades', 'hobbies', 'nested_dict'])\n",
      "Values: dict_values(['Alice', 30, ['New York', 'Los Angeles', 'Chicago'], False, {'math': 90, 'science': 85, 'english': 88}, ('reading', 'traveling', 'cooking'), {'key1': 'value1', 'key2': [1, 2, 3], 'key3': {'subkey1': 'subvalue1', 'subkey2': 'subvalue2'}}])\n",
      "Items: dict_items([('name', 'Alice'), ('age', 30), ('city', ['New York', 'Los Angeles', 'Chicago']), ('is_student', False), ('grades', {'math': 90, 'science': 85, 'english': 88}), ('hobbies', ('reading', 'traveling', 'cooking')), ('nested_dict', {'key1': 'value1', 'key2': [1, 2, 3], 'key3': {'subkey1': 'subvalue1', 'subkey2': 'subvalue2'}})])\n"
     ]
    }
   ],
   "source": [
    "# Getting all keys and values in the dictionary\n",
    "print(\"Keys:\", dict1.keys())  # dict_keys(['name', 'age', 'city', 'is_student', 'grades', 'hobbies', 'nested_dict'])\n",
    "print(\"Values:\", dict1.values())  # dict_values(['Alice', 30, ['New York', 'Los Angeles', 'Chicago'], False, {'math': 90, 'science': 85, 'english': 88}, ('reading', 'traveling', 'cooking'), {'key1': 'value1', 'key2': [1, 2, 3], 'key3': {'subkey1': 'subvalue1', 'subkey2': 'subvalue2'}}])\n",
    "print(\"Items:\", dict1.items())  # dict_items([('name', 'Alice'), ('age', 30), ('city', ['New York', 'Los Angeles', 'Chicago']), ('is_student', False), ('grades', {'math': 90, 'science': 85, 'english': 88}), ('hobbies', ('reading', 'traveling', 'cooking')), ('nested_dict', {'key1': 'value1', 'key2': [1, 2, 3], 'key3': {'subkey1': 'subvalue1', 'subkey2': 'subvalue2'}})])\n"
   ]
  },
  {
   "cell_type": "markdown",
   "id": "9988d0db",
   "metadata": {},
   "source": [
    "We can modify the dictionary:"
   ]
  },
  {
   "cell_type": "code",
   "execution_count": 216,
   "id": "0d11742d",
   "metadata": {},
   "outputs": [
    {
     "name": "stdout",
     "output_type": "stream",
     "text": [
      "After adding country: {'name': 'Alice', 'age': 30, 'city': ['New York', 'Los Angeles', 'Chicago'], 'is_student': False, 'grades': {'math': 90, 'science': 85, 'english': 88}, 'hobbies': ('reading', 'traveling', 'cooking'), 'nested_dict': {'key1': 'value1', 'key2': [1, 2, 3], 'key3': {'subkey1': 'subvalue1', 'subkey2': 'subvalue2'}}, 'country': 'USA'}\n",
      "After modifying age: {'name': 'Alice', 'age': 31, 'city': ['New York', 'Los Angeles', 'Chicago'], 'is_student': False, 'grades': {'math': 90, 'science': 85, 'english': 88}, 'hobbies': ('reading', 'traveling', 'cooking'), 'nested_dict': {'key1': 'value1', 'key2': [1, 2, 3], 'key3': {'subkey1': 'subvalue1', 'subkey2': 'subvalue2'}}, 'country': 'USA'}\n",
      "After removing city: {'name': 'Alice', 'age': 31, 'is_student': False, 'grades': {'math': 90, 'science': 85, 'english': 88}, 'hobbies': ('reading', 'traveling', 'cooking'), 'nested_dict': {'key1': 'value1', 'key2': [1, 2, 3], 'key3': {'subkey1': 'subvalue1', 'subkey2': 'subvalue2'}}, 'country': 'USA'}\n",
      "Is 'name' a key in the dictionary? True\n"
     ]
    }
   ],
   "source": [
    "# Appending a new key-value pair to the dictionary\n",
    "dict1[\"country\"] = \"USA\"  # Adding a new key-value pair to the dictionary\n",
    "print(\"After adding country:\", dict1)  # {'name': 'Alice', 'age': 30, 'city': ['New York', 'Los Angeles', 'Chicago'], 'is_student': False, 'grades': {'math': 90, 'science': 85, 'english': 88}, 'hobbies': ('reading', 'traveling', 'cooking'), 'nested_dict': {'key1': 'value1', 'key2': [1, 2, 3], 'key3': {'subkey1': 'subvalue1', 'subkey2': 'subvalue2'}}, 'country': 'USA'}\n",
    "\n",
    "# Modifying an existing key-value pair in the dictionary\n",
    "dict1[\"age\"] = 31  # Changing the value associated with the key 'age'\n",
    "print(\"After modifying age:\", dict1)  # {'name': 'Alice', 'age': 31, 'city': ['New York', 'Los Angeles', 'Chicago'], 'is_student': False, 'grades': {'math': 90, 'science': 85, 'english': 88}, 'hobbies': ('reading', 'traveling', 'cooking'), 'nested_dict': {'key1': 'value1', 'key2': [1, 2, 3], 'key3': {'subkey1': 'subvalue1', 'subkey2': 'subvalue2'}}, 'country': 'USA'}\n",
    "\n",
    "# Removing a key-value pair from the dictionary\n",
    "del dict1[\"city\"]  # Removing the key-value pair with the key 'city'\n",
    "print(\"After removing city:\", dict1)  # {'name': 'Alice', 'age': 31, 'is_student': False, 'grades': {'math': 90, 'science': 85, 'english': 88}, 'hobbies': ('reading', 'traveling', 'cooking'), 'nested_dict': {'key1': 'value1', 'key2': [1, 2, 3], 'key3': {'subkey1': 'subvalue1', 'subkey2': 'subvalue2'}}, 'country': 'USA'}\n",
    "\n",
    "# Checking if a key exists in the dictionary\n",
    "print(\"Is 'name' a key in the dictionary?\", \"name\" in dict1)  # True (checking if 'name' is a key in the dictionary)"
   ]
  },
  {
   "cell_type": "markdown",
   "id": "cb7a5856",
   "metadata": {},
   "source": [
    "<a id=\"set\"></a>\n",
    "## 🎈Sets"
   ]
  },
  {
   "cell_type": "markdown",
   "id": "c8330ac1",
   "metadata": {},
   "source": [
    "A set is a **unique** collection of objects in Python. You can denote a set with a pair of curly brackets **{}**. Python will automatically remove duplicate items:"
   ]
  },
  {
   "cell_type": "code",
   "execution_count": 217,
   "id": "e4ebe75c",
   "metadata": {},
   "outputs": [
    {
     "name": "stdout",
     "output_type": "stream",
     "text": [
      "My first set: {False, 1, 2.2, (1, 2, 3), 'Hello'}\n"
     ]
    }
   ],
   "source": [
    "# Creat a set\n",
    "set1 = {1, 2.2, \"Hello\", True, False, (1, 2, 3), \"Hello\"}  # Creating a set with various data types\n",
    "# Sets are unordered collections of unique elements\n",
    "print(\"My first set:\", set1)"
   ]
  },
  {
   "cell_type": "code",
   "execution_count": 218,
   "id": "38764d96",
   "metadata": {},
   "outputs": [
    {
     "name": "stdout",
     "output_type": "stream",
     "text": [
      "Converted list to set: {2, 4, 5, 6, 8}\n"
     ]
    }
   ],
   "source": [
    "# Converting a list to a set\n",
    "set2 = set([2, 8, 6, 4, 5])  # Converting a list to a set\n",
    "print(\"Converted list to set:\", set2)  # {2, 4, 5, 6, 8}"
   ]
  },
  {
   "cell_type": "markdown",
   "id": "b4c8e998",
   "metadata": {},
   "source": [
    "<a id=\"set-op\"></a>\n",
    "### Set Operations\n",
    "\n",
    "We can modify sets using <code>add()</code>, <code>remove()</code>, <code>in</code>, etc.:"
   ]
  },
  {
   "cell_type": "code",
   "execution_count": 219,
   "id": "9e943f98",
   "metadata": {},
   "outputs": [
    {
     "name": "stdout",
     "output_type": "stream",
     "text": [
      "After adding 'World': {False, 1, 2.2, (1, 2, 3), 'Hello', 'World'}\n",
      "After removing 'Hello': {False, 1, 2.2, (1, 2, 3), 'World'}\n",
      "Is 'World' in the set? True\n"
     ]
    }
   ],
   "source": [
    "set1 = {1, 2.2, \"Hello\", True, False, (1, 2, 3), \"Hello\"}\n",
    "# Adding elements to a set\n",
    "set1.add(\"World\")  # Adding a new element to the set\n",
    "print(\"After adding 'World':\", set1)  # {1, 2.2, 'Hello', True, False, (1, 2, 3), 'World'}\n",
    "# Removing elements from a set\n",
    "set1.remove(\"Hello\")  # Removing an element from the set\n",
    "print(\"After removing 'Hello':\", set1)  # {1, 2.2, True, False, (1, 2, 3), 'World'}\n",
    "# Checking if an element is in the set\n",
    "print(\"Is 'World' in the set?\", \"World\" in set1)  # True (checking if 'World' is in the set)\n"
   ]
  },
  {
   "cell_type": "markdown",
   "id": "3df77431",
   "metadata": {},
   "source": [
    "<a id=\"set-logic\"></a>\n",
    "### Sets Logic Operations\n",
    "\n",
    "We can check the **difference** between sets (<code>-</code> / <code>set1.difference(set2)</code>), \n",
    "\n",
    "as well as the **symmetric difference** (<code>^</code>), \n",
    "\n",
    "**intersection** (<code>&</code> / <code>set1.intersection(set2)</code>), \n",
    "\n",
    "and **union** (<code>|</code> / <code>set1.union(set2)</code>):"
   ]
  },
  {
   "cell_type": "code",
   "execution_count": 220,
   "id": "ea3e8094",
   "metadata": {},
   "outputs": [
    {
     "name": "stdout",
     "output_type": "stream",
     "text": [
      "Are set3 and set4 equal? False\n",
      "Is set3 a superset of set4? True\n",
      "Is set4 a subset of set3? True\n",
      "Is set3 disjoint with set4? False\n",
      "Union of set3 and set4: {'cat', 'fish', 'bird', 'dog'}\n",
      "Intersection of set3 and set4: {'dog', 'cat', 'fish'}\n",
      "Difference of set3 and set4: {'bird'}\n",
      "Symmetric difference of set3 and set4: {'bird'}\n"
     ]
    }
   ],
   "source": [
    "# Comparing sets\n",
    "set3 = {\"cat\", \"dog\", \"fish\", \"bird\"}\n",
    "set4 = {\"dog\", \"fish\", \"cat\"}\n",
    "print(\"Are set3 and set4 equal?\", set3 == set4)  # False (sets are not equal because set3 has an additional element 'bird')\n",
    "print(\"Is set3 a superset of set4?\", set3.issuperset(set4))  # True (set3 contains all elements of set4)\n",
    "print(\"Is set4 a subset of set3?\", set4.issubset(set3))  # True (set4 is a subset of set3)\n",
    "print(\"Is set3 disjoint with set4?\", set3.isdisjoint(set4))  # False (sets are not disjoint because they have common elements)\n",
    "\n",
    "# Set operations\n",
    "print(\"Union of set3 and set4:\", set3 | set4)  # {'cat', 'dog', 'fish', 'bird'} (union of two sets)\n",
    "print(\"Intersection of set3 and set4:\", set3 & set4)  # {'dog', 'fish', 'cat'} (intersection of two sets)\n",
    "print(\"Difference of set3 and set4:\", set3 - set4)  # {'bird'} (elements in set3 but not in set4)\n",
    "print(\"Symmetric difference of set3 and set4:\", set3 ^ set4)  # {'bird'} (elements in either set but not both)\n"
   ]
  },
  {
   "cell_type": "markdown",
   "id": "f7edae60",
   "metadata": {},
   "source": [
    "<a id=\"fund\"></a>\n",
    "## **Programming Fundamentals**"
   ]
  },
  {
   "cell_type": "markdown",
   "id": "a603d453",
   "metadata": {},
   "source": [
    "<a id=\"con-bran\"></a>\n",
    "## 🎈Conditions and Branching"
   ]
  },
  {
   "cell_type": "markdown",
   "id": "7fd0e9b3",
   "metadata": {},
   "source": [
    "<a id=\"comp\"></a>\n",
    "### Comparison Operators\n",
    "\n",
    "Comparison operations compare some value or operand and based on a condition, **produce a Boolean**. We can use these operators:\n",
    "\n",
    "- equal: ==\n",
    "- not equal: !=\n",
    "- greater than: >\n",
    "- less than: <\n",
    "- greater than or equal to: >=\n",
    "- less than or equal to: <=\n"
   ]
  },
  {
   "cell_type": "code",
   "execution_count": 221,
   "id": "ae3a3d31",
   "metadata": {},
   "outputs": [
    {
     "data": {
      "text/plain": [
       "True"
      ]
     },
     "execution_count": 221,
     "metadata": {},
     "output_type": "execute_result"
    }
   ],
   "source": [
    "a = 4\n",
    "a == 4  # True (checking if a is equal to 4)"
   ]
  },
  {
   "cell_type": "markdown",
   "id": "95788eb5",
   "metadata": {},
   "source": [
    "The inequality operation is also used to compare the letters/words/symbols according to the ASCII value of letters. The decimal value shown in the following table represents the order of the character:\n",
    "\n",
    "\n",
    "<style type=\"text/css\">\n",
    ".tg  {border-collapse:collapse;border-spacing:0;}\n",
    ".tg td{border-color:black;border-style:solid;border-width:1px;font-family:Arial, sans-serif;font-size:14px;\n",
    "  overflow:hidden;padding:10px 5px;word-break:normal;}\n",
    ".tg th{border-color:black;border-style:solid;border-width:1px;font-family:Arial, sans-serif;font-size:14px;\n",
    "  font-weight:normal;overflow:hidden;padding:10px 5px;word-break:normal;}\n",
    ".tg .tg-baqh{text-align:center;vertical-align:top}\n",
    ".tg .tg-7geq{background-color:#ffffc7;text-align:center;vertical-align:top}\n",
    ".tg .tg-1cln{background-color:#ffcc67;font-size:100%;font-weight:bold;text-align:center;vertical-align:top}\n",
    ".tg .tg-xozw{background-color:#ffcc67;font-weight:bold;text-align:center;vertical-align:top}\n",
    "</style>\n",
    "\n",
    "<table class=\"tg\">\n",
    "<thead>\n",
    "  <tr>\n",
    "    <th class=\"tg-1cln\">Char.</th>\n",
    "    <th class=\"tg-xozw\">ASCII</th>\n",
    "    <th class=\"tg-xozw\">Char.</th>\n",
    "    <th class=\"tg-xozw\">ASCII</th>\n",
    "    <th class=\"tg-xozw\">Char.</th>\n",
    "    <th class=\"tg-xozw\">ASCII</th>\n",
    "    <th class=\"tg-xozw\">Char.</th>\n",
    "    <th class=\"tg-xozw\">ASCII</th>\n",
    "  </tr>\n",
    "</thead>\n",
    "<tbody>\n",
    "  <tr>\n",
    "    <td class=\"tg-7geq\">A</td>\n",
    "    <td class=\"tg-baqh\">65</td>\n",
    "    <td class=\"tg-7geq\">N</td>\n",
    "    <td class=\"tg-baqh\">78</td>\n",
    "    <td class=\"tg-7geq\">a</td>\n",
    "    <td class=\"tg-baqh\">97</td>\n",
    "    <td class=\"tg-7geq\">n</td>\n",
    "    <td class=\"tg-baqh\">110</td>\n",
    "  </tr>\n",
    "  <tr>\n",
    "    <td class=\"tg-7geq\">B</td>\n",
    "    <td class=\"tg-baqh\">66</td>\n",
    "    <td class=\"tg-7geq\">O</td>\n",
    "    <td class=\"tg-baqh\">79</td>\n",
    "    <td class=\"tg-7geq\">b</td>\n",
    "    <td class=\"tg-baqh\">98</td>\n",
    "    <td class=\"tg-7geq\">o</td>\n",
    "    <td class=\"tg-baqh\">111</td>\n",
    "  </tr>\n",
    "  <tr>\n",
    "    <td class=\"tg-7geq\">C</td>\n",
    "    <td class=\"tg-baqh\">67</td>\n",
    "    <td class=\"tg-7geq\">P</td>\n",
    "    <td class=\"tg-baqh\">80</td>\n",
    "    <td class=\"tg-7geq\">c</td>\n",
    "    <td class=\"tg-baqh\">99</td>\n",
    "    <td class=\"tg-7geq\">p</td>\n",
    "    <td class=\"tg-baqh\">112</td>\n",
    "  </tr>\n",
    "  <tr>\n",
    "    <td class=\"tg-7geq\">D</td>\n",
    "    <td class=\"tg-baqh\">68</td>\n",
    "    <td class=\"tg-7geq\">Q</td>\n",
    "    <td class=\"tg-baqh\">81</td>\n",
    "    <td class=\"tg-7geq\">d</td>\n",
    "    <td class=\"tg-baqh\">100</td>\n",
    "    <td class=\"tg-7geq\">q</td>\n",
    "    <td class=\"tg-baqh\">113</td>\n",
    "  </tr>\n",
    "  <tr>\n",
    "    <td class=\"tg-7geq\">E</td>\n",
    "    <td class=\"tg-baqh\">69</td>\n",
    "    <td class=\"tg-7geq\">R</td>\n",
    "    <td class=\"tg-baqh\">82</td>\n",
    "    <td class=\"tg-7geq\">e</td>\n",
    "    <td class=\"tg-baqh\">101</td>\n",
    "    <td class=\"tg-7geq\">r</td>\n",
    "    <td class=\"tg-baqh\">114</td>\n",
    "  </tr>\n",
    "  <tr>\n",
    "    <td class=\"tg-7geq\">F</td>\n",
    "    <td class=\"tg-baqh\">70</td>\n",
    "    <td class=\"tg-7geq\">S</td>\n",
    "    <td class=\"tg-baqh\">83</td>\n",
    "    <td class=\"tg-7geq\">f</td>\n",
    "    <td class=\"tg-baqh\">102</td>\n",
    "    <td class=\"tg-7geq\">s</td>\n",
    "    <td class=\"tg-baqh\">115</td>\n",
    "  </tr>\n",
    "  <tr>\n",
    "    <td class=\"tg-7geq\">G</td>\n",
    "    <td class=\"tg-baqh\">71</td>\n",
    "    <td class=\"tg-7geq\">T</td>\n",
    "    <td class=\"tg-baqh\">84</td>\n",
    "    <td class=\"tg-7geq\">g</td>\n",
    "    <td class=\"tg-baqh\">103</td>\n",
    "    <td class=\"tg-7geq\">t</td>\n",
    "    <td class=\"tg-baqh\">116</td>\n",
    "  </tr>\n",
    "  <tr>\n",
    "    <td class=\"tg-7geq\">H</td>\n",
    "    <td class=\"tg-baqh\">72</td>\n",
    "    <td class=\"tg-7geq\">U</td>\n",
    "    <td class=\"tg-baqh\">85</td>\n",
    "    <td class=\"tg-7geq\">h</td>\n",
    "    <td class=\"tg-baqh\">104</td>\n",
    "    <td class=\"tg-7geq\">u</td>\n",
    "    <td class=\"tg-baqh\">117</td>\n",
    "  </tr>\n",
    "  <tr>\n",
    "    <td class=\"tg-7geq\">I</td>\n",
    "    <td class=\"tg-baqh\">73</td>\n",
    "    <td class=\"tg-7geq\">V</td>\n",
    "    <td class=\"tg-baqh\">86</td>\n",
    "    <td class=\"tg-7geq\">i</td>\n",
    "    <td class=\"tg-baqh\">105</td>\n",
    "    <td class=\"tg-7geq\">v</td>\n",
    "    <td class=\"tg-baqh\">118</td>\n",
    "  </tr>\n",
    "  <tr>\n",
    "    <td class=\"tg-7geq\">J</td>\n",
    "    <td class=\"tg-baqh\">74</td>\n",
    "    <td class=\"tg-7geq\">W</td>\n",
    "    <td class=\"tg-baqh\">87</td>\n",
    "    <td class=\"tg-7geq\">j</td>\n",
    "    <td class=\"tg-baqh\">106</td>\n",
    "    <td class=\"tg-7geq\">w</td>\n",
    "    <td class=\"tg-baqh\">119</td>\n",
    "  </tr>\n",
    "  <tr>\n",
    "    <td class=\"tg-7geq\">K</td>\n",
    "    <td class=\"tg-baqh\">75</td>\n",
    "    <td class=\"tg-7geq\">X</td>\n",
    "    <td class=\"tg-baqh\">88</td>\n",
    "    <td class=\"tg-7geq\">k</td>\n",
    "    <td class=\"tg-baqh\">107</td>\n",
    "    <td class=\"tg-7geq\">x</td>\n",
    "    <td class=\"tg-baqh\">120</td>\n",
    "  </tr>\n",
    "  <tr>\n",
    "    <td class=\"tg-7geq\">L</td>\n",
    "    <td class=\"tg-baqh\">76</td>\n",
    "    <td class=\"tg-7geq\">Y</td>\n",
    "    <td class=\"tg-baqh\">89</td>\n",
    "    <td class=\"tg-7geq\">l</td>\n",
    "    <td class=\"tg-baqh\">108</td>\n",
    "    <td class=\"tg-7geq\">y</td>\n",
    "    <td class=\"tg-baqh\">121</td>\n",
    "  </tr>\n",
    "  <tr>\n",
    "    <td class=\"tg-7geq\">M</td>\n",
    "    <td class=\"tg-baqh\">77</td>\n",
    "    <td class=\"tg-7geq\">Z</td>\n",
    "    <td class=\"tg-baqh\">90</td>\n",
    "    <td class=\"tg-7geq\">m</td>\n",
    "    <td class=\"tg-baqh\">109</td>\n",
    "    <td class=\"tg-7geq\">z</td>\n",
    "    <td class=\"tg-baqh\">122</td>\n",
    "  </tr>\n",
    "</tbody>\n",
    "</table>\n",
    "\n",
    "\n",
    "For example, the value for a is 97, and the value for A is 65, therefore a > A.\n",
    "\n",
    "When there are multiple letters, the first letter takes precedence in ordering (apple > Apple)."
   ]
  },
  {
   "cell_type": "code",
   "execution_count": 222,
   "id": "1360a06a",
   "metadata": {},
   "outputs": [
    {
     "name": "stdout",
     "output_type": "stream",
     "text": [
      "Comparing characters:\n",
      "False\n",
      "True\n",
      "True\n",
      "True\n",
      "Comparing strings:\n",
      "False\n",
      "True\n",
      "False\n"
     ]
    }
   ],
   "source": [
    "# Comparing characters\n",
    "print(\"Comparing characters:\")\n",
    "print(\"a\" == \"A\")  # False (comparing lowercase 'a' with uppercase 'A')\n",
    "print(\"a\" < \"b\")  # True (comparing lowercase 'a' with lowercase 'b')\n",
    "print(\"A\" < \"a\")  # True (comparing uppercase 'A' with lowercase 'a')\n",
    "print(\"A\" < \"B\")  # True (comparing uppercase 'A' with uppercase 'B')\n",
    "# Comparing strings\n",
    "print(\"Comparing strings:\")\n",
    "print(\"apple\" == \"Apple\")  # False (comparing lowercase 'apple' with uppercase 'Apple')\n",
    "print(\"apple\" < \"banana\")  # True (comparing 'apple' with 'banana')\n",
    "print(\"apple\" < \"Apple\")  # False (comparing lowercase 'apple' with uppercase 'Apple')"
   ]
  },
  {
   "cell_type": "markdown",
   "id": "3079110b",
   "metadata": {},
   "source": [
    "<a id=\"branc\"></a>\n",
    "### Branching (Conditional Statements)\n",
    "\n",
    "Branching allows us to run different statements for different inputs. It is based on **if (- elif - else) statement**. \n",
    "\n",
    "Executes a block of code if a condition is <code>True</code>, skips a block if a condition is <code>False</code>."
   ]
  },
  {
   "cell_type": "code",
   "execution_count": 223,
   "id": "cd2d133e",
   "metadata": {},
   "outputs": [
    {
     "name": "stdout",
     "output_type": "stream",
     "text": [
      "4\n",
      "a is equal to 4\n"
     ]
    }
   ],
   "source": [
    "# if statement\n",
    "print(a) # 4\n",
    "if a == 4:\n",
    "    print(\"a is equal to 4\")  # This will be printed because a is indeed 4"
   ]
  },
  {
   "cell_type": "code",
   "execution_count": 224,
   "id": "692ded9e",
   "metadata": {},
   "outputs": [
    {
     "name": "stdout",
     "output_type": "stream",
     "text": [
      "a is not less than 4\n"
     ]
    }
   ],
   "source": [
    "# if else statement\n",
    "if a < 4:\n",
    "    print(\"a is less than 4\")\n",
    "else:\n",
    "    print(\"a is not less than 4\")"
   ]
  },
  {
   "cell_type": "code",
   "execution_count": 225,
   "id": "0999779d",
   "metadata": {},
   "outputs": [
    {
     "name": "stdout",
     "output_type": "stream",
     "text": [
      "a is equal to 4\n"
     ]
    }
   ],
   "source": [
    "# else if (elif) statement\n",
    "if a < 4:\n",
    "    print(\"a is less than 4\")\n",
    "elif a == 4:\n",
    "    print(\"a is equal to 4\")\n",
    "else:\n",
    "    print(\"a is greater than 4\")"
   ]
  },
  {
   "cell_type": "code",
   "execution_count": 226,
   "id": "9fa69ecc",
   "metadata": {},
   "outputs": [
    {
     "name": "stdout",
     "output_type": "stream",
     "text": [
      "a is greater than or equal to 4\n",
      "a is exactly 4\n"
     ]
    }
   ],
   "source": [
    "# Nested if statement\n",
    "if a >= 4:\n",
    "    print(\"a is greater than or equal to 4\")\n",
    "    if a == 4:\n",
    "        print(\"a is exactly 4\")  # This will be printed because a is indeed 4\n",
    "    else:\n",
    "        print(\"a is greater than 4\")"
   ]
  },
  {
   "cell_type": "code",
   "execution_count": 227,
   "id": "d5559c3c",
   "metadata": {},
   "outputs": [
    {
     "name": "stdout",
     "output_type": "stream",
     "text": [
      "a is less than 5\n",
      "a is Even\n"
     ]
    }
   ],
   "source": [
    "# One-line if statement\n",
    "print(\"a is less than 5\") if a < 5 else print(\"a is not less than 5\")\n",
    "result = \"a is Even\" if a % 2 == 0 else \"a is Odd\"\n",
    "print(result)"
   ]
  },
  {
   "cell_type": "markdown",
   "id": "f0db56d2",
   "metadata": {},
   "source": [
    "<a id=\"logiO\"></a>\n",
    "### Logical Operators\n",
    "\n",
    "We can use logical operators to check more than one condition at once. \n",
    "- <code>and</code>: True when all conditions are true\n",
    "- <code>or</code>: True when at least one of the conditons are true\n",
    "- <code>not</code>: ouputs the opposite truth value, checks if the statement is false"
   ]
  },
  {
   "cell_type": "code",
   "execution_count": 228,
   "id": "bd886844",
   "metadata": {},
   "outputs": [
    {
     "name": "stdout",
     "output_type": "stream",
     "text": [
      "At least one of x or y is False\n",
      "At least one of x or y is True\n",
      "x is True and a is equal to 4\n",
      "Either y is False or a is greater than 3\n",
      "Either x is True or y is True, and a is less than 5\n"
     ]
    }
   ],
   "source": [
    "# Logical operators\n",
    "x = True\n",
    "y = False\n",
    "\n",
    "# Using logical operators in conditions\n",
    "if x and y:\n",
    "    print(\"Both x and y are True\")\n",
    "else:\n",
    "    print(\"At least one of x or y is False\")\n",
    "\n",
    "if x or y:\n",
    "    print(\"At least one of x or y is True\")\n",
    "else:\n",
    "    print(\"Both x and y are False\")\n",
    "\n",
    "# Using logical operators in conditions with multiple conditions\n",
    "if x and (a == 4):\n",
    "    print(\"x is True and a is equal to 4\")  # This will be printed because x is True and a is indeed 4\n",
    "\n",
    "if not y or (a > 3):\n",
    "    print(\"Either y is False or a is greater than 3\")  # This will be printed because y is False and a is indeed greater than 3\n",
    "\n",
    "if (x or y) and (a < 5):\n",
    "    print(\"Either x is True or y is True, and a is less than 5\")  # This will be printed because x is True and a is indeed less than 5"
   ]
  },
  {
   "cell_type": "markdown",
   "id": "e471469d",
   "metadata": {},
   "source": [
    "<a id=\"loops\"></a>\n",
    "## 🎈Loops"
   ]
  },
  {
   "cell_type": "markdown",
   "id": "268be061",
   "metadata": {},
   "source": [
    "<a id=\"range\"></a>\n",
    "### Range\n",
    "\n",
    "Before we discuss loops lets discuss the range object. It is helpful to think of the range object as an ordered list. The <code>range(start, stop, step)</code> function generates a sequence of numbers and is commonly used in for loops.\n",
    "\n",
    "- start: starting number, default: 0\n",
    "- stop: stop number (Exclusive)\n",
    "- step: Increment, default: 1\n",
    "\n",
    "For example, range(3) returns range(0, 3)"
   ]
  },
  {
   "cell_type": "code",
   "execution_count": 229,
   "id": "a1658f2c",
   "metadata": {},
   "outputs": [
    {
     "name": "stdout",
     "output_type": "stream",
     "text": [
      "0\n",
      "1\n",
      "2\n",
      "3\n",
      "4\n",
      "187\n",
      "188\n",
      "189\n",
      "-27\n",
      "-25\n",
      "-23\n",
      "-21\n"
     ]
    }
   ],
   "source": [
    "# range function\n",
    "for i in range(5):  # Looping from 0 to 4\n",
    "    print(i)  # Prints numbers from 0 to 4\n",
    "for i in range(187, 190):  # Looping from 187 to 189\n",
    "    print(i)  # Prints numbers from 187 to 189\n",
    "for i in range(-27, -20, 2):  # Looping from -27 to -20 with a step of 2\n",
    "    print(i)  # Prints odd numbers from -27 to -21"
   ]
  },
  {
   "cell_type": "markdown",
   "id": "3c3d15d1",
   "metadata": {},
   "source": [
    "<a id=\"for\"></a>\n",
    "### for loop\n",
    "\n",
    "The for loop enables you to execute a code block multiple times. \n",
    "\n",
    "Used to iterate over a sequence (like a list, tuple, string, or range)."
   ]
  },
  {
   "cell_type": "code",
   "execution_count": 230,
   "id": "346bb8a7",
   "metadata": {},
   "outputs": [
    {
     "name": "stdout",
     "output_type": "stream",
     "text": [
      "\n",
      "Fruits in the list:\n",
      "apple\n",
      "banana\n",
      "cherry\n",
      "date\n",
      "elderberry\n"
     ]
    }
   ],
   "source": [
    "# Loop through a list\n",
    "fruits = [\"apple\", \"banana\", \"cherry\", \"date\", \"elderberry\"]\n",
    "# Using a for loop to iterate through the list of fruits\n",
    "print(\"\\nFruits in the list:\")      \n",
    "for fruit in fruits:\n",
    "    print(fruit)"
   ]
  },
  {
   "cell_type": "code",
   "execution_count": 231,
   "id": "cccf9add",
   "metadata": {},
   "outputs": [
    {
     "name": "stdout",
     "output_type": "stream",
     "text": [
      "Iteration: 0 apple\n",
      "Iteration: 1 banana\n",
      "Iteration: 2 cherry\n",
      "Iteration: 3 date\n",
      "Iteration: 4 elderberry\n"
     ]
    }
   ],
   "source": [
    "# Using range()\n",
    "for i in range(5):\n",
    "    print(\"Iteration:\", i, fruits[i])  # Prints the current iteration number from 0 to 4"
   ]
  },
  {
   "cell_type": "markdown",
   "id": "91267e3b",
   "metadata": {},
   "source": [
    "<a id=\"while\"></a>\n",
    "### while loop\n",
    "\n",
    "Used if we don't know when we want to stop the loop. It Repeats as long as a condition is True."
   ]
  },
  {
   "cell_type": "code",
   "execution_count": 232,
   "id": "39b56466",
   "metadata": {},
   "outputs": [
    {
     "name": "stdout",
     "output_type": "stream",
     "text": [
      "Count is: 0\n",
      "Count is: 1\n",
      "Count is: 2\n",
      "Gift: toy\n",
      "Found the book at index 1\n"
     ]
    }
   ],
   "source": [
    "# while loop\n",
    "count = 0\n",
    "while count < 3:  # Loop until count is less than 3\n",
    "    print(\"Count is:\", count)  # Prints the current value of count\n",
    "    count += 1  # Increment count by 1\n",
    "\n",
    "gift = [\"toy\", \"book\", \"puzzle\", \"game\"]\n",
    "# Using a while loop to iterate through the list of gifts\n",
    "index = 0\n",
    "while gift[index] != \"book\":  \n",
    "    print(\"Gift:\", gift[index])  # Prints the current gift\n",
    "    index += 1  # Increment index by 1\n",
    "print(\"Found the book at index\", index)  # Prints the index where the book was found"
   ]
  },
  {
   "cell_type": "markdown",
   "id": "3e766a44",
   "metadata": {},
   "source": [
    "<a id=\"lctrl\"></a>\n",
    "### Loop Control Statements\n",
    "\n",
    "- <code>break</code>: exits the loop early\n",
    "- <code>continue</code>: Skips the current iteration and continues with the next one\n",
    "- <code>pass</code>: A placeholder that does nothing (used when code is syntactically required)"
   ]
  },
  {
   "cell_type": "code",
   "execution_count": 233,
   "id": "12afadcf",
   "metadata": {},
   "outputs": [
    {
     "name": "stdout",
     "output_type": "stream",
     "text": [
      "Current value of i: 0\n",
      "Current value of i: 1\n",
      "Current value of i: 2\n",
      "Current value of i: 3\n",
      "Current value of i: 4\n",
      "Breaking the loop at i = 5\n",
      "Current value of i (odd): 1\n",
      "Current value of i (odd): 3\n",
      "Current value of i (odd): 5\n",
      "Current value of i (odd): 7\n",
      "Current value of i (odd): 9\n",
      "Current value of i: 0\n",
      "Current value of i: 1\n",
      "Current value of i: 3\n",
      "Current value of i: 4\n"
     ]
    }
   ],
   "source": [
    "# break statement\n",
    "for i in range(10):\n",
    "    if i == 5:  # If i is equal to 5, break the loop\n",
    "        print(\"Breaking the loop at i =\", i)\n",
    "        break\n",
    "    print(\"Current value of i:\", i)  # Prints the current value of i\n",
    "# continue statement\n",
    "for i in range(10):\n",
    "    if i % 2 == 0:  # If i is even, skip the rest of the loop\n",
    "        continue\n",
    "    print(\"Current value of i (odd):\", i)  # Prints the current value of i if it is odd\n",
    "# pass statement\n",
    "for i in range(5):\n",
    "    if i == 2:  # If i is equal to 2, do nothing (pass)\n",
    "        pass\n",
    "    else:\n",
    "        print(\"Current value of i:\", i)  # Prints the current value of i if it is not 2"
   ]
  },
  {
   "cell_type": "markdown",
   "id": "b90e2bd9",
   "metadata": {},
   "source": [
    "<a id=\"func\"></a>\n",
    "## 🎈Functions"
   ]
  },
  {
   "cell_type": "markdown",
   "id": "480978ba",
   "metadata": {},
   "source": [
    "A function is a reusable block of code which performs operations specified in the function.\n",
    "\n",
    "There are two types of functions:\n",
    "\n",
    "- Pre-defined functions (<code>sum()</code>, <code>len()</code>, <code>print()</code>, etc.)\n",
    "- User defined functions (<code>def *function-name*():</code>)"
   ]
  },
  {
   "cell_type": "code",
   "execution_count": 234,
   "id": "4d8e8b9c",
   "metadata": {},
   "outputs": [
    {
     "name": "stdout",
     "output_type": "stream",
     "text": [
      "Hello, Alice!\n",
      "The sum of 5 and 3 is: 8\n",
      "The product of 5 and default value 2 is: 10\n",
      "The area of a rectangle with length 5 and width 3 is: 15\n"
     ]
    }
   ],
   "source": [
    "# functions with parameters and return values\n",
    "def greet(name):\n",
    "    \"\"\"Function to greet a person with their name.\"\"\"\n",
    "    print(f\"Hello, {name}!\")\n",
    "greet(\"Alice\")  # Calling the function with the argument \"Alice\"\n",
    "\n",
    "def add_numbers(a, b):\n",
    "    \"\"\"Function to add two numbers and return the result.\"\"\"\n",
    "    return a + b\n",
    "result = add_numbers(5, 3)  # Calling the function with arguments 5 and 3\n",
    "print(f\"The sum of 5 and 3 is: {result}\")  # Prints the result of the addition\n",
    "\n",
    "def multiply_numbers(a, b=2):\n",
    "    \"\"\"Function to multiply two numbers with a default value for b.\"\"\"\n",
    "    return a * b\n",
    "result = multiply_numbers(5)  # Calling the function with only one argument, b will default to 2\n",
    "print(f\"The product of 5 and default value 2 is: {result}\")  # Prints the result of the multiplication\n",
    "\n",
    "def calculate_area(length, width=1):\n",
    "    \"\"\"Function to calculate the area of a rectangle with a default width.\"\"\"\n",
    "    return length * width\n",
    "area = calculate_area(5, 3)  # Calling the function with both arguments\n",
    "print(f\"The area of a rectangle with length 5 and width 3 is: {area}\")  # Prints the area of the rectangle\n"
   ]
  },
  {
   "cell_type": "code",
   "execution_count": 235,
   "id": "68bf34ae",
   "metadata": {},
   "outputs": [
    {
     "name": "stdout",
     "output_type": "stream",
     "text": [
      "4 is even.\n",
      "5 is odd.\n",
      "120\n",
      "[0, 1, 1, 2, 3, 5, 8, 13, 21, 34]\n"
     ]
    }
   ],
   "source": [
    "# if else statement and loops in functions\n",
    "def check_even_odd(number):\n",
    "    \"\"\"Function to check if a number is even or odd.\"\"\"\n",
    "    if number % 2 == 0:\n",
    "        return f\"{number} is even.\"\n",
    "    else:\n",
    "        return f\"{number} is odd.\"\n",
    "print(check_even_odd(4))  # Prints \"4 is even.\"\n",
    "print(check_even_odd(5))  # Prints \"5 is odd.\"\n",
    "\n",
    "def factorial(n):\n",
    "    \"\"\"Function to calculate the factorial of a number.\"\"\"\n",
    "    if n < 0:\n",
    "        return \"Factorial is not defined for negative numbers.\"\n",
    "    elif n == 0 or n == 1:\n",
    "        return 1\n",
    "    else:\n",
    "        result = 1\n",
    "        for i in range(2, n + 1):\n",
    "            result *= i\n",
    "        return result\n",
    "print(factorial(5))  # Prints \"120\" (5! = 5 * 4 * 3 * 2 * 1)\n",
    "\n",
    "def fibonacci(n):\n",
    "    \"\"\"Function to generate Fibonacci sequence up to n.\"\"\"\n",
    "    if n <= 0:\n",
    "        return []\n",
    "    elif n == 1:\n",
    "        return [0]\n",
    "    elif n == 2:\n",
    "        return [0, 1]\n",
    "    else:\n",
    "        fib_sequence = [0, 1]\n",
    "        for i in range(2, n):\n",
    "            next_value = fib_sequence[i - 1] + fib_sequence[i - 2]\n",
    "            fib_sequence.append(next_value)\n",
    "        return fib_sequence\n",
    "print(fibonacci(10))  # Prints the first 10 Fibonacci numbers: [0, 1, 1, 2, 3, 5, 8, 13, 21, 34]"
   ]
  },
  {
   "cell_type": "code",
   "execution_count": 236,
   "id": "521f873a",
   "metadata": {},
   "outputs": [
    {
     "name": "stdout",
     "output_type": "stream",
     "text": [
      "The word 'hello' appears 2 times in the text.\n"
     ]
    }
   ],
   "source": [
    "# counting how many times a word appears in a string\n",
    "def count_word_occurrences(text, word):\n",
    "    \"\"\"Function to count how many times a word appears in a string.\"\"\"\n",
    "    words = text.split()  # Split the text into words\n",
    "    count = 0\n",
    "    for w in words:\n",
    "        if w.lower() == word.lower():  # Case-insensitive comparison\n",
    "            count += 1\n",
    "    return count\n",
    "text = \"Hello world! This is a test. Hello again!\"\n",
    "word = \"hello\"\n",
    "print(f\"The word '{word}' appears {count_word_occurrences(text, word)} times in the text.\")  # Prints the count of occurrences "
   ]
  },
  {
   "cell_type": "markdown",
   "id": "d62d200b",
   "metadata": {},
   "source": [
    "<a id=\"except\"></a>\n",
    "## 🎈Exception Handling"
   ]
  },
  {
   "cell_type": "markdown",
   "id": "b1145a60",
   "metadata": {},
   "source": [
    "An exception is an error that occurs during the execution of code. This error causes the code to raise an exception and if not prepared to handle it will halt the execution of the code.\n",
    "\n",
    "There are many more exceptions that are built into Python, here is a list of them https://docs.python.org/3/library/exceptions.html\n",
    "\n",
    "\n",
    "Python uses try-except blocks to handle them."
   ]
  },
  {
   "cell_type": "code",
   "execution_count": 237,
   "id": "a6dbbe02",
   "metadata": {},
   "outputs": [
    {
     "name": "stdout",
     "output_type": "stream",
     "text": [
      "5.0\n",
      "Error: Division by zero is not allowed.\n",
      "Error: Invalid input type. Please provide numbers.\n"
     ]
    }
   ],
   "source": [
    "# Exception handling\n",
    "def divide_numbers(a, b):\n",
    "    \"\"\"Function to divide two numbers with exception handling.\"\"\"\n",
    "    try:\n",
    "        result = a / b\n",
    "        return result\n",
    "    except ZeroDivisionError:\n",
    "        return \"Error: Division by zero is not allowed.\"\n",
    "    except TypeError:\n",
    "        return \"Error: Invalid input type. Please provide numbers.\"\n",
    "    except:\n",
    "        return \"Error: An unexpected error occurred.\"\n",
    "\n",
    "print(divide_numbers(10, 2))  # Prints \"5.0\"\n",
    "print(divide_numbers(10, 0))  # Prints \"Error: Division by zero is not allowed.\"\n",
    "print(divide_numbers(\"a\",0))  # Prints \"Error: Invalid input type. Please provide numbers.\"\n"
   ]
  },
  {
   "cell_type": "markdown",
   "id": "12c1565e",
   "metadata": {},
   "source": [
    "Exception handling with finally and else:"
   ]
  },
  {
   "cell_type": "code",
   "execution_count": 238,
   "id": "715bc415",
   "metadata": {},
   "outputs": [
    {
     "name": "stdout",
     "output_type": "stream",
     "text": [
      "Execution of read_file function completed.\n",
      "Error: File not found.\n",
      "5.0\n",
      "Error: Division by zero is not allowed.\n",
      "Error: Invalid input type. Please provide numbers.\n"
     ]
    }
   ],
   "source": [
    "# Try except with finally\n",
    "def read_file(file_path):\n",
    "    \"\"\"Function to read a file and handle exceptions.\"\"\"\n",
    "    try:\n",
    "        with open(file_path, 'r') as file:\n",
    "            content = file.read()\n",
    "            return content\n",
    "    except FileNotFoundError:\n",
    "        return \"Error: File not found.\"\n",
    "    except IOError:\n",
    "        return \"Error: An I/O error occurred.\"\n",
    "    finally:\n",
    "        print(\"Execution of read_file function completed.\")\n",
    "print(read_file(\"example.txt\"))  # Prints the content of the file or an error message\n",
    "\n",
    "# Try except with else\n",
    "def safe_divide(a, b):\n",
    "    \"\"\"Function to safely divide two numbers with exception handling.\"\"\"\n",
    "    try:\n",
    "        result = a / b\n",
    "    except ZeroDivisionError:\n",
    "        return \"Error: Division by zero is not allowed.\"\n",
    "    except TypeError:\n",
    "        return \"Error: Invalid input type. Please provide numbers.\"\n",
    "    else:\n",
    "        return result  # This will be executed if no exceptions occur\n",
    "print(safe_divide(10, 2))  # Prints \"5.0\"\n",
    "print(safe_divide(10, 0))  # Prints \"Error: Division by zero is not allowed.\"\n",
    "print(safe_divide(\"a\", 0))  # Prints \"Error: Invalid input type. Please provide numbers.\""
   ]
  },
  {
   "cell_type": "markdown",
   "id": "f0f012dd",
   "metadata": {},
   "source": [
    "**Generic exception handling:** \n",
    "\n",
    "Sometimes you may not know what kind of exception will occur, especially in early development or when dealing with unpredictable inputs. You can use a generic exception handler to catch any exception."
   ]
  },
  {
   "cell_type": "code",
   "execution_count": 239,
   "id": "b582e1d7",
   "metadata": {},
   "outputs": [
    {
     "name": "stdout",
     "output_type": "stream",
     "text": [
      "An error occurred: unsupported operand type(s) for /: 'int' and 'str'\n",
      "Execution of generic_exception_handling function completed.\n"
     ]
    }
   ],
   "source": [
    "# generic exception handling\n",
    "def generic_exception_handling(b):\n",
    "    \"\"\"Function to demonstrate generic exception handling.\"\"\"\n",
    "    try:\n",
    "        # Intentionally causing a division by zero error\n",
    "        result = 10 / b\n",
    "    except Exception as e:  # Catching all exceptions\n",
    "        print(f\"An error occurred: {e}\")  # Prints the error message\n",
    "    finally:\n",
    "        print(\"Execution of generic_exception_handling function completed.\")\n",
    "generic_exception_handling(\"a\")  # Calls the function to demonstrate exception handling\n"
   ]
  },
  {
   "cell_type": "code",
   "execution_count": 240,
   "id": "be60a384",
   "metadata": {},
   "outputs": [
    {
     "name": "stdout",
     "output_type": "stream",
     "text": [
      "5 is a positive number.\n",
      "AssertionError: Number must be positive.\n"
     ]
    }
   ],
   "source": [
    "\n",
    "# Using assert statement\n",
    "def check_positive_number(num):\n",
    "    \"\"\"Function to check if a number is positive using assert.\"\"\"\n",
    "    assert num >= 0, \"Number must be positive.\"  # Raises an AssertionError if num is negative\n",
    "    return f\"{num} is a positive number.\"\n",
    "try:\n",
    "    print(check_positive_number(5))  # Prints \"5 is a positive number.\"\n",
    "    print(check_positive_number(-3))  # Raises an AssertionError\n",
    "except AssertionError as e:\n",
    "    print(f\"AssertionError: {e}\")"
   ]
  },
  {
   "cell_type": "markdown",
   "id": "46416d24",
   "metadata": {},
   "source": [
    "<a id=\"obj-cla\"></a>\n",
    "## 🎈Objects and Classes"
   ]
  },
  {
   "cell_type": "markdown",
   "id": "a2689b34",
   "metadata": {},
   "source": [
    "Python is an object-oriented language. It allows you to define classes to create objects with properties (attributes) and behaviors (methods).\n",
    "\n",
    "***For example below,***\n",
    "\n",
    "We define a **class: Dog**\n",
    "\n",
    "We create an instance of the class called **object: my_dog**\n",
    "\n",
    "The object is associated with different variables called **attributes: name, age**\n",
    "\n",
    "Functions defined in the **class: Method**\n",
    "\n",
    "Notes: The <code>\\__init\\_\\_</code> is a special method called constructor, which is used to create a object. <code>self</code> refers to the instance being created."
   ]
  },
  {
   "cell_type": "code",
   "execution_count": 241,
   "id": "07692880",
   "metadata": {},
   "outputs": [
    {
     "name": "stdout",
     "output_type": "stream",
     "text": [
      "Buddy says Woof!\n",
      "Buddy is 3 years old.\n"
     ]
    }
   ],
   "source": [
    "# Create a class\n",
    "class Dog:\n",
    "    \"\"\"A simple class to represent a dog.\"\"\"\n",
    "    \n",
    "    def __init__(self, name, age):\n",
    "        \"\"\"Constructor to initialize the dog's name and age.\"\"\"\n",
    "        self.name = name\n",
    "        self.age = age\n",
    "    \n",
    "    def bark(self):\n",
    "        \"\"\"Method for the dog to bark.\"\"\"\n",
    "        return f\"{self.name} says Woof!\"\n",
    "    \n",
    "    def get_age(self):\n",
    "        \"\"\"Method to get the dog's age.\"\"\"\n",
    "        return f\"{self.name} is {self.age} years old.\"  \n",
    "\n",
    "# Create an instance of the Dog class\n",
    "my_dog = Dog(\"Buddy\", 3)  # Creating a Dog object with name \"Buddy\" and age 3\n",
    "print(my_dog.bark())  # Prints \"Buddy says Woof!\"\n",
    "print(my_dog.get_age())  # Prints \"Buddy is 3 years old.\"\n"
   ]
  },
  {
   "cell_type": "markdown",
   "id": "3dea1919",
   "metadata": {},
   "source": [
    "### Thanks for reading – now go write some code!\n",
    "\n",
    "---\n",
    "\n",
    "Written by @hellorito"
   ]
  },
  {
   "cell_type": "markdown",
   "id": "46ebd3f0",
   "metadata": {},
   "source": []
  }
 ],
 "metadata": {
  "kernelspec": {
   "display_name": "Python 3",
   "language": "python",
   "name": "python3"
  },
  "language_info": {
   "codemirror_mode": {
    "name": "ipython",
    "version": 3
   },
   "file_extension": ".py",
   "mimetype": "text/x-python",
   "name": "python",
   "nbconvert_exporter": "python",
   "pygments_lexer": "ipython3",
   "version": "3.12.9"
  }
 },
 "nbformat": 4,
 "nbformat_minor": 5
}
