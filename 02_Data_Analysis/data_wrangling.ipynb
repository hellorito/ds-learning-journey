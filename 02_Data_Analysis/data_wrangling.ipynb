{
 "cells": [
  {
   "cell_type": "markdown",
   "id": "e4fb7169",
   "metadata": {},
   "source": [
    "# Python Data Wrangling Notes with Examples\n",
    "\n",
    "## 🔧 Setup\n"
   ]
  },
  {
   "cell_type": "code",
   "execution_count": 1,
   "id": "ac31b025",
   "metadata": {},
   "outputs": [],
   "source": [
    "import pandas as pd \n",
    "import numpy as np "
   ]
  },
  {
   "cell_type": "code",
   "execution_count": 35,
   "id": "301295b1",
   "metadata": {},
   "outputs": [],
   "source": [
    "data = {\n",
    "    'Name': ['Alice', 'Bob', 'Charlie', 'David', 'Eve'],\n",
    "    'Age': [25, np.nan, 35, 45, 28],\n",
    "    'Gender': ['F', 'M', 'M', 'M', 'F'],\n",
    "    'City': ['Paris', 'London', np.nan, 'New York', 'Berlin'],\n",
    "    'Income': [50000, 54000, 58000, 60000, np.nan]\n",
    "}\n",
    "\n",
    "df = pd.DataFrame(data)"
   ]
  },
  {
   "cell_type": "markdown",
   "id": "8c5b99d6",
   "metadata": {},
   "source": [
    "## Handling Missing Data\n",
    "\n",
    "\n",
    "### 1. Detect Missing Values\n",
    "\n",
    "```python\n",
    "df.isnull()\n",
    "df.isnull().sum()\n",
    "df.notnull()\n",
    "```\n"
   ]
  },
  {
   "cell_type": "code",
   "execution_count": null,
   "id": "d9aa2512",
   "metadata": {},
   "outputs": [
    {
     "data": {
      "text/html": [
       "<div>\n",
       "<style scoped>\n",
       "    .dataframe tbody tr th:only-of-type {\n",
       "        vertical-align: middle;\n",
       "    }\n",
       "\n",
       "    .dataframe tbody tr th {\n",
       "        vertical-align: top;\n",
       "    }\n",
       "\n",
       "    .dataframe thead th {\n",
       "        text-align: right;\n",
       "    }\n",
       "</style>\n",
       "<table border=\"1\" class=\"dataframe\">\n",
       "  <thead>\n",
       "    <tr style=\"text-align: right;\">\n",
       "      <th></th>\n",
       "      <th>Name</th>\n",
       "      <th>Age</th>\n",
       "      <th>Gender</th>\n",
       "      <th>City</th>\n",
       "      <th>Income</th>\n",
       "    </tr>\n",
       "  </thead>\n",
       "  <tbody>\n",
       "    <tr>\n",
       "      <th>0</th>\n",
       "      <td>False</td>\n",
       "      <td>False</td>\n",
       "      <td>False</td>\n",
       "      <td>False</td>\n",
       "      <td>False</td>\n",
       "    </tr>\n",
       "    <tr>\n",
       "      <th>1</th>\n",
       "      <td>False</td>\n",
       "      <td>True</td>\n",
       "      <td>False</td>\n",
       "      <td>False</td>\n",
       "      <td>False</td>\n",
       "    </tr>\n",
       "    <tr>\n",
       "      <th>2</th>\n",
       "      <td>False</td>\n",
       "      <td>False</td>\n",
       "      <td>False</td>\n",
       "      <td>True</td>\n",
       "      <td>False</td>\n",
       "    </tr>\n",
       "    <tr>\n",
       "      <th>3</th>\n",
       "      <td>False</td>\n",
       "      <td>False</td>\n",
       "      <td>False</td>\n",
       "      <td>False</td>\n",
       "      <td>False</td>\n",
       "    </tr>\n",
       "    <tr>\n",
       "      <th>4</th>\n",
       "      <td>False</td>\n",
       "      <td>False</td>\n",
       "      <td>False</td>\n",
       "      <td>False</td>\n",
       "      <td>True</td>\n",
       "    </tr>\n",
       "  </tbody>\n",
       "</table>\n",
       "</div>"
      ],
      "text/plain": [
       "    Name    Age  Gender   City  Income\n",
       "0  False  False   False  False   False\n",
       "1  False   True   False  False   False\n",
       "2  False  False   False   True   False\n",
       "3  False  False   False  False   False\n",
       "4  False  False   False  False    True"
      ]
     },
     "execution_count": 3,
     "metadata": {},
     "output_type": "execute_result"
    }
   ],
   "source": [
    "df.isnull() # Check for null values"
   ]
  },
  {
   "cell_type": "code",
   "execution_count": 4,
   "id": "a4136459",
   "metadata": {},
   "outputs": [
    {
     "data": {
      "text/plain": [
       "Name      0\n",
       "Age       1\n",
       "Gender    0\n",
       "City      1\n",
       "Income    1\n",
       "dtype: int64"
      ]
     },
     "execution_count": 4,
     "metadata": {},
     "output_type": "execute_result"
    }
   ],
   "source": [
    "df.isnull().sum() # Count the number of missing values in each column"
   ]
  },
  {
   "cell_type": "code",
   "execution_count": 5,
   "id": "47a7e3b6",
   "metadata": {},
   "outputs": [
    {
     "data": {
      "text/html": [
       "<div>\n",
       "<style scoped>\n",
       "    .dataframe tbody tr th:only-of-type {\n",
       "        vertical-align: middle;\n",
       "    }\n",
       "\n",
       "    .dataframe tbody tr th {\n",
       "        vertical-align: top;\n",
       "    }\n",
       "\n",
       "    .dataframe thead th {\n",
       "        text-align: right;\n",
       "    }\n",
       "</style>\n",
       "<table border=\"1\" class=\"dataframe\">\n",
       "  <thead>\n",
       "    <tr style=\"text-align: right;\">\n",
       "      <th></th>\n",
       "      <th>Name</th>\n",
       "      <th>Age</th>\n",
       "      <th>Gender</th>\n",
       "      <th>City</th>\n",
       "      <th>Income</th>\n",
       "    </tr>\n",
       "  </thead>\n",
       "  <tbody>\n",
       "    <tr>\n",
       "      <th>0</th>\n",
       "      <td>True</td>\n",
       "      <td>True</td>\n",
       "      <td>True</td>\n",
       "      <td>True</td>\n",
       "      <td>True</td>\n",
       "    </tr>\n",
       "    <tr>\n",
       "      <th>1</th>\n",
       "      <td>True</td>\n",
       "      <td>False</td>\n",
       "      <td>True</td>\n",
       "      <td>True</td>\n",
       "      <td>True</td>\n",
       "    </tr>\n",
       "    <tr>\n",
       "      <th>2</th>\n",
       "      <td>True</td>\n",
       "      <td>True</td>\n",
       "      <td>True</td>\n",
       "      <td>False</td>\n",
       "      <td>True</td>\n",
       "    </tr>\n",
       "    <tr>\n",
       "      <th>3</th>\n",
       "      <td>True</td>\n",
       "      <td>True</td>\n",
       "      <td>True</td>\n",
       "      <td>True</td>\n",
       "      <td>True</td>\n",
       "    </tr>\n",
       "    <tr>\n",
       "      <th>4</th>\n",
       "      <td>True</td>\n",
       "      <td>True</td>\n",
       "      <td>True</td>\n",
       "      <td>True</td>\n",
       "      <td>False</td>\n",
       "    </tr>\n",
       "  </tbody>\n",
       "</table>\n",
       "</div>"
      ],
      "text/plain": [
       "   Name    Age  Gender   City  Income\n",
       "0  True   True    True   True    True\n",
       "1  True  False    True   True    True\n",
       "2  True   True    True  False    True\n",
       "3  True   True    True   True    True\n",
       "4  True   True    True   True   False"
      ]
     },
     "execution_count": 5,
     "metadata": {},
     "output_type": "execute_result"
    }
   ],
   "source": [
    "df.notnull() # Check for non-null values"
   ]
  },
  {
   "cell_type": "markdown",
   "id": "6bb4831a",
   "metadata": {},
   "source": [
    "### 2. Drop Missing Values\n",
    "\n",
    "<code>df.dropna()</code> does not modify the DataFrame unless inplace=True is set.\n",
    "\n",
    "Syntax:\n",
    "\n",
    "```python\n",
    "DataFrame.dropna(axis=0, how='any', thresh=None, subset=None, inplace=False)\n",
    "```\n",
    "\n",
    "> `axis`: 0/'index' -> drop rows; 1/'columns' -> drop columns\n",
    "> \n",
    "> `how`: 'any' -> drop if **any** NaN; 'all' -> drop if **all** NaN\n",
    "> \n",
    "> `thresh`: Keep rows/columns with at least *thresh* non-NaN values\n",
    ">\n",
    "> `subset`: Only consider NaNs in specific columns or rows\n",
    ">\n",
    "> `inplace`: If True, modifies the original DataFrame; default is False"
   ]
  },
  {
   "cell_type": "code",
   "execution_count": 9,
   "id": "34963d6e",
   "metadata": {},
   "outputs": [
    {
     "data": {
      "text/html": [
       "<div>\n",
       "<style scoped>\n",
       "    .dataframe tbody tr th:only-of-type {\n",
       "        vertical-align: middle;\n",
       "    }\n",
       "\n",
       "    .dataframe tbody tr th {\n",
       "        vertical-align: top;\n",
       "    }\n",
       "\n",
       "    .dataframe thead th {\n",
       "        text-align: right;\n",
       "    }\n",
       "</style>\n",
       "<table border=\"1\" class=\"dataframe\">\n",
       "  <thead>\n",
       "    <tr style=\"text-align: right;\">\n",
       "      <th></th>\n",
       "      <th>Name</th>\n",
       "      <th>Age</th>\n",
       "      <th>Gender</th>\n",
       "      <th>City</th>\n",
       "      <th>Income</th>\n",
       "    </tr>\n",
       "  </thead>\n",
       "  <tbody>\n",
       "    <tr>\n",
       "      <th>0</th>\n",
       "      <td>Alice</td>\n",
       "      <td>25.0</td>\n",
       "      <td>F</td>\n",
       "      <td>Paris</td>\n",
       "      <td>50000.0</td>\n",
       "    </tr>\n",
       "    <tr>\n",
       "      <th>1</th>\n",
       "      <td>Bob</td>\n",
       "      <td>NaN</td>\n",
       "      <td>M</td>\n",
       "      <td>London</td>\n",
       "      <td>54000.0</td>\n",
       "    </tr>\n",
       "    <tr>\n",
       "      <th>2</th>\n",
       "      <td>Charlie</td>\n",
       "      <td>35.0</td>\n",
       "      <td>M</td>\n",
       "      <td>NaN</td>\n",
       "      <td>58000.0</td>\n",
       "    </tr>\n",
       "    <tr>\n",
       "      <th>3</th>\n",
       "      <td>David</td>\n",
       "      <td>45.0</td>\n",
       "      <td>M</td>\n",
       "      <td>New York</td>\n",
       "      <td>60000.0</td>\n",
       "    </tr>\n",
       "    <tr>\n",
       "      <th>4</th>\n",
       "      <td>Eve</td>\n",
       "      <td>28.0</td>\n",
       "      <td>F</td>\n",
       "      <td>Berlin</td>\n",
       "      <td>NaN</td>\n",
       "    </tr>\n",
       "  </tbody>\n",
       "</table>\n",
       "</div>"
      ],
      "text/plain": [
       "      Name   Age Gender      City   Income\n",
       "0    Alice  25.0      F     Paris  50000.0\n",
       "1      Bob   NaN      M    London  54000.0\n",
       "2  Charlie  35.0      M       NaN  58000.0\n",
       "3    David  45.0      M  New York  60000.0\n",
       "4      Eve  28.0      F    Berlin      NaN"
      ]
     },
     "execution_count": 9,
     "metadata": {},
     "output_type": "execute_result"
    }
   ],
   "source": [
    "df.dropna(how='all') # Drop rows where all elements are NaN"
   ]
  },
  {
   "cell_type": "markdown",
   "id": "1e608afb",
   "metadata": {},
   "source": [
    "### 3. Replace Missing Values\n",
    "\n",
    "<code>df.fillna()</code>: Fill Missing (NaN) Values\n",
    "\n",
    "```python\n",
    "DataFrame.fillna(value=None, method=None, axis=None, inplace=False, limit=None)\n",
    "```\n",
    "\n",
    "|Parameter|Description|\n",
    "|---------|-----------|\n",
    "|value|Scalar, dict, Series, or DataFrame used to fill missing values|\n",
    "|method|'ffill' (forward fill), 'bfill' (backward fill)|\n",
    "|axis|0 to fill by row, 1 by column|\n",
    "|inplace|If True, modifies the original DataFrame|\n",
    "|limit|Max number of NaNs to fill along the axis|\n"
   ]
  },
  {
   "cell_type": "code",
   "execution_count": 13,
   "id": "f59ad809",
   "metadata": {},
   "outputs": [
    {
     "data": {
      "text/html": [
       "<div>\n",
       "<style scoped>\n",
       "    .dataframe tbody tr th:only-of-type {\n",
       "        vertical-align: middle;\n",
       "    }\n",
       "\n",
       "    .dataframe tbody tr th {\n",
       "        vertical-align: top;\n",
       "    }\n",
       "\n",
       "    .dataframe thead th {\n",
       "        text-align: right;\n",
       "    }\n",
       "</style>\n",
       "<table border=\"1\" class=\"dataframe\">\n",
       "  <thead>\n",
       "    <tr style=\"text-align: right;\">\n",
       "      <th></th>\n",
       "      <th>Name</th>\n",
       "      <th>Age</th>\n",
       "      <th>Gender</th>\n",
       "      <th>City</th>\n",
       "      <th>Income</th>\n",
       "    </tr>\n",
       "  </thead>\n",
       "  <tbody>\n",
       "    <tr>\n",
       "      <th>0</th>\n",
       "      <td>Alice</td>\n",
       "      <td>25.00</td>\n",
       "      <td>F</td>\n",
       "      <td>Paris</td>\n",
       "      <td>50000.0</td>\n",
       "    </tr>\n",
       "    <tr>\n",
       "      <th>1</th>\n",
       "      <td>Bob</td>\n",
       "      <td>33.25</td>\n",
       "      <td>M</td>\n",
       "      <td>London</td>\n",
       "      <td>54000.0</td>\n",
       "    </tr>\n",
       "    <tr>\n",
       "      <th>2</th>\n",
       "      <td>Charlie</td>\n",
       "      <td>35.00</td>\n",
       "      <td>M</td>\n",
       "      <td>Unknown</td>\n",
       "      <td>58000.0</td>\n",
       "    </tr>\n",
       "    <tr>\n",
       "      <th>3</th>\n",
       "      <td>David</td>\n",
       "      <td>45.00</td>\n",
       "      <td>M</td>\n",
       "      <td>New York</td>\n",
       "      <td>60000.0</td>\n",
       "    </tr>\n",
       "    <tr>\n",
       "      <th>4</th>\n",
       "      <td>Eve</td>\n",
       "      <td>28.00</td>\n",
       "      <td>F</td>\n",
       "      <td>Berlin</td>\n",
       "      <td>55500.0</td>\n",
       "    </tr>\n",
       "  </tbody>\n",
       "</table>\n",
       "</div>"
      ],
      "text/plain": [
       "      Name    Age Gender      City   Income\n",
       "0    Alice  25.00      F     Paris  50000.0\n",
       "1      Bob  33.25      M    London  54000.0\n",
       "2  Charlie  35.00      M   Unknown  58000.0\n",
       "3    David  45.00      M  New York  60000.0\n",
       "4      Eve  28.00      F    Berlin  55500.0"
      ]
     },
     "execution_count": 13,
     "metadata": {},
     "output_type": "execute_result"
    }
   ],
   "source": [
    "df.fillna({\n",
    "    'Age': df['Age'].mean(),\n",
    "    'City': 'Unknown',\n",
    "    'Income': df['Income'].mean()\n",
    "}) # Fill NaN values with mean or a specific value"
   ]
  },
  {
   "cell_type": "code",
   "execution_count": 17,
   "id": "56aa5aa9",
   "metadata": {},
   "outputs": [
    {
     "name": "stderr",
     "output_type": "stream",
     "text": [
      "/var/folders/sz/lvk4zx995bs6kc_jydg0r_y40000gn/T/ipykernel_41641/3220267720.py:1: FutureWarning: DataFrame.fillna with 'method' is deprecated and will raise in a future version. Use obj.ffill() or obj.bfill() instead.\n",
      "  df.fillna(method='ffill') # Forward fill NaN values\n"
     ]
    },
    {
     "data": {
      "text/html": [
       "<div>\n",
       "<style scoped>\n",
       "    .dataframe tbody tr th:only-of-type {\n",
       "        vertical-align: middle;\n",
       "    }\n",
       "\n",
       "    .dataframe tbody tr th {\n",
       "        vertical-align: top;\n",
       "    }\n",
       "\n",
       "    .dataframe thead th {\n",
       "        text-align: right;\n",
       "    }\n",
       "</style>\n",
       "<table border=\"1\" class=\"dataframe\">\n",
       "  <thead>\n",
       "    <tr style=\"text-align: right;\">\n",
       "      <th></th>\n",
       "      <th>Name</th>\n",
       "      <th>Age</th>\n",
       "      <th>Gender</th>\n",
       "      <th>City</th>\n",
       "      <th>Income</th>\n",
       "    </tr>\n",
       "  </thead>\n",
       "  <tbody>\n",
       "    <tr>\n",
       "      <th>0</th>\n",
       "      <td>Alice</td>\n",
       "      <td>25.0</td>\n",
       "      <td>F</td>\n",
       "      <td>Paris</td>\n",
       "      <td>50000.0</td>\n",
       "    </tr>\n",
       "    <tr>\n",
       "      <th>1</th>\n",
       "      <td>Bob</td>\n",
       "      <td>25.0</td>\n",
       "      <td>M</td>\n",
       "      <td>London</td>\n",
       "      <td>54000.0</td>\n",
       "    </tr>\n",
       "    <tr>\n",
       "      <th>2</th>\n",
       "      <td>Charlie</td>\n",
       "      <td>35.0</td>\n",
       "      <td>M</td>\n",
       "      <td>London</td>\n",
       "      <td>58000.0</td>\n",
       "    </tr>\n",
       "    <tr>\n",
       "      <th>3</th>\n",
       "      <td>David</td>\n",
       "      <td>45.0</td>\n",
       "      <td>M</td>\n",
       "      <td>New York</td>\n",
       "      <td>60000.0</td>\n",
       "    </tr>\n",
       "    <tr>\n",
       "      <th>4</th>\n",
       "      <td>Eve</td>\n",
       "      <td>28.0</td>\n",
       "      <td>F</td>\n",
       "      <td>Berlin</td>\n",
       "      <td>60000.0</td>\n",
       "    </tr>\n",
       "  </tbody>\n",
       "</table>\n",
       "</div>"
      ],
      "text/plain": [
       "      Name   Age Gender      City   Income\n",
       "0    Alice  25.0      F     Paris  50000.0\n",
       "1      Bob  25.0      M    London  54000.0\n",
       "2  Charlie  35.0      M    London  58000.0\n",
       "3    David  45.0      M  New York  60000.0\n",
       "4      Eve  28.0      F    Berlin  60000.0"
      ]
     },
     "execution_count": 17,
     "metadata": {},
     "output_type": "execute_result"
    }
   ],
   "source": [
    "df.fillna(method='ffill') # Forward fill NaN values\n",
    "# Same as LOCF (Last Observation Carried Forward)"
   ]
  },
  {
   "cell_type": "markdown",
   "id": "52eb2269",
   "metadata": {},
   "source": [
    "<code>df.replace()</code>: Replace Specific Values (NaN or Not)\n",
    "\n",
    "```python\n",
    "DataFrame.replace(to_replace=None, value=None, inplace=False, limit=None, regex=False)\n",
    "```\n",
    "\n",
    "|Parameter|Description|\n",
    "|---------|-----------|\n",
    "|to_replace|Value(s) to find (can be single value, list, dict, regex)|\n",
    "|value|What to replace to_replace with|\n",
    "|inplace|If True, modifies the original DataFrame|\n",
    "|regex|Whether to interpret to_replace as a regular expression|"
   ]
  },
  {
   "cell_type": "code",
   "execution_count": 20,
   "id": "edd56be1",
   "metadata": {},
   "outputs": [],
   "source": [
    "df1 = pd.DataFrame({\n",
    "    'Status': ['yes', 'no', 'n/a', 'none', 'yes'],\n",
    "    'Score': [1, 2, -999, np.nan, 3]\n",
    "})"
   ]
  },
  {
   "cell_type": "code",
   "execution_count": 21,
   "id": "e9a7ba37",
   "metadata": {},
   "outputs": [
    {
     "data": {
      "text/html": [
       "<div>\n",
       "<style scoped>\n",
       "    .dataframe tbody tr th:only-of-type {\n",
       "        vertical-align: middle;\n",
       "    }\n",
       "\n",
       "    .dataframe tbody tr th {\n",
       "        vertical-align: top;\n",
       "    }\n",
       "\n",
       "    .dataframe thead th {\n",
       "        text-align: right;\n",
       "    }\n",
       "</style>\n",
       "<table border=\"1\" class=\"dataframe\">\n",
       "  <thead>\n",
       "    <tr style=\"text-align: right;\">\n",
       "      <th></th>\n",
       "      <th>Status</th>\n",
       "      <th>Score</th>\n",
       "    </tr>\n",
       "  </thead>\n",
       "  <tbody>\n",
       "    <tr>\n",
       "      <th>0</th>\n",
       "      <td>yes</td>\n",
       "      <td>1.0</td>\n",
       "    </tr>\n",
       "    <tr>\n",
       "      <th>1</th>\n",
       "      <td>no</td>\n",
       "      <td>2.0</td>\n",
       "    </tr>\n",
       "    <tr>\n",
       "      <th>2</th>\n",
       "      <td>NaN</td>\n",
       "      <td>-999.0</td>\n",
       "    </tr>\n",
       "    <tr>\n",
       "      <th>3</th>\n",
       "      <td>NaN</td>\n",
       "      <td>NaN</td>\n",
       "    </tr>\n",
       "    <tr>\n",
       "      <th>4</th>\n",
       "      <td>yes</td>\n",
       "      <td>3.0</td>\n",
       "    </tr>\n",
       "  </tbody>\n",
       "</table>\n",
       "</div>"
      ],
      "text/plain": [
       "  Status  Score\n",
       "0    yes    1.0\n",
       "1     no    2.0\n",
       "2    NaN -999.0\n",
       "3    NaN    NaN\n",
       "4    yes    3.0"
      ]
     },
     "execution_count": 21,
     "metadata": {},
     "output_type": "execute_result"
    }
   ],
   "source": [
    "df1.replace(['n/a', 'none'], np.nan) # Replace specific values with NaN"
   ]
  },
  {
   "cell_type": "code",
   "execution_count": 24,
   "id": "cbfadea3",
   "metadata": {},
   "outputs": [
    {
     "data": {
      "text/html": [
       "<div>\n",
       "<style scoped>\n",
       "    .dataframe tbody tr th:only-of-type {\n",
       "        vertical-align: middle;\n",
       "    }\n",
       "\n",
       "    .dataframe tbody tr th {\n",
       "        vertical-align: top;\n",
       "    }\n",
       "\n",
       "    .dataframe thead th {\n",
       "        text-align: right;\n",
       "    }\n",
       "</style>\n",
       "<table border=\"1\" class=\"dataframe\">\n",
       "  <thead>\n",
       "    <tr style=\"text-align: right;\">\n",
       "      <th></th>\n",
       "      <th>Status</th>\n",
       "      <th>Score</th>\n",
       "    </tr>\n",
       "  </thead>\n",
       "  <tbody>\n",
       "    <tr>\n",
       "      <th>0</th>\n",
       "      <td>yes</td>\n",
       "      <td>1.0</td>\n",
       "    </tr>\n",
       "    <tr>\n",
       "      <th>1</th>\n",
       "      <td>no</td>\n",
       "      <td>2.0</td>\n",
       "    </tr>\n",
       "    <tr>\n",
       "      <th>2</th>\n",
       "      <td>unknown</td>\n",
       "      <td>-999.0</td>\n",
       "    </tr>\n",
       "    <tr>\n",
       "      <th>3</th>\n",
       "      <td>unknown</td>\n",
       "      <td>NaN</td>\n",
       "    </tr>\n",
       "    <tr>\n",
       "      <th>4</th>\n",
       "      <td>yes</td>\n",
       "      <td>3.0</td>\n",
       "    </tr>\n",
       "  </tbody>\n",
       "</table>\n",
       "</div>"
      ],
      "text/plain": [
       "    Status  Score\n",
       "0      yes    1.0\n",
       "1       no    2.0\n",
       "2  unknown -999.0\n",
       "3  unknown    NaN\n",
       "4      yes    3.0"
      ]
     },
     "execution_count": 24,
     "metadata": {},
     "output_type": "execute_result"
    }
   ],
   "source": [
    "df1.replace({'Status': {'n/a': 'unknown', 'none': 'unknown'}}) # Replace specific values with another value"
   ]
  },
  {
   "cell_type": "code",
   "execution_count": 29,
   "id": "061d082e",
   "metadata": {},
   "outputs": [
    {
     "data": {
      "text/html": [
       "<div>\n",
       "<style scoped>\n",
       "    .dataframe tbody tr th:only-of-type {\n",
       "        vertical-align: middle;\n",
       "    }\n",
       "\n",
       "    .dataframe tbody tr th {\n",
       "        vertical-align: top;\n",
       "    }\n",
       "\n",
       "    .dataframe thead th {\n",
       "        text-align: right;\n",
       "    }\n",
       "</style>\n",
       "<table border=\"1\" class=\"dataframe\">\n",
       "  <thead>\n",
       "    <tr style=\"text-align: right;\">\n",
       "      <th></th>\n",
       "      <th>Status</th>\n",
       "      <th>Score</th>\n",
       "    </tr>\n",
       "  </thead>\n",
       "  <tbody>\n",
       "    <tr>\n",
       "      <th>0</th>\n",
       "      <td>yes</td>\n",
       "      <td>1.0</td>\n",
       "    </tr>\n",
       "    <tr>\n",
       "      <th>1</th>\n",
       "      <td>no_o</td>\n",
       "      <td>2.0</td>\n",
       "    </tr>\n",
       "    <tr>\n",
       "      <th>2</th>\n",
       "      <td>no_/a</td>\n",
       "      <td>-999.0</td>\n",
       "    </tr>\n",
       "    <tr>\n",
       "      <th>3</th>\n",
       "      <td>no_one</td>\n",
       "      <td>NaN</td>\n",
       "    </tr>\n",
       "    <tr>\n",
       "      <th>4</th>\n",
       "      <td>yes</td>\n",
       "      <td>3.0</td>\n",
       "    </tr>\n",
       "  </tbody>\n",
       "</table>\n",
       "</div>"
      ],
      "text/plain": [
       "   Status  Score\n",
       "0     yes    1.0\n",
       "1    no_o    2.0\n",
       "2   no_/a -999.0\n",
       "3  no_one    NaN\n",
       "4     yes    3.0"
      ]
     },
     "execution_count": 29,
     "metadata": {},
     "output_type": "execute_result"
    }
   ],
   "source": [
    "df1.replace(to_replace='^n', value='no_', regex=True) # Replace values matching a regex pattern\n",
    "\n",
    "# ^n matches any string starting with 'n'\n",
    "# ^n.* matches any string starting with 'n' followed by any characters "
   ]
  },
  {
   "cell_type": "markdown",
   "id": "b874fafa",
   "metadata": {},
   "source": [
    "#### Notes & Tips\n",
    "\n",
    "- `fillna()` is **only for NaN** values.\n",
    "- `replace()` can be used **for any value**, not just NaN.\n",
    "- Always check inplace=True if you want to modify the original DataFrame.\n",
    "- Use `df.isnull().sum()` to check for remaining NaNs."
   ]
  },
  {
   "cell_type": "markdown",
   "id": "1e63c515",
   "metadata": {},
   "source": [
    "## Data Type Conversion\n",
    "\n",
    "Data type conversion is essential to ensure data is in the correct format for analysis and modeling.\n",
    "\n",
    "Check Current Data Types using `df.dtypes`\n",
    "\n",
    "- To integer/float: astype(int), astype(float)\n",
    "- To datetime: pd.to_datetime()\n",
    "- To category: astype('category')\n",
    "- To string: astype(str)\n",
    "- To boolean: astype(bool)"
   ]
  },
  {
   "cell_type": "code",
   "execution_count": 30,
   "id": "ad93a9a5",
   "metadata": {},
   "outputs": [
    {
     "name": "stdout",
     "output_type": "stream",
     "text": [
      "Age                  int64\n",
      "JoinDate    datetime64[ns]\n",
      "dtype: object\n"
     ]
    }
   ],
   "source": [
    "df2 = pd.DataFrame({\n",
    "    'Age': ['25', '30', '40'],\n",
    "    'JoinDate': ['2020-01-01', '2019-06-15', '2021-03-22']\n",
    "})\n",
    "\n",
    "df2['Age'] = df2['Age'].astype(int)\n",
    "df2['JoinDate'] = pd.to_datetime(df2['JoinDate'])\n",
    "\n",
    "print(df2.dtypes)"
   ]
  },
  {
   "cell_type": "markdown",
   "id": "fd354292",
   "metadata": {},
   "source": [
    "## Data Normalization & Standardization\n",
    "\n",
    "Normalization and standardization help scale features to make machine learning algorithms perform better.\n",
    "\n",
    "| Method           | Goal                         | Range         | When to Use                             |\n",
    "|------------------|------------------------------|---------------|------------------------------------------|\n",
    "| Normalization    | Rescale to [0, 1]            | [0, 1]        | When features have different scales      |\n",
    "| Standardization  | Center to mean=0, std=1      | Mean=0, SD=1  | When data has Gaussian distribution      |\n",
    "\n",
    "\n"
   ]
  },
  {
   "cell_type": "markdown",
   "id": "18e7df19",
   "metadata": {},
   "source": [
    "### MinMaxScaler\n",
    "\n",
    "Transform features by scaling each feature to a given range, usually [0, 1].\n",
    "\n",
    "It subtracts the minimum value and divides by the range (max - min) for each feature. \n",
    "\n",
    "`x_scaled = (x - x.min()) / (x.max() - x.min())`\n",
    "\n",
    "This ensures that all features contribute equally to the distance calculations in algorithms like k-NN or gradient descent-based methods."
   ]
  },
  {
   "cell_type": "code",
   "execution_count": 33,
   "id": "5e5a76ed",
   "metadata": {},
   "outputs": [],
   "source": [
    "from sklearn.preprocessing import MinMaxScaler"
   ]
  },
  {
   "cell_type": "code",
   "execution_count": null,
   "id": "748278f7",
   "metadata": {},
   "outputs": [
    {
     "name": "stdout",
     "output_type": "stream",
     "text": [
      "   Height  Weight\n",
      "0    0.00   0.000\n",
      "1    0.40   0.500\n",
      "2    0.80   1.000\n",
      "3    1.00   0.750\n",
      "4    0.92   0.625\n",
      "5    0.60   0.875\n"
     ]
    }
   ],
   "source": [
    "# min-max scaling\n",
    "# Scale the 'Height' and 'Weight' columns to a range of [0, 1]\n",
    "df3 = pd.DataFrame({\n",
    "    'Height': [150, 160, 170, 175, 173, 165],\n",
    "    'Weight': [60, 80, 100, 90, 85, 95]\n",
    "})\n",
    "\n",
    "scaler = MinMaxScaler()\n",
    "df_scaled = pd.DataFrame(scaler.fit_transform(df3), columns=['Height', 'Weight'])\n",
    "\n",
    "print(df_scaled)"
   ]
  },
  {
   "cell_type": "markdown",
   "id": "d32cea91",
   "metadata": {},
   "source": [
    "#### Z-score Standardization (StandardScaler): \n",
    "\n",
    "Scales features to have a mean of 0 and a standard deviation of 1\n",
    "\n",
    "`z = (x - mean) / std`"
   ]
  },
  {
   "cell_type": "code",
   "execution_count": 44,
   "id": "25fe4edc",
   "metadata": {},
   "outputs": [
    {
     "name": "stdout",
     "output_type": "stream",
     "text": [
      "     Height    Weight\n",
      "0 -1.815174 -1.936492\n",
      "1 -0.644094 -0.387298\n",
      "2  0.526986  1.161895\n",
      "3  1.112526  0.387298\n",
      "4  0.878310  0.000000\n",
      "5 -0.058554  0.774597\n"
     ]
    }
   ],
   "source": [
    "# Z-score Standardization (StandardScaler)\n",
    "from sklearn.preprocessing import StandardScaler\n",
    "\n",
    "scaler = StandardScaler()\n",
    "df_std = pd.DataFrame(scaler.fit_transform(df3), columns=['Height', 'Weight'])\n",
    "\n",
    "print(df_std)"
   ]
  },
  {
   "cell_type": "markdown",
   "id": "f83ec8d0",
   "metadata": {},
   "source": [
    "#### MaxAbs Scaling: \n",
    "\n",
    "Scales each feature by its maximum absolute value\n",
    "\n",
    "`x_scaled = x / max(|x|)`\n"
   ]
  },
  {
   "cell_type": "code",
   "execution_count": 43,
   "id": "66558eff",
   "metadata": {},
   "outputs": [
    {
     "name": "stdout",
     "output_type": "stream",
     "text": [
      "     Height  Weight\n",
      "0  0.857143    0.60\n",
      "1  0.914286    0.80\n",
      "2  0.971429    1.00\n",
      "3  1.000000    0.90\n",
      "4  0.988571    0.85\n",
      "5  0.942857    0.95\n"
     ]
    }
   ],
   "source": [
    "# MaxAbsScaler example\n",
    "# Scale the 'Height' and 'Weight' columns to the range [-1, 1]\n",
    "from sklearn.preprocessing import MaxAbsScaler\n",
    "\n",
    "scaler = MaxAbsScaler()\n",
    "df_maxabs = pd.DataFrame(scaler.fit_transform(df3), columns=['Height', 'Weight'])\n",
    "\n",
    "print(df_maxabs)"
   ]
  },
  {
   "cell_type": "markdown",
   "id": "bd59b5e1",
   "metadata": {},
   "source": [
    "## Binning (Discretization)\n",
    "\n",
    "**Binning** is the process of transforming continuous numerical variables into discrete categories.\n",
    "\n",
    "- To reduce the effect of minor observation errors.\n",
    "- To convert numerical data into categorical for modeling or visualization.\n",
    "- To make models less sensitive to outliers.\n",
    "- For grouped statistical analysis (e.g., age groups, income ranges)."
   ]
  },
  {
   "cell_type": "markdown",
   "id": "bd5c7014",
   "metadata": {},
   "source": [
    "##### Examples with `pd.cut`, `pd.qcut`, and custom bins:"
   ]
  },
  {
   "cell_type": "code",
   "execution_count": null,
   "id": "8f0f64a1",
   "metadata": {},
   "outputs": [
    {
     "name": "stdout",
     "output_type": "stream",
     "text": [
      "   Age     AgeGroup\n",
      "0   12        Child\n",
      "1   22  Young Adult\n",
      "2   37        Adult\n",
      "3   45        Adult\n",
      "4   55        Adult\n",
      "5   67       Senior\n",
      "6   80       Senior\n"
     ]
    }
   ],
   "source": [
    "# Example 1: Categorical Encoding with pd.cut\n",
    "# Create bins for the 'Age' column and label them\n",
    "df4 = pd.DataFrame({'Age': [12, 22, 37, 45, 55, 67, 80]})\n",
    "\n",
    "df4['AgeGroup'] = pd.cut(df4['Age'], bins=[0, 18, 35, 60, 100], \n",
    "                        labels=['Child', 'Young Adult', 'Adult', 'Senior'])\n",
    "\n",
    "print(df4)"
   ]
  },
  {
   "cell_type": "code",
   "execution_count": null,
   "id": "b31585db",
   "metadata": {},
   "outputs": [
    {
     "name": "stdout",
     "output_type": "stream",
     "text": [
      "   Income IncomeQuartile\n",
      "0      25             Q1\n",
      "1      30             Q1\n",
      "2      35             Q2\n",
      "3      45             Q2\n",
      "4      55             Q3\n",
      "5      70             Q4\n",
      "6     100             Q4\n"
     ]
    }
   ],
   "source": [
    "# Example 2: Quantile-based Binning with pd.qcut\n",
    "# Create quartiles for the 'Income' column and label them\n",
    "df5 = pd.DataFrame({'Income': [25, 30, 35, 45, 55, 70, 100]})\n",
    "\n",
    "df5['IncomeQuartile'] = pd.qcut(df5['Income'], q=4, labels=['Q1', 'Q2', 'Q3', 'Q4'])\n",
    "\n",
    "print(df5)"
   ]
  },
  {
   "cell_type": "code",
   "execution_count": 49,
   "id": "0d80d890",
   "metadata": {},
   "outputs": [
    {
     "name": "stdout",
     "output_type": "stream",
     "text": [
      "   Value  Binned\n",
      "0     10     Low\n",
      "1     25  Medium\n",
      "2     40  Medium\n",
      "3     55    High\n",
      "4     70    High\n"
     ]
    }
   ],
   "source": [
    "# Example 3: Custom Manual Binning\n",
    "def custom_binning(value):\n",
    "    if value < 20:\n",
    "        return 'Low'\n",
    "    elif 20 <= value < 50:\n",
    "        return 'Medium'\n",
    "    else:\n",
    "        return 'High'\n",
    "\n",
    "df6 = pd.DataFrame({'Value': [10, 25, 40, 55, 70]})\n",
    "df6['Binned'] = df6['Value'].apply(custom_binning)\n",
    "\n",
    "print(df6)"
   ]
  },
  {
   "cell_type": "code",
   "execution_count": 50,
   "id": "5cdf117a",
   "metadata": {},
   "outputs": [
    {
     "name": "stdout",
     "output_type": "stream",
     "text": [
      "   Value  Binned   Level\n",
      "0     10     Low     Low\n",
      "1     25  Medium  Medium\n",
      "2     40  Medium  Medium\n",
      "3     55    High    High\n",
      "4     70    High    High\n"
     ]
    }
   ],
   "source": [
    "bins = [0, 20, 50, 100]\n",
    "labels = ['Low', 'Medium', 'High']\n",
    "\n",
    "df6['Level'] = pd.cut(df6['Value'], bins=bins, labels=labels)\n",
    "\n",
    "print(df6)"
   ]
  },
  {
   "cell_type": "code",
   "execution_count": 51,
   "id": "0677d13f",
   "metadata": {},
   "outputs": [
    {
     "name": "stdout",
     "output_type": "stream",
     "text": [
      "Level\n",
      "Medium    2\n",
      "High      2\n",
      "Low       1\n",
      "Name: count, dtype: int64\n"
     ]
    }
   ],
   "source": [
    "# Use .value_counts() to count occurrences of each bin\n",
    "print(df6['Level'].value_counts())"
   ]
  },
  {
   "cell_type": "markdown",
   "id": "aadc1ee7",
   "metadata": {},
   "source": [
    "## Indicator Variables (Dummy Variables)\n",
    "\n",
    "**Indicator variables** are binary variables (0 or 1) that represent the presence of a specific category in a categorical variable.\n",
    "\n",
    "Also known as:  \n",
    "- Dummy variables  \n",
    "- One-hot encoded variables  "
   ]
  },
  {
   "cell_type": "code",
   "execution_count": null,
   "id": "1b166b5a",
   "metadata": {},
   "outputs": [
    {
     "name": "stdout",
     "output_type": "stream",
     "text": [
      "      Name   Age Gender      City   Income  Gender_F  Gender_M\n",
      "0    Alice  25.0      F     Paris  50000.0      True     False\n",
      "1      Bob   NaN      M    London  54000.0     False      True\n",
      "2  Charlie  35.0      M       NaN  58000.0     False      True\n",
      "3    David  45.0      M  New York  60000.0     False      True\n",
      "4      Eve  28.0      F    Berlin      NaN      True     False\n"
     ]
    }
   ],
   "source": [
    "# Example of One-Hot Encoding using pd.get_dummies\n",
    "dummies = pd.get_dummies(df['Gender'], prefix='Gender')\n",
    "\n",
    "df_combined = pd.concat([df, dummies], axis=1)\n",
    "\n",
    "print(df_combined)"
   ]
  },
  {
   "cell_type": "code",
   "execution_count": 58,
   "id": "744f4d14",
   "metadata": {},
   "outputs": [
    {
     "name": "stdout",
     "output_type": "stream",
     "text": [
      "   Value  Binned   Level  Binned_High  Binned_Low  Binned_Medium\n",
      "0     10     Low     Low            0           1              0\n",
      "1     25  Medium  Medium            0           0              1\n",
      "2     40  Medium  Medium            0           0              1\n",
      "3     55    High    High            1           0              0\n",
      "4     70    High    High            1           0              0\n"
     ]
    }
   ],
   "source": [
    "# Example of One-Hot Encoding using pd.get_dummies\n",
    "dummies = pd.get_dummies(df6['Binned'], prefix='Binned', dtype='int')\n",
    "\n",
    "df_combined = pd.concat([df6, dummies], axis=1)\n",
    "\n",
    "print(df_combined)"
   ]
  },
  {
   "cell_type": "markdown",
   "id": "a9dc0b30",
   "metadata": {},
   "source": [
    "# Thanks for reading!\n",
    "\n",
    "#### Written by @hellorito"
   ]
  }
 ],
 "metadata": {
  "kernelspec": {
   "display_name": "myenv311",
   "language": "python",
   "name": "python3"
  },
  "language_info": {
   "codemirror_mode": {
    "name": "ipython",
    "version": 3
   },
   "file_extension": ".py",
   "mimetype": "text/x-python",
   "name": "python",
   "nbconvert_exporter": "python",
   "pygments_lexer": "ipython3",
   "version": "3.11.13"
  }
 },
 "nbformat": 4,
 "nbformat_minor": 5
}
