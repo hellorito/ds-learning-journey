{
 "cells": [
  {
   "cell_type": "markdown",
   "id": "a3254a7d",
   "metadata": {},
   "source": [
    "# Python Data Analysis Notes: Importing & Exploring Datasets\n",
    "\n",
    "## 🔧 Setup"
   ]
  },
  {
   "cell_type": "code",
   "execution_count": 2,
   "id": "b2af629d",
   "metadata": {},
   "outputs": [],
   "source": [
    "import pandas as pd\n",
    "import numpy as np"
   ]
  },
  {
   "cell_type": "markdown",
   "id": "637b0c35",
   "metadata": {},
   "source": [
    "#### Common Data Format I/O Table\n",
    "\n",
    "| Format   | Read Function                        | Save Function                     | Example File          |\n",
    "|----------|--------------------------------------|-----------------------------------|------------------------|\n",
    "| CSV      | `pd.read_csv()`                      | `df.to_csv()`                     | `data.csv`             |\n",
    "| Excel    | `pd.read_excel()`                    | `df.to_excel()`                   | `data.xlsx`            |\n",
    "| TSV      | `pd.read_csv(sep='\\t')`              | `df.to_csv(sep='\\t')`             | `data.tsv`             |\n",
    "| JSON     | `pd.read_json()`                     | `df.to_json()`                    | `data.json`            |\n",
    "| SQL      | `pd.read_sql()`                      | `df.to_sql()`                     | SQLite / SQLAlchemy    |\n",
    "| Pickle   | `pd.read_pickle()`                   | `df.to_pickle()`                  | `data.pkl`             |\n",
    "| Parquet  | `pd.read_parquet()`                  | `df.to_parquet()`                 | `data.parquet`         |\n",
    "| Feather  | `pd.read_feather()`                  | `df.to_feather()`                 | `data.feather`         |\n",
    "| NumPy    | `np.loadtxt()` / `np.genfromtxt()`   | `np.savetxt()`                    | `array.txt`            |\n",
    "| ZIP/GZ   | `pd.read_csv(compression='zip'/'gzip')`     | `df.to_csv(compression='zip'/'gzip')`    | `data.zip`, `data.csv.gz` |"
   ]
  },
  {
   "cell_type": "markdown",
   "id": "d7e63ab0",
   "metadata": {},
   "source": [
    "#### Options\n",
    "\n",
    "**Example:**\n",
    "\n",
    "```python\n",
    "df = pd.read_csv('data/sample.csv', \n",
    "                 sep=',',           # delimiter\n",
    "                 header=0,          # the 1st row to use as header\n",
    "                 index_col=0,       # the 1st column to use as index\n",
    "                 na_values=['NA', '?'],  # handle missing values\n",
    "                 dtype={'col1': int}     # set column types\n",
    "                )\n",
    "```"
   ]
  },
  {
   "cell_type": "markdown",
   "id": "606701cf",
   "metadata": {},
   "source": [
    "> **header = None** means no header row \n",
    "> \n",
    "> **na_values** specifies additional strings to recognize as NaN\n",
    "> \n",
    "> **np.nan** is used to represent missing values\n",
    "\n",
    "See below:"
   ]
  },
  {
   "cell_type": "code",
   "execution_count": null,
   "id": "83a0ffc8",
   "metadata": {},
   "outputs": [
    {
     "data": {
      "text/html": [
       "<div>\n",
       "<style scoped>\n",
       "    .dataframe tbody tr th:only-of-type {\n",
       "        vertical-align: middle;\n",
       "    }\n",
       "\n",
       "    .dataframe tbody tr th {\n",
       "        vertical-align: top;\n",
       "    }\n",
       "\n",
       "    .dataframe thead th {\n",
       "        text-align: right;\n",
       "    }\n",
       "</style>\n",
       "<table border=\"1\" class=\"dataframe\">\n",
       "  <thead>\n",
       "    <tr style=\"text-align: right;\">\n",
       "      <th></th>\n",
       "      <th>0</th>\n",
       "      <th>1</th>\n",
       "      <th>2</th>\n",
       "    </tr>\n",
       "  </thead>\n",
       "  <tbody>\n",
       "    <tr>\n",
       "      <th>0</th>\n",
       "      <td>Alice</td>\n",
       "      <td>30</td>\n",
       "      <td>New York</td>\n",
       "    </tr>\n",
       "    <tr>\n",
       "      <th>1</th>\n",
       "      <td>Bob</td>\n",
       "      <td>25</td>\n",
       "      <td>Los Angeles</td>\n",
       "    </tr>\n",
       "    <tr>\n",
       "      <th>2</th>\n",
       "      <td>Charlie</td>\n",
       "      <td>35</td>\n",
       "      <td>Chicago</td>\n",
       "    </tr>\n",
       "    <tr>\n",
       "      <th>3</th>\n",
       "      <td>David</td>\n",
       "      <td>40</td>\n",
       "      <td>NaN</td>\n",
       "    </tr>\n",
       "    <tr>\n",
       "      <th>4</th>\n",
       "      <td>Eva</td>\n",
       "      <td>28</td>\n",
       "      <td>Phoenix</td>\n",
       "    </tr>\n",
       "  </tbody>\n",
       "</table>\n",
       "</div>"
      ],
      "text/plain": [
       "         0   1            2\n",
       "0    Alice  30     New York\n",
       "1      Bob  25  Los Angeles\n",
       "2  Charlie  35      Chicago\n",
       "3    David  40          NaN\n",
       "4      Eva  28      Phoenix"
      ]
     },
     "execution_count": 17,
     "metadata": {},
     "output_type": "execute_result"
    }
   ],
   "source": [
    "# Create a csv file \n",
    "csv_file = 'data/data.csv'\n",
    "with open(csv_file, 'w') as f:\n",
    "    f.write('Alice,30,New York\\n')\n",
    "    f.write('Bob,25,Los Angeles\\n')\n",
    "    f.write('Charlie,35,Chicago\\n')\n",
    "    f.write('David,40,?\\n')\n",
    "    f.write('Eva,28,Phoenix\\n')\n",
    "\n",
    "# Load the csv file\n",
    "data = pd.read_csv(csv_file, header=None, na_values=['?', 'N/A', 'null', np.nan])\n",
    "data.head()\n"
   ]
  },
  {
   "cell_type": "markdown",
   "id": "6a039fc8",
   "metadata": {},
   "source": [
    "We can assign headers to the DataFrame using `df.columns`:"
   ]
  },
  {
   "cell_type": "code",
   "execution_count": 20,
   "id": "2030f14d",
   "metadata": {},
   "outputs": [
    {
     "data": {
      "text/html": [
       "<div>\n",
       "<style scoped>\n",
       "    .dataframe tbody tr th:only-of-type {\n",
       "        vertical-align: middle;\n",
       "    }\n",
       "\n",
       "    .dataframe tbody tr th {\n",
       "        vertical-align: top;\n",
       "    }\n",
       "\n",
       "    .dataframe thead th {\n",
       "        text-align: right;\n",
       "    }\n",
       "</style>\n",
       "<table border=\"1\" class=\"dataframe\">\n",
       "  <thead>\n",
       "    <tr style=\"text-align: right;\">\n",
       "      <th></th>\n",
       "      <th>Name</th>\n",
       "      <th>Age</th>\n",
       "      <th>City</th>\n",
       "    </tr>\n",
       "  </thead>\n",
       "  <tbody>\n",
       "    <tr>\n",
       "      <th>0</th>\n",
       "      <td>Alice</td>\n",
       "      <td>30</td>\n",
       "      <td>New York</td>\n",
       "    </tr>\n",
       "    <tr>\n",
       "      <th>1</th>\n",
       "      <td>Bob</td>\n",
       "      <td>25</td>\n",
       "      <td>Los Angeles</td>\n",
       "    </tr>\n",
       "  </tbody>\n",
       "</table>\n",
       "</div>"
      ],
      "text/plain": [
       "    Name  Age         City\n",
       "0  Alice   30     New York\n",
       "1    Bob   25  Los Angeles"
      ]
     },
     "execution_count": 20,
     "metadata": {},
     "output_type": "execute_result"
    }
   ],
   "source": [
    "# define header names\n",
    "data.columns = ['Name', 'Age', 'City']\n",
    "data.head(2)"
   ]
  },
  {
   "cell_type": "code",
   "execution_count": 19,
   "id": "a4053588",
   "metadata": {},
   "outputs": [
    {
     "name": "stdout",
     "output_type": "stream",
     "text": [
      "<class 'pandas.core.frame.DataFrame'>\n",
      "RangeIndex: 5 entries, 0 to 4\n",
      "Data columns (total 3 columns):\n",
      " #   Column  Non-Null Count  Dtype \n",
      "---  ------  --------------  ----- \n",
      " 0   Name    5 non-null      object\n",
      " 1   Age     5 non-null      int64 \n",
      " 2   City    4 non-null      object\n",
      "dtypes: int64(1), object(2)\n",
      "memory usage: 252.0+ bytes\n"
     ]
    }
   ],
   "source": [
    "data.info() # Display information about the DataFrame"
   ]
  },
  {
   "cell_type": "markdown",
   "id": "98d5bb37",
   "metadata": {},
   "source": [
    "`df.describe(include=, exclude=, percentiles=)` used for Summary statistics for columns\n",
    "\n",
    "> Options:\n",
    "> \n",
    "> By default, it returns count, mean, std, min, 25%, 50%, 75%, and max for numeric columns only\n",
    ">\n",
    "> **include:** `None` by default, including numeric columns only\n",
    "> \n",
    ">`include='all'` includes all columns\n",
    ">\n",
    ">You can also specify the data types (e.g., include = ['object', 'number', 'category'])\n",
    "> \n",
    "> **exclude:** Exclude specific data types (e.g., exclude=['object'])\n",
    "> \n",
    "> **percentiles:** Customize percentiles shown (default: [0.25, 0.5, 0.75])"
   ]
  },
  {
   "cell_type": "code",
   "execution_count": 26,
   "id": "95553275",
   "metadata": {},
   "outputs": [
    {
     "data": {
      "text/html": [
       "<div>\n",
       "<style scoped>\n",
       "    .dataframe tbody tr th:only-of-type {\n",
       "        vertical-align: middle;\n",
       "    }\n",
       "\n",
       "    .dataframe tbody tr th {\n",
       "        vertical-align: top;\n",
       "    }\n",
       "\n",
       "    .dataframe thead th {\n",
       "        text-align: right;\n",
       "    }\n",
       "</style>\n",
       "<table border=\"1\" class=\"dataframe\">\n",
       "  <thead>\n",
       "    <tr style=\"text-align: right;\">\n",
       "      <th></th>\n",
       "      <th>Name</th>\n",
       "      <th>Age</th>\n",
       "      <th>City</th>\n",
       "    </tr>\n",
       "  </thead>\n",
       "  <tbody>\n",
       "    <tr>\n",
       "      <th>count</th>\n",
       "      <td>5</td>\n",
       "      <td>5.00000</td>\n",
       "      <td>4</td>\n",
       "    </tr>\n",
       "    <tr>\n",
       "      <th>unique</th>\n",
       "      <td>5</td>\n",
       "      <td>NaN</td>\n",
       "      <td>4</td>\n",
       "    </tr>\n",
       "    <tr>\n",
       "      <th>top</th>\n",
       "      <td>Alice</td>\n",
       "      <td>NaN</td>\n",
       "      <td>New York</td>\n",
       "    </tr>\n",
       "    <tr>\n",
       "      <th>freq</th>\n",
       "      <td>1</td>\n",
       "      <td>NaN</td>\n",
       "      <td>1</td>\n",
       "    </tr>\n",
       "    <tr>\n",
       "      <th>mean</th>\n",
       "      <td>NaN</td>\n",
       "      <td>31.60000</td>\n",
       "      <td>NaN</td>\n",
       "    </tr>\n",
       "    <tr>\n",
       "      <th>std</th>\n",
       "      <td>NaN</td>\n",
       "      <td>5.94138</td>\n",
       "      <td>NaN</td>\n",
       "    </tr>\n",
       "    <tr>\n",
       "      <th>min</th>\n",
       "      <td>NaN</td>\n",
       "      <td>25.00000</td>\n",
       "      <td>NaN</td>\n",
       "    </tr>\n",
       "    <tr>\n",
       "      <th>25%</th>\n",
       "      <td>NaN</td>\n",
       "      <td>28.00000</td>\n",
       "      <td>NaN</td>\n",
       "    </tr>\n",
       "    <tr>\n",
       "      <th>50%</th>\n",
       "      <td>NaN</td>\n",
       "      <td>30.00000</td>\n",
       "      <td>NaN</td>\n",
       "    </tr>\n",
       "    <tr>\n",
       "      <th>75%</th>\n",
       "      <td>NaN</td>\n",
       "      <td>35.00000</td>\n",
       "      <td>NaN</td>\n",
       "    </tr>\n",
       "    <tr>\n",
       "      <th>max</th>\n",
       "      <td>NaN</td>\n",
       "      <td>40.00000</td>\n",
       "      <td>NaN</td>\n",
       "    </tr>\n",
       "  </tbody>\n",
       "</table>\n",
       "</div>"
      ],
      "text/plain": [
       "         Name       Age      City\n",
       "count       5   5.00000         4\n",
       "unique      5       NaN         4\n",
       "top     Alice       NaN  New York\n",
       "freq        1       NaN         1\n",
       "mean      NaN  31.60000       NaN\n",
       "std       NaN   5.94138       NaN\n",
       "min       NaN  25.00000       NaN\n",
       "25%       NaN  28.00000       NaN\n",
       "50%       NaN  30.00000       NaN\n",
       "75%       NaN  35.00000       NaN\n",
       "max       NaN  40.00000       NaN"
      ]
     },
     "execution_count": 26,
     "metadata": {},
     "output_type": "execute_result"
    }
   ],
   "source": [
    "data.describe(include='all') # Get a statistical summary of the DataFrame"
   ]
  },
  {
   "cell_type": "markdown",
   "id": "ca709082",
   "metadata": {},
   "source": [
    "Check missing values per column:"
   ]
  },
  {
   "cell_type": "code",
   "execution_count": 27,
   "id": "a2e2ba37",
   "metadata": {},
   "outputs": [
    {
     "data": {
      "text/plain": [
       "Name    0\n",
       "Age     0\n",
       "City    1\n",
       "dtype: int64"
      ]
     },
     "execution_count": 27,
     "metadata": {},
     "output_type": "execute_result"
    }
   ],
   "source": [
    "data.isnull().sum()"
   ]
  },
  {
   "cell_type": "markdown",
   "id": "66cc5126",
   "metadata": {},
   "source": [
    "# Thanks for reading!\n",
    "\n",
    "#### Written by @hellorito"
   ]
  },
  {
   "cell_type": "markdown",
   "id": "580098e4",
   "metadata": {},
   "source": []
  }
 ],
 "metadata": {
  "kernelspec": {
   "display_name": "myenv311",
   "language": "python",
   "name": "python3"
  },
  "language_info": {
   "codemirror_mode": {
    "name": "ipython",
    "version": 3
   },
   "file_extension": ".py",
   "mimetype": "text/x-python",
   "name": "python",
   "nbconvert_exporter": "python",
   "pygments_lexer": "ipython3",
   "version": "3.11.13"
  }
 },
 "nbformat": 4,
 "nbformat_minor": 5
}
